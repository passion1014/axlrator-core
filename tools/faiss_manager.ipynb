{
 "cells": [
  {
   "cell_type": "markdown",
   "metadata": {},
   "source": [
    "# FAISS 관리\n",
    "\n",
    "## FAISS 저장시 생기는 파일\n",
    "### 1. **.faiss 파일**\n",
    "- **내용**: `.faiss` 파일은 FAISS 인덱스를 저장. 벡터 데이터에 대한 인덱스 구조와 해당 데이터를 검색하기 위한 최적화된 인덱스를 포함.\n",
    "- **용도**: 인덱스를 다시 로드하여 검색 작업을 수행할 수 있다. 이 파일만 있으면 벡터 데이터에 대한 검색 작업을 다시 수행할 수 있다.\n",
    "\n",
    "### 2. **.pkl 파일**\n",
    "- **내용**: `.pkl` 파일은 일반적으로 Python에서 사용하는 피클(pickle) 파일 형식으로 주로 벡터 데이터의 메타정보 또는 인덱스와 관련된 추가 데이터가 저장. 예를 들어, 벡터에 대한 ID, 메타데이터, 인덱스 구성 설정 등이 포함된다.\n",
    "- **용도**: `.pkl` 파일은 Python 객체를 직렬화하여 저장한 것으로, 인덱스를 다시 로드할 때 사용된다. 이를 통해 검색 과정에서 필요한 부가적인 정보나 설정을 복원할 수 있다.\n",
    "\n",
    "### 요약\n",
    "- **.faiss 파일**: 벡터 인덱스 데이터를 저장하는 파일로, 벡터 검색 작업에 직접 사용.\n",
    "- **.pkl 파일**: Python 객체의 직렬화된 데이터를 저장하는 파일로, 인덱스와 관련된 메타정보나 설정을 포함.\n",
    "\n",
    "이 파일들은 함께 사용되어 벡터 검색 작업을 빠르게 수행할 수 있도록 한다. 인덱스를 로드할 때 두 파일을 모두 사용하여 완전한 검색 환경을 복원할 수 있다."
   ]
  },
  {
   "cell_type": "code",
   "execution_count": 2,
   "metadata": {},
   "outputs": [
    {
     "name": "stdout",
     "output_type": "stream",
     "text": [
      "Requirement already satisfied: chardet in /Users/passion1014/anaconda3/envs/ragserver/lib/python3.12/site-packages (5.2.0)\n"
     ]
    }
   ],
   "source": [
    "# 한번만 수행하면 됨\n",
    "# 필요한 라이브러리 설치\n",
    "# !pip install chardet"
   ]
  },
  {
   "cell_type": "markdown",
   "metadata": {},
   "source": [
    "# 변수 선언"
   ]
  },
  {
   "cell_type": "code",
   "execution_count": 20,
   "metadata": {},
   "outputs": [],
   "source": [
    "# 경로 추가\n",
    "import sys\n",
    "import os\n",
    "from langchain.embeddings import OllamaEmbeddings\n",
    "sys.path.append(os.path.dirname(os.getcwd()))\n",
    "\n",
    "# 변수 선언\n",
    "ROOT_PATH = '/Users/passion1014/project/langchain/rag_server'\n",
    "INDEX_ID = \"news01\" # VectorDB INDEX 명\n",
    "FILE_NAME = f'{INDEX_ID}.txt' # 파일이름\n",
    "\n",
    "# 임베딩 선언\n",
    "embeddings = OllamaEmbeddings( # embeddings = OpenAIEmbeddings()\n",
    "    model=\"nomic-embed-text\",\n",
    "    base_url=\"http://localhost:11434\"  # Ollama의 기본 URL입니다. 필요에 따라 변경하세요.\n",
    ")\n"
   ]
  },
  {
   "cell_type": "markdown",
   "metadata": {},
   "source": [
    "# 데이터 저장"
   ]
  },
  {
   "cell_type": "code",
   "execution_count": 51,
   "metadata": {},
   "outputs": [
    {
     "name": "stderr",
     "output_type": "stream",
     "text": [
      "Created a chunk of size 119, which is longer than the specified 100\n",
      "Created a chunk of size 117, which is longer than the specified 100\n",
      "Created a chunk of size 184, which is longer than the specified 100\n",
      "Created a chunk of size 112, which is longer than the specified 100\n",
      "Created a chunk of size 138, which is longer than the specified 100\n",
      "Created a chunk of size 202, which is longer than the specified 100\n",
      "Created a chunk of size 145, which is longer than the specified 100\n",
      "Created a chunk of size 157, which is longer than the specified 100\n",
      "Created a chunk of size 147, which is longer than the specified 100\n",
      "Created a chunk of size 130, which is longer than the specified 100\n",
      "Created a chunk of size 123, which is longer than the specified 100\n",
      "Created a chunk of size 128, which is longer than the specified 100\n",
      "Created a chunk of size 220, which is longer than the specified 100\n",
      "Created a chunk of size 127, which is longer than the specified 100\n",
      "Created a chunk of size 137, which is longer than the specified 100\n"
     ]
    },
    {
     "name": "stdout",
     "output_type": "stream",
     "text": [
      "FAISS 인덱스를 '/Users/passion1014/project/langchain/rag_server/vectordb/news01'에 저장했습니다.\n"
     ]
    }
   ],
   "source": [
    "from langchain.text_splitter import CharacterTextSplitter\n",
    "from langchain_community.vectorstores import FAISS\n",
    "from dotenv import load_dotenv\n",
    "import chardet\n",
    "import argparse\n",
    "from tools import upload_vectordb\n",
    "\n",
    "# upload_vectordb.main(f'{ROOT_PATH}/data/{INDEX_ID}.txt', INDEX_ID)\n",
    "\n",
    "# 파일 내용 로드 및 처리\n",
    "text = upload_vectordb.load_and_detect_encoding(f'{ROOT_PATH}/data/{INDEX_ID}.txt')\n",
    "\n",
    "\n",
    "# 2. 의미별로 chunk로 나누기\n",
    "text_splitter = CharacterTextSplitter(chunk_size=100, chunk_overlap=10)\n",
    "chunks = text_splitter.split_text(text)\n",
    "\n",
    "# 각 chunk를 문서 객체로 변환\n",
    "docs = text_splitter.create_documents(chunks)\n",
    "\n",
    "# FAISS 인덱스 생성 및 문서 추가\n",
    "db = FAISS.from_documents(docs, embeddings)\n",
    "\n",
    "# FAISS 인덱스 저장\n",
    "        \n",
    "db.save_local(f'{ROOT_PATH}/vectordb/{INDEX_ID}')\n",
    "print(f\"FAISS 인덱스를 '{vectordb_path}/{INDEX_ID}'에 저장했습니다.\")\n",
    "\n"
   ]
  },
  {
   "cell_type": "markdown",
   "metadata": {},
   "source": [
    "# 저장된 파일 확인"
   ]
  },
  {
   "cell_type": "code",
   "execution_count": 56,
   "metadata": {},
   "outputs": [
    {
     "name": "stdout",
     "output_type": "stream",
     "text": [
      "# pkl [docstore] = <langchain_community.docstore.in_memory.InMemoryDocstore object at 0x129e02e40>\n",
      "# pkl [uuid_mapping][22] = {0: 'ce6e5b12-82ab-4017-9dc9-10d3358eb85c', 1: '8531c56d-c487-421e-ba9f-54415a8560c1', 2: 'e618ea28-a04c-49e0-b6fe-8a4bd67cab28', 3: '476013c8-08e2-4a8a-a77a-d38c013cae34', 4: 'f3a589f1-e1f2-4a1a-8606-8fe3e89f1c53', 5: '885d405c-acd7-49f5-b05f-9831dd1da664', 6: '46639f12-9021-417c-b0b1-790fc49cb84a', 7: '527f2a2d-e5ec-4838-bd38-c5646c10d425', 8: '3a7ab908-9161-4b0b-b5e8-3da6f51ee904', 9: '1da0e5ee-20eb-417b-bf7a-b567bfa8243e', 10: 'e2700d0d-ba5d-4efe-9acb-9693355c5ee9', 11: '45b45758-dd39-4640-bc3f-e75b327808c8', 12: 'a45776e0-59dc-4f02-a8f2-52b69d32b542', 13: '11055ea8-a361-424d-b352-a37b911b9572', 14: '156125c5-0d62-492a-ad57-74c1ff035163', 15: 'd15c74f9-0285-476d-a070-595513005e16', 16: '2e8ac177-bd9f-4790-8b8a-dcb449dee108', 17: '16a9cf52-7a4a-454e-9251-b873eb246cf9', 18: '2c484411-701e-4b05-93e4-7eb4b26d1001', 19: 'a728e6fc-3db2-4e03-ab85-b7305babce2c', 20: '2f3ea055-5d44-4d0a-bd51-91e20fdb65d5', 21: '45a9d1f0-4c29-43da-ae11-cc5a2a21734b'}\n",
      "# 인덱스 정보 출력 = <faiss.swigfaiss.IndexFlatL2; proxy of <Swig Object of type 'faiss::IndexFlatL2 *' at 0x129e28270> >\n",
      "# ce6e5b12-82ab-4017-9dc9-10d3358eb85c = page_content='증시 폭락 사태에...與는 '금투세 폐지' 발동동, 野는 무응답?'\n",
      "# 8531c56d-c487-421e-ba9f-54415a8560c1 = page_content='전날 국내 증시가 미국발(發) 경기침체 우려의 직격탄을 맞으며 대폭락한 것과 관련해 정부 여당은 야당이 금융투자소득세(금투세) 폐지를 수용할 것을 강하게 압박한 반면 더불어민주당은 명확한 입장을 내놓지 않고 있다.'\n",
      "# e618ea28-a04c-49e0-b6fe-8a4bd67cab28 = page_content='한동훈 국민의힘 대표는 6일 국회에서 열린 '위메프·티몬 사태 관련 당정협의회' 모두발언에서 \"이번에야말로 금투세 폐지에 대해 초당적으로 논의해야 한다\"고 밝혔다.'\n",
      "# 476013c8-08e2-4a8a-a77a-d38c013cae34 = page_content='한 대표는 \"증시는 심리적인 요인이 많이 반영된다. 금투세 폐지와 같은 큰 이벤트는 대개 6개월 전부터 반영되기 시작한다고 한다. 이번 폭락 때문이라도 금투세 폐지에 대한 초당적 입장을 정해야 한다\"고 말했다.'\n",
      "# f3a589f1-e1f2-4a1a-8606-8fe3e89f1c53 = page_content='이어 \"지금 세계 증시가 여러 가지로 불안한 상황으로 가고 있다. 그런 상황에서 대한민국만 이렇게 큰 주가 하락의 모멘텀을 만들 수 있는 금투세를 결국 강행한다면 우리가 일부러 퍼펙트스톰(복수의 크고 작은 악재들이 동시다발적으로 일어나 직면하게 되는 초대형 경제위기)을 만들어서 그 안으로 들어가는 상황이 될 것\"이라고 우려했다.'\n",
      "# 885d405c-acd7-49f5-b05f-9831dd1da664 = page_content='그러면서 \"상황이 바뀌었다는 점을 감안해야 한다. 이재명 전 민주당 대표도 다소 유연한 입장을 밝힌 것으로 알고 있다. 우리가 타이밍을 놓치지 않도록 전향적이고 초당적인 논의를 하자\"고 공식 제안했다.'\n",
      "# 46639f12-9021-417c-b0b1-790fc49cb84a = page_content='김상훈 정책위의장은 당정 회의 후 브리핑에서 국내 증시 상황과 관련 \"결국 우리한테는 금투세 폐지가 당면과제 아니겠느냐는 정부 측 입장이 있었고, 앞으로 주식 시장의 수요 기반이 더 강화될 수 있게 조치해 나가겠다는 정부 입장이 있었다\"고 전했다.'\n",
      "# 527f2a2d-e5ec-4838-bd38-c5646c10d425 = page_content='추경호 원내대표는 이날 오전 원내대책회의에서 \"금투세, 상속세, 종부세에 대한 세제개편 문제는 더 이상 논의를 미룰 수 있는 상황이 아니다. 특히 금투세는 그냥 두면 5개월 뒤부터 시행된다. 금투세 폐지를 요구하는 국민 청원이 5만명 넘는 동의를 얻었다. 최근 주식시장의 변동성이 커지고 있는 상황을 감안하면 여야가 지금 당장 협상에 착수해야 한다\"고 촉구했다.'\n",
      "# 3a7ab908-9161-4b0b-b5e8-3da6f51ee904 = page_content='이어 \"정쟁 법안들은 당분간 미뤄두자\"며 \"여야 간의 이견이 없거나 크지 않은 민생법안은 8월 임시국회에서 처리하고 여야 간의 이견이 있는 민생개혁 과제들은 8월 안에 여·야·정 협의를 개시하자. 박찬대 민주당 원내대표의 전향적인 답변을 기대한다\"고 덧붙였다.'\n",
      "# 1da0e5ee-20eb-417b-bf7a-b567bfa8243e = page_content='더불어민주당은 국내 증시 폭락 사태와 관련 '정부책임론'을 부각하는 데 집중하고, 여당 지도부가 금투세 폐지에 협조할 것을 촉구한 데 대해선 별다른 반응을 보이지 않았다.'\n",
      "# e2700d0d-ba5d-4efe-9acb-9693355c5ee9 = page_content='박찬대 원내대표는 \"역대 여섯 번째이자 2020년 3월 팬데믹 이후 처음 서킷브레이커 발동에 주식시장은 패닉에 빠졌고 민생경제는 심각한 위기 상황\"이라고 지적했다.'\n",
      "# 45b45758-dd39-4640-bc3f-e75b327808c8 = page_content='이어 \"민주당은 내일 최고위원회의를 비상경제점검회의로 변경해 경제상황을 점검할 예정\"이라며 당 자체 대응에 나선다고 밝혔다.'\n",
      "# a45776e0-59dc-4f02-a8f2-52b69d32b542 = page_content='진성준 정책위의장은 \"어제 국내 주식시장은 미국 경기침체 및 이란, 이스라엘 중동 전쟁 가능성이 높아지면서 블랙먼데이가 됐다\"며 \"지난 금요일 이후 거래일 이틀 동안에만 시가총액 330조 원이 증발했다고 한다. 그런데도 대통령과 대통령실은 전혀 비상하지 않은 것 같다\"고 지적했다.'\n",
      "# 11055ea8-a361-424d-b352-a37b911b9572 = page_content='이어 \"윤석열 대통령은 이러한 비상시국에도 여름휴가를 떠났다. 1400만 개미투자자들이 이렇게 위급할 때 대통령은 대체 어디에 있나\"라며 \"대통령이 직접 비상대응체계를 지휘하고 민생안정을 위한 컨틴전시 플랜이 즉각 가동될 수 있도록 나서줄 것을 촉구한다\"고 했다.'\n",
      "# 156125c5-0d62-492a-ad57-74c1ff035163 = page_content='윤종군 원내대변인은 기자들을 만나 '추경호 원내대표가 연금개혁 특위 가동 및 금투세 폐지 협상을 제안했는데 논의할 수 있나'라는 질문에 \"연금개혁은 이재명 전 대표가 먼저 제안하지 않았나\"라면서도 금투세 관련 질문에는 답하지 않았다.'\n",
      "# d15c74f9-0285-476d-a070-595513005e16 = page_content='윤 원내대변인은 진 정책위의장이 제안한 '민생입법을 위한 양당 정책위의장 협상 테이블'에 금투세가 의제로 오를 수 있느냐는 질문에도 \"그건 더 큰 문제가 아니겠나. 양당 지도부 차원에서 논의돼야 하지 않겠나\"라고 답했다.'\n",
      "# 2e8ac177-bd9f-4790-8b8a-dcb449dee108 = page_content='민주당이 금투세 문제에 명쾌하게 대응하지 못하는 것은 당내 '교통정리'가 제대로 되지 않았기 때문이란 분석이 나온다.'\n",
      "# 16a9cf52-7a4a-454e-9251-b873eb246cf9 = page_content='임성근 원내부대표는 오는 7일 국회에서 '금투세 개선방안'을 주제로 토론회를 열기로 했다가 취소했다. 증시 급락으로 개인 투자자들이 예민해진 상황에서, 금투세 도입 토론회를 여는 게 정치적으로 부담이 됐을 것이라는 해석이 나온다.'\n",
      "# 2c484411-701e-4b05-93e4-7eb4b26d1001 = page_content='정성호 민주당 의원은 이날 YTN라디오에서 이재명 전 대표가 금투세 유예를 언급해 향후 당 정책 기조에 대한 질문에 \"금투세를 시행하면 여기 대상이 되는 5천만원 이상 수익을 올리는 고액 투자자들이 시장에서 빠지게 되면 증시가 또 침체되지 않겠느냐 이런 우려들을 많이 한다. 당의 현재 입장이 정해졌다기보다는 이재명 당대표 후보자는 열린 자세로 논의를 해보자 이런 제안을 한 것\"이라고 답했다.'\n",
      "# a728e6fc-3db2-4e03-ab85-b7305babce2c = page_content='진성준 정책위의장이 금투세 유예는 이재명 전 대표 개인 입장이라며 당론을 곧 정할 것이라고 밝힌 데 대해선 \"시행 시기는 유예해왔지만, 어쨌든 과표 기준을 올린다든가 하는 이런 문제는 좀 고려해 볼 수 있을 것\"이라고 부연했다.'\n",
      "# 2f3ea055-5d44-4d0a-bd51-91e20fdb65d5 = page_content='이재명 전 대표는 지난달 25일 TV 토론회에서 \"(금융 투자로) 5년간 5억원 정도를 버는 것에 대해서는 세금 면제를 해줘야 한다\"며 완화를 주장하는 등 금투세 문제가 신성불가침한 의제가 아니므로 논의해볼 수 있다는 취지의 뜻을 밝힌 바 있다.'\n",
      "# 45a9d1f0-4c29-43da-ae11-cc5a2a21734b = page_content='진 정책위의장은 지난달 26일 MBC라디오에서 \"이미 3년 전 입법이 돼서 한 번 유예까지 된 것인데, 예정대로 시행돼야 한다\"며 \"국민들이 우려하는 부분에 대해서는 부분적으로 손질할 수 있다\"고 말했다.'\n"
     ]
    }
   ],
   "source": [
    "import pickle\n",
    "import faiss\n",
    "\n",
    "# 파일 경로\n",
    "pkl_file_path = f'{ROOT_PATH}/vectordb/{INDEX_ID}/index'\n",
    "\n",
    "\n",
    "# .pkl 파일 읽기\n",
    "with open(f'{pkl_file_path}.pkl', 'rb') as f:\n",
    "    docstore, uuid_mapping = pickle.load(f)\n",
    "\n",
    "# 데이터를 출력하여 확인\n",
    "print(f'# pkl [docstore] = {docstore}')\n",
    "print(f'# pkl [uuid_mapping][{len(uuid_mapping)}] = {uuid_mapping}')\n",
    "\n",
    "\n",
    "# .faiss 파일 읽기\n",
    "index = faiss.read_index(f'{pkl_file_path}.faiss')\n",
    "\n",
    "# 인덱스 정보 출력\n",
    "print(f'# 인덱스 정보 출력 = {index}')\n",
    "\n",
    "# docstore 객체의 메서드와 속성 확인\n",
    "# print(dir(docstore))\n",
    "\n",
    "\n",
    "# UUID로 데이터를 조회\n",
    "for i in uuid_mapping:\n",
    "    document = docstore.search(uuid_mapping[i])\n",
    "    print(f'# {uuid_mapping[i]} = {document}')\n"
   ]
  },
  {
   "cell_type": "markdown",
   "metadata": {},
   "source": [
    "# 데이터 조회"
   ]
  },
  {
   "cell_type": "code",
   "execution_count": 57,
   "metadata": {},
   "outputs": [
    {
     "name": "stdout",
     "output_type": "stream",
     "text": [
      "page_content='추경호 원내대표는 이날 오전 원내대책회의에서 \"금투세, 상속세, 종부세에 대한 세제개편 문제는 더 이상 논의를 미룰 수 있는 상황이 아니다. 특히 금투세는 그냥 두면 5개월 뒤부터 시행된다. 금투세 폐지를 요구하는 국민 청원이 5만명 넘는 동의를 얻었다. 최근 주식시장의 변동성이 커지고 있는 상황을 감안하면 여야가 지금 당장 협상에 착수해야 한다\"고 촉구했다.'\n",
      "page_content='윤 원내대변인은 진 정책위의장이 제안한 '민생입법을 위한 양당 정책위의장 협상 테이블'에 금투세가 의제로 오를 수 있느냐는 질문에도 \"그건 더 큰 문제가 아니겠나. 양당 지도부 차원에서 논의돼야 하지 않겠나\"라고 답했다.'\n",
      "page_content='윤종군 원내대변인은 기자들을 만나 '추경호 원내대표가 연금개혁 특위 가동 및 금투세 폐지 협상을 제안했는데 논의할 수 있나'라는 질문에 \"연금개혁은 이재명 전 대표가 먼저 제안하지 않았나\"라면서도 금투세 관련 질문에는 답하지 않았다.'\n"
     ]
    }
   ],
   "source": [
    "from langchain_community.vectorstores import FAISS\n",
    "\n",
    "\n",
    "# 파일 로드\n",
    "db = FAISS.load_local(f'{ROOT_PATH}/vectordb/{INDEX_ID}', embeddings, allow_dangerous_deserialization=True)\n",
    "    \n",
    "retriever = db.as_retriever(search_kwargs={\"k\": 3})\n",
    "query = \"최고위원회 대표\"\n",
    "# doc = retriever.get_relevant_documents(query)\n",
    "doc = retriever.invoke(\n",
    "    input=query,\n",
    "    config=None,  # 실행 구성을 위해 RunnableConfig 객체를 사용할 수 있음\n",
    "    # 추가적인 매개변수를 kwargs로 전달 가능\n",
    ")\n",
    "\n",
    "for d in doc:\n",
    "    print(d)\n",
    "\n"
   ]
  },
  {
   "cell_type": "markdown",
   "metadata": {},
   "source": [
    "# code assist 기능 구현을 위한 메모\n",
    "\n",
    "## I. vector database에 파일 내용 저장하기\n",
    "\n",
    "1. 소스 폴더의 ROOT로 부터 모든 파일들을 읽어서 메타 정보를 수집한다.\n",
    "    \n",
    "    메타정보는 [경로, 파일명, 확장자, 유형등]이 있다\n",
    "\n",
    "2. 파일을 확장자/유형 에 따라서 Split 한다.\n",
    "\n",
    "    ex) 자바는 함수 단위, xml은 쿼리 단위\n",
    "\n",
    "3. FAISSS등 vector database에 저장한다.\n",
    "\n",
    "    저장된 이후 uuid등을 조회하여 메타정보와 chunk 내용을 변수에 셋팅한다. \n",
    "\n",
    "3. RDB의 VECTOR_DATA 테이블에 저장한다.\n",
    "\n",
    "    위 단계에서 나온 결과를 테이블에 저장한다.\n",
    "\n",
    "\n",
    "\n",
    "# 테이블 정보\n",
    "\n",
    "\n",
    "\n"
   ]
  },
  {
   "cell_type": "markdown",
   "metadata": {},
   "source": []
  }
 ],
 "metadata": {
  "kernelspec": {
   "display_name": "Python 3",
   "language": "python",
   "name": "python3"
  },
  "language_info": {
   "codemirror_mode": {
    "name": "ipython",
    "version": 3
   },
   "file_extension": ".py",
   "mimetype": "text/x-python",
   "name": "python",
   "nbconvert_exporter": "python",
   "pygments_lexer": "ipython3",
   "version": "3.12.4"
  }
 },
 "nbformat": 4,
 "nbformat_minor": 2
}
