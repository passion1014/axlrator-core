{
 "cells": [
  {
   "cell_type": "markdown",
   "metadata": {},
   "source": [
    "# FAISS 관리\n",
    "\n",
    "## FAISS 저장시 생기는 파일\n",
    "### 1. **.faiss 파일**\n",
    "- **내용**: `.faiss` 파일은 FAISS 인덱스를 저장. 벡터 데이터에 대한 인덱스 구조와 해당 데이터를 검색하기 위한 최적화된 인덱스를 포함.\n",
    "- **용도**: 인덱스를 다시 로드하여 검색 작업을 수행할 수 있다. 이 파일만 있으면 벡터 데이터에 대한 검색 작업을 다시 수행할 수 있다.\n",
    "\n",
    "### 2. **.pkl 파일**\n",
    "- **내용**: `.pkl` 파일은 일반적으로 Python에서 사용하는 피클(pickle) 파일 형식으로 주로 벡터 데이터의 메타정보 또는 인덱스와 관련된 추가 데이터가 저장. 예를 들어, 벡터에 대한 ID, 메타데이터, 인덱스 구성 설정 등이 포함된다.\n",
    "- **용도**: `.pkl` 파일은 Python 객체를 직렬화하여 저장한 것으로, 인덱스를 다시 로드할 때 사용된다. 이를 통해 검색 과정에서 필요한 부가적인 정보나 설정을 복원할 수 있다.\n",
    "\n",
    "### 요약\n",
    "- **.faiss 파일**: 벡터 인덱스 데이터를 저장하는 파일로, 벡터 검색 작업에 직접 사용.\n",
    "- **.pkl 파일**: Python 객체의 직렬화된 데이터를 저장하는 파일로, 인덱스와 관련된 메타정보나 설정을 포함.\n",
    "\n",
    "이 파일들은 함께 사용되어 벡터 검색 작업을 빠르게 수행할 수 있도록 한다. 인덱스를 로드할 때 두 파일을 모두 사용하여 완전한 검색 환경을 복원할 수 있다.\n"
   ]
  },
  {
   "cell_type": "markdown",
   "metadata": {},
   "source": [
    "## 데이터 저장"
   ]
  },
  {
   "cell_type": "code",
   "execution_count": null,
   "metadata": {},
   "outputs": [],
   "source": [
    "from langchain.text_splitter import CharacterTextSplitter\n",
    "from langchain_community.vectorstores import FAISS\n",
    "from dotenv import load_dotenv\n",
    "from app.vectordb import upload_vectordb\n",
    "from langchain.docstore.document import Document\n",
    "\n",
    "# upload_vectordb.main(f'{ROOT_PATH}/data/{INDEX_ID}.txt', INDEX_ID)\n",
    "\n",
    "# 파일 내용 로드 및 처리\n",
    "text = upload_vectordb.load_and_detect_encoding(f'{ROOT_PATH}/data/{INDEX_ID}.txt')\n",
    "\n",
    "\n",
    "# 2. 의미별로 chunk로 나누기\n",
    "text_splitter = CharacterTextSplitter(chunk_size=100, chunk_overlap=10)\n",
    "chunks = text_splitter.split_text(text)\n",
    "\n",
    "# 각 chunk를 문서 객체로 변환\n",
    "docs = text_splitter.create_documents(chunks)\n",
    "\n",
    "# 각 chunk를 문서 객체로 변환 이 과정에서 각 청크를 개별 문서로 다룬다\n",
    "docs = [Document(page_content=chunk) for chunk in chunks]\n",
    "\n",
    "# FAISS 인덱스 생성 및 문서 추가\n",
    "db = FAISS.from_documents(docs, embeddings)\n",
    "\n",
    "# FAISS 인덱스 저장\n",
    "db.save_local(f'{ROOT_PATH}/data/vector/{INDEX_ID}')\n"
   ]
  },
  {
   "cell_type": "markdown",
   "metadata": {},
   "source": [
    "## 저장된 파일 확인"
   ]
  },
  {
   "cell_type": "code",
   "execution_count": 1,
   "metadata": {},
   "outputs": [
    {
     "ename": "NameError",
     "evalue": "name 'ROOT_PATH' is not defined",
     "output_type": "error",
     "traceback": [
      "\u001b[0;31m---------------------------------------------------------------------------\u001b[0m",
      "\u001b[0;31mNameError\u001b[0m                                 Traceback (most recent call last)",
      "Cell \u001b[0;32mIn[1], line 5\u001b[0m\n\u001b[1;32m      2\u001b[0m \u001b[38;5;28;01mimport\u001b[39;00m \u001b[38;5;21;01mfaiss\u001b[39;00m\n\u001b[1;32m      4\u001b[0m \u001b[38;5;66;03m# 파일 경로\u001b[39;00m\n\u001b[0;32m----> 5\u001b[0m pkl_file_path \u001b[38;5;241m=\u001b[39m \u001b[38;5;124mf\u001b[39m\u001b[38;5;124m'\u001b[39m\u001b[38;5;132;01m{\u001b[39;00m\u001b[43mROOT_PATH\u001b[49m\u001b[38;5;132;01m}\u001b[39;00m\u001b[38;5;124m/data/vector/\u001b[39m\u001b[38;5;132;01m{\u001b[39;00mINDEX_ID\u001b[38;5;132;01m}\u001b[39;00m\u001b[38;5;124m/index\u001b[39m\u001b[38;5;124m'\u001b[39m\n\u001b[1;32m      8\u001b[0m \u001b[38;5;66;03m# .pkl 파일 읽기\u001b[39;00m\n\u001b[1;32m      9\u001b[0m \u001b[38;5;28;01mwith\u001b[39;00m \u001b[38;5;28mopen\u001b[39m(\u001b[38;5;124mf\u001b[39m\u001b[38;5;124m'\u001b[39m\u001b[38;5;132;01m{\u001b[39;00mpkl_file_path\u001b[38;5;132;01m}\u001b[39;00m\u001b[38;5;124m.pkl\u001b[39m\u001b[38;5;124m'\u001b[39m, \u001b[38;5;124m'\u001b[39m\u001b[38;5;124mrb\u001b[39m\u001b[38;5;124m'\u001b[39m) \u001b[38;5;28;01mas\u001b[39;00m f:\n",
      "\u001b[0;31mNameError\u001b[0m: name 'ROOT_PATH' is not defined"
     ]
    }
   ],
   "source": [
    "import pickle\n",
    "import faiss\n",
    "\n",
    "# 파일 경로\n",
    "pkl_file_path = f'{ROOT_PATH}/data/vector/{INDEX_ID}/index'\n",
    "\n",
    "# .pkl 파일 읽기\n",
    "with open(f'{pkl_file_path}.pkl', 'rb') as f:\n",
    "    docstore, uuid_mapping = pickle.load(f)\n",
    "\n",
    "# 데이터를 출력하여 확인\n",
    "print(f'# pkl [docstore] = {docstore}')\n",
    "print(f'# pkl [uuid_mapping][{len(uuid_mapping)}] = {uuid_mapping}')\n",
    "\n",
    "# .faiss 파일 읽기\n",
    "index = faiss.read_index(f'{pkl_file_path}.faiss')\n",
    "\n",
    "# 인덱스 정보 출력\n",
    "print(f'# 인덱스 정보 출력 = {index}')\n",
    "\n",
    "# docstore 객체의 메서드와 속성 확인\n",
    "# print(dir(docstore))\n",
    "\n",
    "# UUID로 데이터를 조회\n",
    "for i in uuid_mapping:\n",
    "    document = docstore.search(uuid_mapping[i])\n",
    "    print(f'******* {uuid_mapping[i]} = {document}')\n"
   ]
  },
  {
   "cell_type": "markdown",
   "metadata": {},
   "source": [
    "## 데이터 조회"
   ]
  },
  {
   "cell_type": "code",
   "execution_count": 19,
   "metadata": {},
   "outputs": [
    {
     "name": "stdout",
     "output_type": "stream",
     "text": [
      "page_content='}\n",
      "### ZGU_GUAS_SPAB_MATR(영업_보증_보증서특기사항){'\n",
      "page_content='}\n",
      "### ZGU_GUAS_PSSL_H(영업_보증_보증서_현황_이력){'\n",
      "page_content='}\n",
      "### ZGU_GUAS_ISSU_CRDR_DTL(영업_보증_보증서발행_채권자_명세){'\n"
     ]
    }
   ],
   "source": [
    "from langchain_community.vectorstores import FAISS\n",
    "\n",
    "\n",
    "# 파일 로드\n",
    "db = FAISS.load_local(f'{ROOT_PATH}/data/vector/{INDEX_ID}', embeddings, allow_dangerous_deserialization=True)\n",
    "    \n",
    "retriever = db.as_retriever(search_kwargs={\"k\": 3})\n",
    "query = \"보증서특기사항 테이블을 찾아주세요\"\n",
    "# doc = retriever.get_relevant_documents(query)\n",
    "doc = retriever.invoke(\n",
    "    input=query,\n",
    "    config=None,  # 실행 구성을 위해 RunnableConfig 객체를 사용할 수 있음\n",
    "    search_kwargs={\"k\": 1}  # 명시적으로 k=1을 전달\n",
    ")\n",
    "\n",
    "for d in doc:\n",
    "    print(d)\n",
    "\n"
   ]
  },
  {
   "cell_type": "markdown",
   "metadata": {},
   "source": [
    "# RAG_SERVER - FAISS 관리"
   ]
  },
  {
   "cell_type": "code",
   "execution_count": 1,
   "metadata": {},
   "outputs": [],
   "source": [
    "# 경로 추가\n",
    "import sys\n",
    "import os\n",
    "\n",
    "sys.path.append(os.path.dirname(os.getcwd()))\n",
    "sys.path.append(os.path.abspath(os.path.join(os.path.dirname(os.getcwd()), '..')))\n",
    "\n",
    "from app.utils import get_embedding_model\n",
    "\n",
    "\n",
    "# 변수 선언\n",
    "ROOT_PATH = '/Users/passion1014/project/langchain/rag_server'\n",
    "INDEX_ID = \"SAMPLE_simple\" # VectorDB INDEX 명\n",
    "FILE_NAME = f'{INDEX_ID}.txt' # 파일이름\n",
    "\n",
    "# 임베딩 선언\n",
    "embeddings = get_embedding_model()"
   ]
  },
  {
   "cell_type": "code",
   "execution_count": 1,
   "metadata": {},
   "outputs": [
    {
     "name": "stdout",
     "output_type": "stream",
     "text": [
      "2025-01-29 18:47:09,952 INFO sqlalchemy.engine.Engine select pg_catalog.version()\n",
      "2025-01-29 18:47:09,953 INFO sqlalchemy.engine.Engine [raw sql] {}\n",
      "2025-01-29 18:47:09,955 INFO sqlalchemy.engine.Engine select current_schema()\n",
      "2025-01-29 18:47:09,955 INFO sqlalchemy.engine.Engine [raw sql] {}\n",
      "2025-01-29 18:47:09,957 INFO sqlalchemy.engine.Engine show standard_conforming_strings\n",
      "2025-01-29 18:47:09,958 INFO sqlalchemy.engine.Engine [raw sql] {}\n",
      "2025-01-29 18:47:09,959 INFO sqlalchemy.engine.Engine BEGIN (implicit)\n",
      "2025-01-29 18:47:09,971 INFO sqlalchemy.engine.Engine SELECT faiss_info.id, faiss_info.index_name, faiss_info.index_desc, faiss_info.index_file_path, faiss_info.modified_at, faiss_info.created_at, faiss_info.modified_by, faiss_info.created_by \n",
      "FROM faiss_info \n",
      "WHERE faiss_info.index_name = %(index_name_1)s\n",
      "2025-01-29 18:47:09,972 INFO sqlalchemy.engine.Engine [generated in 0.00082s] {'index_name_1': 'cg_code_assist'}\n"
     ]
    },
    {
     "ename": "RuntimeError",
     "evalue": "Error in faiss::FileIOReader::FileIOReader(const char *) at /Users/runner/work/faiss-wheels/faiss-wheels/faiss/faiss/impl/io.cpp:68: Error: 'f' failed: could not open data/vector/cg_code_assist.index for reading: No such file or directory",
     "output_type": "error",
     "traceback": [
      "\u001b[0;31m---------------------------------------------------------------------------\u001b[0m",
      "\u001b[0;31mRuntimeError\u001b[0m                              Traceback (most recent call last)",
      "\u001b[0;32m/var/folders/21/jb7ghnp55bg6bsbnckdtc7wc0000gn/T/ipykernel_28078/2965183258.py\u001b[0m in \u001b[0;36m?\u001b[0;34m()\u001b[0m\n\u001b[1;32m     12\u001b[0m \u001b[0;32mfrom\u001b[0m \u001b[0mapp\u001b[0m\u001b[0;34m.\u001b[0m\u001b[0mvectordb\u001b[0m\u001b[0;34m.\u001b[0m\u001b[0mfaiss_vectordb\u001b[0m \u001b[0;32mimport\u001b[0m \u001b[0mFaissVectorDB\u001b[0m\u001b[0;34m\u001b[0m\u001b[0;34m\u001b[0m\u001b[0m\n\u001b[1;32m     13\u001b[0m \u001b[0;34m\u001b[0m\u001b[0m\n\u001b[1;32m     14\u001b[0m \u001b[0;34m\u001b[0m\u001b[0m\n\u001b[1;32m     15\u001b[0m \u001b[0msession\u001b[0m \u001b[0;34m=\u001b[0m \u001b[0mSessionLocal\u001b[0m\u001b[0;34m(\u001b[0m\u001b[0;34m)\u001b[0m\u001b[0;34m\u001b[0m\u001b[0;34m\u001b[0m\u001b[0m\n\u001b[0;32m---> 16\u001b[0;31m \u001b[0mfaissVectorDB\u001b[0m \u001b[0;34m=\u001b[0m \u001b[0mFaissVectorDB\u001b[0m\u001b[0;34m(\u001b[0m\u001b[0mdb_session\u001b[0m\u001b[0;34m=\u001b[0m\u001b[0msession\u001b[0m\u001b[0;34m,\u001b[0m \u001b[0mindex_name\u001b[0m\u001b[0;34m=\u001b[0m\u001b[0;34m'cg_code_assist'\u001b[0m\u001b[0;34m)\u001b[0m\u001b[0;34m\u001b[0m\u001b[0;34m\u001b[0m\u001b[0m\n\u001b[0m",
      "\u001b[0;32m~/project/langchain/rag_server/app/vectordb/faiss_vectordb.py\u001b[0m in \u001b[0;36m?\u001b[0;34m(self, db_session, index_name)\u001b[0m\n\u001b[1;32m    148\u001b[0m                 \u001b[0mindex_to_docstore_id\u001b[0m\u001b[0;34m=\u001b[0m\u001b[0;34m{\u001b[0m\u001b[0;34m}\u001b[0m\u001b[0;34m,\u001b[0m\u001b[0;34m\u001b[0m\u001b[0;34m\u001b[0m\u001b[0m\n\u001b[1;32m    149\u001b[0m             \u001b[0;34m)\u001b[0m\u001b[0;34m\u001b[0m\u001b[0;34m\u001b[0m\u001b[0m\n\u001b[1;32m    150\u001b[0m \u001b[0;34m\u001b[0m\u001b[0m\n\u001b[1;32m    151\u001b[0m             \u001b[0;31m# 인덱스 파일에서 로드\u001b[0m\u001b[0;34m\u001b[0m\u001b[0;34m\u001b[0m\u001b[0m\n\u001b[0;32m--> 152\u001b[0;31m             \u001b[0mself\u001b[0m\u001b[0;34m.\u001b[0m\u001b[0mread_index\u001b[0m\u001b[0;34m(\u001b[0m\u001b[0;34m)\u001b[0m\u001b[0;34m\u001b[0m\u001b[0;34m\u001b[0m\u001b[0m\n\u001b[0m\u001b[1;32m    153\u001b[0m \u001b[0;34m\u001b[0m\u001b[0m\n\u001b[1;32m    154\u001b[0m             \u001b[0;31m# 캐시에 저장\u001b[0m\u001b[0;34m\u001b[0m\u001b[0;34m\u001b[0m\u001b[0m\n\u001b[1;32m    155\u001b[0m             \u001b[0mFaissVectorDB\u001b[0m\u001b[0;34m.\u001b[0m\u001b[0m_loaded_indices\u001b[0m\u001b[0;34m[\u001b[0m\u001b[0mindex_name\u001b[0m\u001b[0;34m]\u001b[0m \u001b[0;34m=\u001b[0m \u001b[0mself\u001b[0m\u001b[0;34m.\u001b[0m\u001b[0mvector_store\u001b[0m\u001b[0;34m\u001b[0m\u001b[0;34m\u001b[0m\u001b[0m\n",
      "\u001b[0;32m~/project/langchain/rag_server/app/vectordb/faiss_vectordb.py\u001b[0m in \u001b[0;36m?\u001b[0;34m(self)\u001b[0m\n\u001b[1;32m    278\u001b[0m         \u001b[0mfaiss_info\u001b[0m \u001b[0;34m=\u001b[0m \u001b[0mself\u001b[0m\u001b[0;34m.\u001b[0m\u001b[0mpsql_docstore\u001b[0m\u001b[0;34m.\u001b[0m\u001b[0mget_faiss_info\u001b[0m\u001b[0;34m(\u001b[0m\u001b[0;34m)\u001b[0m\u001b[0;34m\u001b[0m\u001b[0;34m\u001b[0m\u001b[0m\n\u001b[1;32m    279\u001b[0m \u001b[0;34m\u001b[0m\u001b[0m\n\u001b[1;32m    280\u001b[0m         \u001b[0;32mif\u001b[0m \u001b[0mfaiss_info\u001b[0m \u001b[0;32mis\u001b[0m \u001b[0;32mnot\u001b[0m \u001b[0;32mNone\u001b[0m\u001b[0;34m:\u001b[0m\u001b[0;34m\u001b[0m\u001b[0;34m\u001b[0m\u001b[0m\n\u001b[1;32m    281\u001b[0m             \u001b[0;31m# FAISS 인덱스 파일 로드\u001b[0m\u001b[0;34m\u001b[0m\u001b[0;34m\u001b[0m\u001b[0m\n\u001b[0;32m--> 282\u001b[0;31m             \u001b[0mself\u001b[0m\u001b[0;34m.\u001b[0m\u001b[0mvector_store\u001b[0m\u001b[0;34m.\u001b[0m\u001b[0mindex\u001b[0m \u001b[0;34m=\u001b[0m \u001b[0mfaiss\u001b[0m\u001b[0;34m.\u001b[0m\u001b[0mread_index\u001b[0m\u001b[0;34m(\u001b[0m\u001b[0mfaiss_info\u001b[0m\u001b[0;34m.\u001b[0m\u001b[0mindex_file_path\u001b[0m\u001b[0;34m)\u001b[0m\u001b[0;34m\u001b[0m\u001b[0;34m\u001b[0m\u001b[0m\n\u001b[0m\u001b[1;32m    283\u001b[0m \u001b[0;34m\u001b[0m\u001b[0m\n\u001b[1;32m    284\u001b[0m             \u001b[0;31m# 데이터베이스에서 index_to_docstore_id 매핑 정보 로드\u001b[0m\u001b[0;34m\u001b[0m\u001b[0;34m\u001b[0m\u001b[0m\n\u001b[1;32m    285\u001b[0m             \u001b[0mmappings\u001b[0m \u001b[0;34m=\u001b[0m \u001b[0mself\u001b[0m\u001b[0;34m.\u001b[0m\u001b[0mpsql_docstore\u001b[0m\u001b[0;34m.\u001b[0m\u001b[0mget_chunked_data_by_faiss_info_id\u001b[0m\u001b[0;34m(\u001b[0m\u001b[0mfaiss_info\u001b[0m\u001b[0;34m.\u001b[0m\u001b[0mid\u001b[0m\u001b[0;34m)\u001b[0m\u001b[0;34m\u001b[0m\u001b[0;34m\u001b[0m\u001b[0m\n",
      "\u001b[0;32m~/anaconda3/envs/ragserver/lib/python3.12/site-packages/faiss/swigfaiss.py\u001b[0m in \u001b[0;36m?\u001b[0;34m(*args)\u001b[0m\n\u001b[1;32m  10537\u001b[0m \u001b[0;32mdef\u001b[0m \u001b[0mread_index\u001b[0m\u001b[0;34m(\u001b[0m\u001b[0;34m*\u001b[0m\u001b[0margs\u001b[0m\u001b[0;34m)\u001b[0m\u001b[0;34m:\u001b[0m\u001b[0;34m\u001b[0m\u001b[0;34m\u001b[0m\u001b[0m\n\u001b[0;32m> 10538\u001b[0;31m     \u001b[0;32mreturn\u001b[0m \u001b[0m_swigfaiss\u001b[0m\u001b[0;34m.\u001b[0m\u001b[0mread_index\u001b[0m\u001b[0;34m(\u001b[0m\u001b[0;34m*\u001b[0m\u001b[0margs\u001b[0m\u001b[0;34m)\u001b[0m\u001b[0;34m\u001b[0m\u001b[0;34m\u001b[0m\u001b[0m\n\u001b[0m",
      "\u001b[0;31mRuntimeError\u001b[0m: Error in faiss::FileIOReader::FileIOReader(const char *) at /Users/runner/work/faiss-wheels/faiss-wheels/faiss/faiss/impl/io.cpp:68: Error: 'f' failed: could not open data/vector/cg_code_assist.index for reading: No such file or directory"
     ]
    }
   ],
   "source": [
    "from dotenv import load_dotenv\n",
    "import os\n",
    "\n",
    "# 작업디렉토리를 상위경로로 변경\n",
    "parent_dir = os.path.abspath(os.path.join(os.getcwd(), \"..\"))\n",
    "os.chdir(parent_dir)\n",
    "\n",
    "# 환경변수 설정\n",
    "load_dotenv(dotenv_path=\".env.testcase\", override=True)\n",
    "\n",
    "from app.db_model.database import SessionLocal\n",
    "from app.vectordb.faiss_vectordb import FaissVectorDB\n",
    "\n",
    "\n",
    "session = SessionLocal()\n",
    "faissVectorDB = FaissVectorDB(db_session=session, index_name='cg_code_assist')"
   ]
  },
  {
   "cell_type": "code",
   "execution_count": null,
   "metadata": {},
   "outputs": [],
   "source": [
    "# 전체 문서 확인(by faiss_index)\n",
    "faissVectorDB.get_all_documents()"
   ]
  },
  {
   "cell_type": "code",
   "execution_count": null,
   "metadata": {},
   "outputs": [],
   "source": [
    "# 검색\n",
    "faissVectorDB.search_similar_documents(\"getPigVital(Long vitalCode\") # 검색어로 조회"
   ]
  }
 ],
 "metadata": {
  "kernelspec": {
   "display_name": "Python 3",
   "language": "python",
   "name": "python3"
  },
  "language_info": {
   "codemirror_mode": {
    "name": "ipython",
    "version": 3
   },
   "file_extension": ".py",
   "mimetype": "text/x-python",
   "name": "python",
   "nbconvert_exporter": "python",
   "pygments_lexer": "ipython3",
   "version": "3.12.4"
  }
 },
 "nbformat": 4,
 "nbformat_minor": 2
}
