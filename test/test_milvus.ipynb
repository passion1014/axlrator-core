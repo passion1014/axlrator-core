{
 "cells": [
  {
   "cell_type": "code",
   "execution_count": 10,
   "metadata": {},
   "outputs": [
    {
     "name": "stdout",
     "output_type": "stream",
     "text": [
      "Requirement already satisfied: pymilvus[model] in /Users/passion1014/anaconda3/envs/ragserver/lib/python3.12/site-packages (2.5.5)\n",
      "Requirement already satisfied: setuptools>69 in /Users/passion1014/anaconda3/envs/ragserver/lib/python3.12/site-packages (from pymilvus[model]) (71.0.4)\n",
      "Requirement already satisfied: grpcio<=1.67.1,>=1.49.1 in /Users/passion1014/anaconda3/envs/ragserver/lib/python3.12/site-packages (from pymilvus[model]) (1.67.1)\n",
      "Requirement already satisfied: protobuf>=3.20.0 in /Users/passion1014/anaconda3/envs/ragserver/lib/python3.12/site-packages (from pymilvus[model]) (4.25.5)\n",
      "Requirement already satisfied: python-dotenv<2.0.0,>=1.0.1 in /Users/passion1014/anaconda3/envs/ragserver/lib/python3.12/site-packages (from pymilvus[model]) (1.0.1)\n",
      "Requirement already satisfied: ujson>=2.0.0 in /Users/passion1014/anaconda3/envs/ragserver/lib/python3.12/site-packages (from pymilvus[model]) (5.10.0)\n",
      "Requirement already satisfied: pandas>=1.2.4 in /Users/passion1014/anaconda3/envs/ragserver/lib/python3.12/site-packages (from pymilvus[model]) (2.2.3)\n",
      "Requirement already satisfied: milvus-lite>=2.4.0 in /Users/passion1014/anaconda3/envs/ragserver/lib/python3.12/site-packages (from pymilvus[model]) (2.4.11)\n",
      "Collecting pymilvus.model>=0.3.0 (from pymilvus[model])\n",
      "  Downloading pymilvus_model-0.3.1-py3-none-any.whl.metadata (2.0 kB)\n",
      "Requirement already satisfied: tqdm in /Users/passion1014/anaconda3/envs/ragserver/lib/python3.12/site-packages (from milvus-lite>=2.4.0->pymilvus[model]) (4.66.4)\n",
      "Requirement already satisfied: numpy>=1.26.0 in /Users/passion1014/anaconda3/envs/ragserver/lib/python3.12/site-packages (from pandas>=1.2.4->pymilvus[model]) (1.26.4)\n",
      "Requirement already satisfied: python-dateutil>=2.8.2 in /Users/passion1014/anaconda3/envs/ragserver/lib/python3.12/site-packages (from pandas>=1.2.4->pymilvus[model]) (2.9.0)\n",
      "Requirement already satisfied: pytz>=2020.1 in /Users/passion1014/anaconda3/envs/ragserver/lib/python3.12/site-packages (from pandas>=1.2.4->pymilvus[model]) (2024.2)\n",
      "Requirement already satisfied: tzdata>=2022.7 in /Users/passion1014/anaconda3/envs/ragserver/lib/python3.12/site-packages (from pandas>=1.2.4->pymilvus[model]) (2024.2)\n",
      "Requirement already satisfied: transformers>=4.36.0 in /Users/passion1014/anaconda3/envs/ragserver/lib/python3.12/site-packages (from pymilvus.model>=0.3.0->pymilvus[model]) (4.47.1)\n",
      "Requirement already satisfied: onnxruntime in /Users/passion1014/anaconda3/envs/ragserver/lib/python3.12/site-packages (from pymilvus.model>=0.3.0->pymilvus[model]) (1.20.1)\n",
      "Requirement already satisfied: scipy>=1.10.0 in /Users/passion1014/anaconda3/envs/ragserver/lib/python3.12/site-packages (from pymilvus.model>=0.3.0->pymilvus[model]) (1.15.1)\n",
      "Requirement already satisfied: six>=1.5 in /Users/passion1014/anaconda3/envs/ragserver/lib/python3.12/site-packages (from python-dateutil>=2.8.2->pandas>=1.2.4->pymilvus[model]) (1.16.0)\n",
      "Requirement already satisfied: filelock in /Users/passion1014/anaconda3/envs/ragserver/lib/python3.12/site-packages (from transformers>=4.36.0->pymilvus.model>=0.3.0->pymilvus[model]) (3.15.4)\n",
      "Requirement already satisfied: huggingface-hub<1.0,>=0.24.0 in /Users/passion1014/anaconda3/envs/ragserver/lib/python3.12/site-packages (from transformers>=4.36.0->pymilvus.model>=0.3.0->pymilvus[model]) (0.24.3)\n",
      "Requirement already satisfied: packaging>=20.0 in /Users/passion1014/anaconda3/envs/ragserver/lib/python3.12/site-packages (from transformers>=4.36.0->pymilvus.model>=0.3.0->pymilvus[model]) (23.2)\n",
      "Requirement already satisfied: pyyaml>=5.1 in /Users/passion1014/anaconda3/envs/ragserver/lib/python3.12/site-packages (from transformers>=4.36.0->pymilvus.model>=0.3.0->pymilvus[model]) (6.0.1)\n",
      "Requirement already satisfied: regex!=2019.12.17 in /Users/passion1014/anaconda3/envs/ragserver/lib/python3.12/site-packages (from transformers>=4.36.0->pymilvus.model>=0.3.0->pymilvus[model]) (2024.7.24)\n",
      "Requirement already satisfied: requests in /Users/passion1014/anaconda3/envs/ragserver/lib/python3.12/site-packages (from transformers>=4.36.0->pymilvus.model>=0.3.0->pymilvus[model]) (2.32.3)\n",
      "Requirement already satisfied: tokenizers<0.22,>=0.21 in /Users/passion1014/anaconda3/envs/ragserver/lib/python3.12/site-packages (from transformers>=4.36.0->pymilvus.model>=0.3.0->pymilvus[model]) (0.21.0)\n",
      "Requirement already satisfied: safetensors>=0.4.1 in /Users/passion1014/anaconda3/envs/ragserver/lib/python3.12/site-packages (from transformers>=4.36.0->pymilvus.model>=0.3.0->pymilvus[model]) (0.5.0)\n",
      "Requirement already satisfied: coloredlogs in /Users/passion1014/anaconda3/envs/ragserver/lib/python3.12/site-packages (from onnxruntime->pymilvus.model>=0.3.0->pymilvus[model]) (15.0.1)\n",
      "Requirement already satisfied: flatbuffers in /Users/passion1014/anaconda3/envs/ragserver/lib/python3.12/site-packages (from onnxruntime->pymilvus.model>=0.3.0->pymilvus[model]) (25.2.10)\n",
      "Requirement already satisfied: sympy in /Users/passion1014/anaconda3/envs/ragserver/lib/python3.12/site-packages (from onnxruntime->pymilvus.model>=0.3.0->pymilvus[model]) (1.13.1)\n",
      "Requirement already satisfied: fsspec>=2023.5.0 in /Users/passion1014/anaconda3/envs/ragserver/lib/python3.12/site-packages (from huggingface-hub<1.0,>=0.24.0->transformers>=4.36.0->pymilvus.model>=0.3.0->pymilvus[model]) (2024.6.1)\n",
      "Requirement already satisfied: typing-extensions>=3.7.4.3 in /Users/passion1014/anaconda3/envs/ragserver/lib/python3.12/site-packages (from huggingface-hub<1.0,>=0.24.0->transformers>=4.36.0->pymilvus.model>=0.3.0->pymilvus[model]) (4.12.2)\n",
      "Requirement already satisfied: humanfriendly>=9.1 in /Users/passion1014/anaconda3/envs/ragserver/lib/python3.12/site-packages (from coloredlogs->onnxruntime->pymilvus.model>=0.3.0->pymilvus[model]) (10.0)\n",
      "Requirement already satisfied: charset-normalizer<4,>=2 in /Users/passion1014/anaconda3/envs/ragserver/lib/python3.12/site-packages (from requests->transformers>=4.36.0->pymilvus.model>=0.3.0->pymilvus[model]) (3.3.2)\n",
      "Requirement already satisfied: idna<4,>=2.5 in /Users/passion1014/anaconda3/envs/ragserver/lib/python3.12/site-packages (from requests->transformers>=4.36.0->pymilvus.model>=0.3.0->pymilvus[model]) (3.7)\n",
      "Requirement already satisfied: urllib3<3,>=1.21.1 in /Users/passion1014/anaconda3/envs/ragserver/lib/python3.12/site-packages (from requests->transformers>=4.36.0->pymilvus.model>=0.3.0->pymilvus[model]) (2.2.2)\n",
      "Requirement already satisfied: certifi>=2017.4.17 in /Users/passion1014/anaconda3/envs/ragserver/lib/python3.12/site-packages (from requests->transformers>=4.36.0->pymilvus.model>=0.3.0->pymilvus[model]) (2024.7.4)\n",
      "Requirement already satisfied: mpmath<1.4,>=1.1.0 in /Users/passion1014/anaconda3/envs/ragserver/lib/python3.12/site-packages (from sympy->onnxruntime->pymilvus.model>=0.3.0->pymilvus[model]) (1.3.0)\n",
      "Downloading pymilvus_model-0.3.1-py3-none-any.whl (46 kB)\n",
      "\u001b[2K   \u001b[90m━━━━━━━━━━━━━━━━━━━━━━━━━━━━━━━━━━━━━━━━\u001b[0m \u001b[32m46.7/46.7 kB\u001b[0m \u001b[31m2.8 MB/s\u001b[0m eta \u001b[36m0:00:00\u001b[0m\n",
      "\u001b[?25hInstalling collected packages: pymilvus.model\n",
      "Successfully installed pymilvus.model-0.3.1\n",
      "Note: you may need to restart the kernel to use updated packages.\n"
     ]
    }
   ],
   "source": [
    "pip install \"pymilvus[model]\"\n"
   ]
  },
  {
   "cell_type": "code",
   "execution_count": 6,
   "metadata": {},
   "outputs": [],
   "source": [
    "from pymilvus import MilvusClient\n",
    "\n",
    "# client = MilvusClient(\"milvus_demo.db\") # sqlite\n",
    "client = MilvusClient(\"http://localhost:19530\")\n"
   ]
  },
  {
   "cell_type": "code",
   "execution_count": 7,
   "metadata": {},
   "outputs": [],
   "source": [
    "if client.has_collection(collection_name=\"demo_collection\"):\n",
    "    client.drop_collection(collection_name=\"demo_collection\")\n",
    "client.create_collection(\n",
    "    collection_name=\"demo_collection\",\n",
    "    dimension=768,  # The vectors we will use in this demo has 768 dimensions\n",
    ")\n"
   ]
  },
  {
   "cell_type": "code",
   "execution_count": 13,
   "metadata": {},
   "outputs": [
    {
     "name": "stdout",
     "output_type": "stream",
     "text": [
      "Dim: 768 (768,)\n",
      "Data has 3 entities, each with fields:  dict_keys(['id', 'vector', 'text', 'subject'])\n",
      "Vector dim: 768\n"
     ]
    }
   ],
   "source": [
    "from pymilvus import model\n",
    "\n",
    "\n",
    "embedding_fn = model.DefaultEmbeddingFunction()\n",
    "\n",
    "docs = [\n",
    "    \"Artificial intelligence was founded as an academic discipline in 1956.\",\n",
    "    \"Alan Turing was the first person to conduct substantial research in AI.\",\n",
    "    \"Born in Maida Vale, London, Turing was raised in southern England.\",\n",
    "]\n",
    "\n",
    "vectors = embedding_fn.encode_documents(docs)\n",
    "print(\"Dim:\", embedding_fn.dim, vectors[0].shape)  # Dim: 768 (768,)\n",
    "\n",
    "data = [\n",
    "    {\"id\": i, \"vector\": vectors[i], \"text\": docs[i], \"subject\": \"history\"}\n",
    "    for i in range(len(vectors))\n",
    "]\n",
    "\n",
    "print(\"Data has\", len(data), \"entities, each with fields: \", data[0].keys())\n",
    "print(\"Vector dim:\", len(data[0][\"vector\"]))\n"
   ]
  },
  {
   "cell_type": "code",
   "execution_count": 19,
   "metadata": {},
   "outputs": [
    {
     "name": "stdout",
     "output_type": "stream",
     "text": [
      "{'insert_count': 3, 'ids': [0, 1, 2]}\n"
     ]
    }
   ],
   "source": [
    "res = client.insert(collection_name=\"demo_collection\", data=data)\n",
    "\n",
    "print(res)\n"
   ]
  },
  {
   "cell_type": "code",
   "execution_count": 20,
   "metadata": {},
   "outputs": [
    {
     "name": "stdout",
     "output_type": "stream",
     "text": [
      "data: [\"[{'id': 2, 'distance': 0.5859944820404053, 'entity': {'text': 'Born in Maida Vale, London, Turing was raised in southern England.', 'subject': 'history'}}]\"]\n"
     ]
    }
   ],
   "source": [
    "query_vectors = embedding_fn.encode_queries([\"Who is Alan Turing?\"])\n",
    "\n",
    "res = client.search(\n",
    "    collection_name=\"demo_collection\",  # target collection\n",
    "    data=query_vectors,  # query vectors\n",
    "    limit=2,  # number of returned entities\n",
    "    output_fields=[\"text\", \"subject\"],  # specifies fields to be returned\n",
    ")\n",
    "\n",
    "print(res)\n"
   ]
  }
 ],
 "metadata": {
  "kernelspec": {
   "display_name": "ragserver",
   "language": "python",
   "name": "python3"
  },
  "language_info": {
   "codemirror_mode": {
    "name": "ipython",
    "version": 3
   },
   "file_extension": ".py",
   "mimetype": "text/x-python",
   "name": "python",
   "nbconvert_exporter": "python",
   "pygments_lexer": "ipython3",
   "version": "3.12.4"
  }
 },
 "nbformat": 4,
 "nbformat_minor": 2
}
