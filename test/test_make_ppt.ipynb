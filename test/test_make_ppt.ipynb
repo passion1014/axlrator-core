{
 "cells": [
  {
   "cell_type": "code",
   "execution_count": 2,
   "metadata": {},
   "outputs": [
    {
     "name": "stdout",
     "output_type": "stream",
     "text": [
      "Collecting python-pptx\n",
      "  Obtaining dependency information for python-pptx from https://files.pythonhosted.org/packages/d9/4f/00be2196329ebbff56ce564aa94efb0fbc828d00de250b1980de1a34ab49/python_pptx-1.0.2-py3-none-any.whl.metadata\n",
      "  Downloading python_pptx-1.0.2-py3-none-any.whl.metadata (2.5 kB)\n",
      "Requirement already satisfied: Pillow>=3.3.2 in /Users/passion1014/anaconda3/lib/python3.11/site-packages (from python-pptx) (10.1.0)\n",
      "Collecting XlsxWriter>=0.5.7 (from python-pptx)\n",
      "  Obtaining dependency information for XlsxWriter>=0.5.7 from https://files.pythonhosted.org/packages/a7/ea/53d1fe468e63e092cf16e2c18d16f50c29851242f9dd12d6a66e0d7f0d02/XlsxWriter-3.2.0-py3-none-any.whl.metadata\n",
      "  Downloading XlsxWriter-3.2.0-py3-none-any.whl.metadata (2.6 kB)\n",
      "Requirement already satisfied: lxml>=3.1.0 in /Users/passion1014/anaconda3/lib/python3.11/site-packages (from python-pptx) (5.1.0)\n",
      "Requirement already satisfied: typing-extensions>=4.9.0 in /Users/passion1014/anaconda3/lib/python3.11/site-packages (from python-pptx) (4.12.2)\n",
      "Downloading python_pptx-1.0.2-py3-none-any.whl (472 kB)\n",
      "\u001b[2K   \u001b[90m━━━━━━━━━━━━━━━━━━━━━━━━━━━━━━━━━━━━━━━━\u001b[0m \u001b[32m472.8/472.8 kB\u001b[0m \u001b[31m14.8 MB/s\u001b[0m eta \u001b[36m0:00:00\u001b[0m\n",
      "\u001b[?25hDownloading XlsxWriter-3.2.0-py3-none-any.whl (159 kB)\n",
      "\u001b[2K   \u001b[90m━━━━━━━━━━━━━━━━━━━━━━━━━━━━━━━━━━━━━━━━\u001b[0m \u001b[32m159.9/159.9 kB\u001b[0m \u001b[31m18.6 MB/s\u001b[0m eta \u001b[36m0:00:00\u001b[0m\n",
      "\u001b[?25hInstalling collected packages: XlsxWriter, python-pptx\n",
      "Successfully installed XlsxWriter-3.2.0 python-pptx-1.0.2\n"
     ]
    }
   ],
   "source": [
    "!pip install python-pptx"
   ]
  },
  {
   "cell_type": "markdown",
   "metadata": {},
   "source": []
  },
  {
   "cell_type": "code",
   "execution_count": 1,
   "metadata": {},
   "outputs": [
    {
     "data": {
      "text/plain": [
       "'ppt/250412_기도.pptx'"
      ]
     },
     "execution_count": 1,
     "metadata": {},
     "output_type": "execute_result"
    }
   ],
   "source": [
    "from pptx import Presentation\n",
    "from pptx.util import Pt\n",
    "from pptx.enum.text import PP_ALIGN\n",
    "import os\n",
    "\n",
    "# Initialize the presentation\n",
    "prs = Presentation()\n",
    "\n",
    "# Helper function to create slides with content\n",
    "def create_slide(title, verse, content):\n",
    "    slide = prs.slides.add_slide(prs.slide_layouts[5]) \n",
    "    shapes = slide.shapes\n",
    "    \n",
    "    # Title\n",
    "    title_shape = shapes.title\n",
    "    title_shape.text = verse\n",
    "    title_shape.text_frame.paragraphs[0].font.size = Pt(32)\n",
    "    title_shape.text_frame.paragraphs[0].font.bold = True  # 글자를 bold 체로 설정\n",
    "    title_shape.text_frame.paragraphs[0].alignment = PP_ALIGN.LEFT\n",
    "    title_shape.width = Pt(600)  # 텍스트 박스의 너비를 줄임\n",
    "    title_shape.height = Pt(70)  # 텍스트 박스의 높이를 줄임\n",
    "    title_shape.top = Pt(20)  # x 좌표가 위에서 20 정도 떨어지도록 설정\n",
    "    title_shape.left = Pt(20)  # x 좌표가 위에서 20 정도 떨어지도록 설정\n",
    "\n",
    "    # # Verse\n",
    "    # verse_box = shapes.add_textbox(Pt(50), Pt(100), Pt(800), Pt(50))\n",
    "    # verse_frame = verse_box.text_frame\n",
    "    # verse_frame.text = verse\n",
    "    # verse_frame.paragraphs[0].font.size = Pt(24)\n",
    "    # verse_frame.paragraphs[0].alignment = PP_ALIGN.LEFT\n",
    "\n",
    "    # Content\n",
    "    content_box = shapes.add_textbox(Pt(40), Pt(100), Pt(650), Pt(400))  # 텍스트 박스 크기 조정\n",
    "    content_frame = content_box.text_frame\n",
    "    content_frame.word_wrap = True  # 텍스트가 텍스트박스를 넘어가면 자동 줄바꿈\n",
    "    content_frame.text = content\n",
    "    content_frame.paragraphs[0].font.size = Pt(28)\n",
    "    content_frame.paragraphs[0].font.bold = True\n",
    "    content_frame.paragraphs[0].alignment = PP_ALIGN.LEFT\n",
    "\n",
    "# Content for slides\n",
    "slides_content = [\n",
    "(\"슬라이드 1\", \"눅 22:39-46\", \"예수께서 나가사 습관을 따라 감람 산에 가시매 제자들도 따라갔더니 그 곳에 이르러 그들에게 이르시되 유혹에 빠지지 않게 기도하라 하시고 그들을 떠나 돌 던질 만큼 가서 무릎을 꿇고 기도하여 이르시되 아버지여 만일 아버지의 뜻이거든 이 잔을 내게서 옮기시옵소서 그러나 내 원대로 마시옵고 아버지의 원대로 되기를 원하나이다 하시니 천사가 하늘로부터 예수께 나타나 힘을 더하더라 예수께서 힘쓰고 애써 더욱 간절히 기도하시니 땀이 땅에 떨어지는 핏방울 같이 되더라 기도 후에 일어나 제자들에게 가서 슬픔으로 인하여 잠든 것을 보시고 이르시되 어찌하여 자느냐 시험에 들지 않게 일어나 기도하라 하시니라\"),\n",
    "(\"슬라이드 2\", \"살전 5:17\", \"쉬지 말고 기도하라\"),\n",
    "(\"슬라이드 3\", \"사 1:18\", \"여호와께서 말씀하시되 오라 우리가 서로 변론하자 너희의 죄가 주홍 같을지라도 눈과 같이 희어질 것이요 진홍 같이 붉을지라도 양털 같이 되리라\"),\n",
    "(\"슬라이드 4\", \"사 26:16\", \"여호와여 백성이 환난 중에 주를 앙모하였사오며 주의 징벌이 그들에게 임할 때에 그들이 간절히 주께 기도하였나이다\"),\n",
    "(\"슬라이드 5\", \"롬 12:12\", \"소망 중에 즐거워하며 환난 중에 참으며 기도에 항상 힘쓰며\"),\n",
    "(\"슬라이드 6\", \"시 50:15\", \"환난 날에 나를 부르라 내가 너를 건지리니 네가 나를 영화롭게 하리로다\"),\n",
    "(\"슬라이드 7\", \"약 5:13\", \"너희 중에 고난당하는 자가 있느냐 그는 기도할 것이요 즐거워하는 자가 있느냐 그는 찬송할지니라\"),\n",
    "(\"슬라이드 8\", \"엡 6:18\", \"모든 기도와 간구를 하되 항상 성령 안에서 기도하고 이를 위하여 깨어 구하기를 항상 힘쓰며 여러 성도를 위하여 구하라\"),\n",
    "(\"슬라이드 9\", \"요 14:13\", \"너희가 내 이름으로 무엇을 구하든지 내가 행하리니 이는 아버지로 하여금 아들을 인하여 영광을 받으시게 하려 함이라\"),\n",
    "(\"슬라이드 10\", \"시 27:14\", \"너는 여호와를 바랄지어다 강하고 담대하며 여호와를 바랄지어다\"),\n",
    "(\"슬라이드 11\", \"계 8:3\", \"또 다른 천사가 와서 제단 곁에 서서 금 향로를 가지고 많은 향을 받았으니 이는 모든 성도의 기도들과 합하여 보좌 앞 금단에 드리고자 함이라\"),\n",
    "(\"슬라이드 12\", \"시 69:30\", \"내가 노래로 하나님의 이름을 찬송하며 감사함으로 하나님을 위대하시다 하리니\"),\n",
    "(\"슬라이드 13\", \"히 4:16\", \"그러므로 우리는 긍휼하심을 받고 때를 따라 돕는 은혜를 얻기 위하여 은혜의 보좌 앞에 담대히 나아갈 것이니라\"),\n",
    "(\"슬라이드 14\", \"빌 4:7\", \"그리하면 모든 지각에 뛰어난 하나님의 평강이 그리스도 예수 안에서 너희 마음과 생각을 지키시리라\"),\n",
    "(\"슬라이드 15\", \"사 28:11-12\", \"그러므로 더듬는 입술과 다른 방언으로 그가 이 백성에게 말씀하시리라 전에 그들에게 이르시기를 이것이 너희의 안식이요 이것이 너희의 상쾌함이라 하였으나 그들이 듣지 아니하였도다\"),\n",
    "(\"슬라이드 16\", \"시 42:8\", \"낮에는 여호와께서 그의 인자하심을 베푸시고 밤에는 그의 찬송이 내게 있어 생명의 하나님께 기도하리로다\"),\n",
    "(\"슬라이드 17\", \"요 17:5\", \"아버지여 창세 전에 내가 아버지와 함께 가졌던 영화로써 지금도 아버지와 함께 나를 영화롭게 하옵소서\"),\n",
    "(\"슬라이드 18\", \"출 33:11\", \"사람이 자기의 친구와 이야기함 같이 여호와께서는 모세와 대면하여 말씀하시며 모세는 진으로 돌아오나 눈의 아들 젊은 수종자 여호수아는 회막을 떠나지 아니하니라\"),\n",
    "(\"슬라이드 19\", \"시 116:1-2\", \"여호와께서 내 음성과 내 간구를 들으시므로 내가 그를 사랑하는도다 그의 귀를 내게 기울이셨으므로 내가 평생에 기도하리로다\"),\n",
    "(\"슬라이드 20\", \"시 62:8\", \"백성들아 시시로 그를 의지하고 그의 앞에 마음을 토하라 하나님은 우리의 피난처시로다 셀라\"),\n",
    "(\"슬라이드 21\", \"마 8:2-3\", \"한 나병환자가 나아와 절하며 이르되 주여 원하시면 저를 깨끗하게 하실 수 있나이다 하거늘 예수께서 손을 내밀어 그에게 대시며 이르시되 내가 원하노니 깨끗함을 받으라 하시니 즉시 그의 나병이 깨끗하여진지라\"),\n",
    "(\"슬라이드 22\", \"마 16:19\", \"내가 천국 열쇠를 네게 주리니 네가 땅에서 무엇이든지 매면 하늘에서도 매일 것이요 네가 땅에서 무엇이든지 풀면 하늘에서도 풀리리라 하시고\"),\n",
    "(\"슬라이드 23\", \"요 15:7-8\", \"너희가 내 안에 거하고 내 말이 너희 안에 거하면 무엇이든지 원하는 대로 구하라 그리하면 이루리라 너희가 열매를 많이 맺으면 내 아버지께서 영광을 받으실 것이요 너희는 내 제자가 되리라\"),\n",
    "(\"슬라이드 24\", \"행 16:25\", \"한밤중에 바울과 실라가 기도하고 하나님을 찬송하매 죄수들이 듣더라\"),\n",
    "]\n",
    "\n",
    "\n",
    "\n",
    "\n",
    "# Create slides from content\n",
    "for slide_data in slides_content:\n",
    "    create_slide(*slide_data)\n",
    "\n",
    "# Create the directory if it doesn't exist\n",
    "output_dir = \"ppt\"\n",
    "if not os.path.exists(output_dir):\n",
    "    os.makedirs(output_dir)\n",
    "\n",
    "# Save the presentation\n",
    "output_path = os.path.join(output_dir, \"250412_기도.pptx\")\n",
    "prs.save(output_path)\n",
    "\n",
    "\n",
    "output_path\n"
   ]
  }
 ],
 "metadata": {
  "kernelspec": {
   "display_name": "ragserver",
   "language": "python",
   "name": "python3"
  },
  "language_info": {
   "codemirror_mode": {
    "name": "ipython",
    "version": 3
   },
   "file_extension": ".py",
   "mimetype": "text/x-python",
   "name": "python",
   "nbconvert_exporter": "python",
   "pygments_lexer": "ipython3",
   "version": "3.12.4"
  }
 },
 "nbformat": 4,
 "nbformat_minor": 2
}
