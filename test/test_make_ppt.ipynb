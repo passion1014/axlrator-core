{
 "cells": [
  {
   "cell_type": "code",
   "execution_count": 2,
   "metadata": {},
   "outputs": [
    {
     "name": "stdout",
     "output_type": "stream",
     "text": [
      "Collecting python-pptx\n",
      "  Obtaining dependency information for python-pptx from https://files.pythonhosted.org/packages/d9/4f/00be2196329ebbff56ce564aa94efb0fbc828d00de250b1980de1a34ab49/python_pptx-1.0.2-py3-none-any.whl.metadata\n",
      "  Downloading python_pptx-1.0.2-py3-none-any.whl.metadata (2.5 kB)\n",
      "Requirement already satisfied: Pillow>=3.3.2 in /Users/passion1014/anaconda3/lib/python3.11/site-packages (from python-pptx) (10.1.0)\n",
      "Collecting XlsxWriter>=0.5.7 (from python-pptx)\n",
      "  Obtaining dependency information for XlsxWriter>=0.5.7 from https://files.pythonhosted.org/packages/a7/ea/53d1fe468e63e092cf16e2c18d16f50c29851242f9dd12d6a66e0d7f0d02/XlsxWriter-3.2.0-py3-none-any.whl.metadata\n",
      "  Downloading XlsxWriter-3.2.0-py3-none-any.whl.metadata (2.6 kB)\n",
      "Requirement already satisfied: lxml>=3.1.0 in /Users/passion1014/anaconda3/lib/python3.11/site-packages (from python-pptx) (5.1.0)\n",
      "Requirement already satisfied: typing-extensions>=4.9.0 in /Users/passion1014/anaconda3/lib/python3.11/site-packages (from python-pptx) (4.12.2)\n",
      "Downloading python_pptx-1.0.2-py3-none-any.whl (472 kB)\n",
      "\u001b[2K   \u001b[90m━━━━━━━━━━━━━━━━━━━━━━━━━━━━━━━━━━━━━━━━\u001b[0m \u001b[32m472.8/472.8 kB\u001b[0m \u001b[31m14.8 MB/s\u001b[0m eta \u001b[36m0:00:00\u001b[0m\n",
      "\u001b[?25hDownloading XlsxWriter-3.2.0-py3-none-any.whl (159 kB)\n",
      "\u001b[2K   \u001b[90m━━━━━━━━━━━━━━━━━━━━━━━━━━━━━━━━━━━━━━━━\u001b[0m \u001b[32m159.9/159.9 kB\u001b[0m \u001b[31m18.6 MB/s\u001b[0m eta \u001b[36m0:00:00\u001b[0m\n",
      "\u001b[?25hInstalling collected packages: XlsxWriter, python-pptx\n",
      "Successfully installed XlsxWriter-3.2.0 python-pptx-1.0.2\n"
     ]
    }
   ],
   "source": [
    "!pip install python-pptx"
   ]
  },
  {
   "cell_type": "markdown",
   "metadata": {},
   "source": []
  },
  {
   "cell_type": "code",
   "execution_count": 2,
   "metadata": {},
   "outputs": [
    {
     "data": {
      "text/plain": [
       "'ppt/250222_성령을받아야할이유.pptx'"
      ]
     },
     "execution_count": 2,
     "metadata": {},
     "output_type": "execute_result"
    }
   ],
   "source": [
    "from pptx import Presentation\n",
    "from pptx.util import Pt\n",
    "from pptx.enum.text import PP_ALIGN\n",
    "import os\n",
    "\n",
    "# Initialize the presentation\n",
    "prs = Presentation()\n",
    "\n",
    "# Helper function to create slides with content\n",
    "def create_slide(title, verse, content):\n",
    "    slide = prs.slides.add_slide(prs.slide_layouts[5]) \n",
    "    shapes = slide.shapes\n",
    "    \n",
    "    # Title\n",
    "    title_shape = shapes.title\n",
    "    title_shape.text = verse\n",
    "    title_shape.text_frame.paragraphs[0].font.size = Pt(32)\n",
    "    title_shape.text_frame.paragraphs[0].font.bold = True  # 글자를 bold 체로 설정\n",
    "    title_shape.text_frame.paragraphs[0].alignment = PP_ALIGN.LEFT\n",
    "    title_shape.width = Pt(600)  # 텍스트 박스의 너비를 줄임\n",
    "    title_shape.height = Pt(70)  # 텍스트 박스의 높이를 줄임\n",
    "    title_shape.top = Pt(20)  # x 좌표가 위에서 20 정도 떨어지도록 설정\n",
    "    title_shape.left = Pt(20)  # x 좌표가 위에서 20 정도 떨어지도록 설정\n",
    "\n",
    "    # # Verse\n",
    "    # verse_box = shapes.add_textbox(Pt(50), Pt(100), Pt(800), Pt(50))\n",
    "    # verse_frame = verse_box.text_frame\n",
    "    # verse_frame.text = verse\n",
    "    # verse_frame.paragraphs[0].font.size = Pt(24)\n",
    "    # verse_frame.paragraphs[0].alignment = PP_ALIGN.LEFT\n",
    "\n",
    "    # Content\n",
    "    content_box = shapes.add_textbox(Pt(40), Pt(100), Pt(650), Pt(400))  # 텍스트 박스 크기 조정\n",
    "    content_frame = content_box.text_frame\n",
    "    content_frame.word_wrap = True  # 텍스트가 텍스트박스를 넘어가면 자동 줄바꿈\n",
    "    content_frame.text = content\n",
    "    content_frame.paragraphs[0].font.size = Pt(28)\n",
    "    content_frame.paragraphs[0].font.bold = True\n",
    "    content_frame.paragraphs[0].alignment = PP_ALIGN.LEFT\n",
    "\n",
    "# Content for slides\n",
    "slides_content = [\n",
    "# (\"슬라이드 1\", \"마태복음 6:6-8\", \"너는 기도할 때에 네 골방에 들어가 문을 닫고 은밀한 중에 계신 네 아버지께 기도하라 은밀한 중에 보시는 네 아버지께서 갚으시리라 /또 기도할 때에 이방인과 같이 중언부언하지 말라 그들은 말을 많이 하여야 들으실 줄 생각하느니라 /그러므로 그들을 본받지 말라 구하기 전에 너희에게 있어야 할 것을 하나님 너희 아버지께서 아시느니라\"),\n",
    "(\"슬라이드 1\", \"로마서 8:9\", \"만일 너희 속에 하나님의 영이 거하시면 너희가 육신에 있지 아니하고 영에 있나니 누구든지 그리스도의 영이 없으면 그리스도의 사람이 아니라\"),\n",
    "(\"슬라이드 2\", \"사도행전 19:2\", \"이르되 너희가 믿을 때에 성령을 받았느냐 이르되 아니라 우리는 성령이 계심도 듣지 못하였노라\"),\n",
    "(\"슬라이드 3\", \"고린도전서 12:3\", \"그러므로 내가 너희에게 알리노니 하나님의 영으로 말하는 자는 누구든지 예수를 저주할 자라 하지 아니하고 또 성령으로 아니하고는 누구든지 예수를 주시라 할 수 없느니라\"),\n",
    "(\"슬라이드 4\", \"에스겔 36:27\", \"또 내 영을 너희 속에 두어 너희로 내 율례를 행하게 하리니 너희가 내 규례를 지켜 행할지라\"),\n",
    "(\"슬라이드 5\", \"로마서 8:2\", \"이는 그리스도 예수 안에 있는 생명의 성령의 법이 죄와 사망의 법에서 너를 해방하였음이라\"),\n",
    "(\"슬라이드 6\", \"에베소서 1:17-19\", \"우리 주 예수 그리스도의 하나님, 영광의 아버지께서 지혜와 계시의 영을 너희에게 주사 하나님을 알게 하시고 / 너희 마음의 눈을 밝히사 그의 부르심의 소망이 무엇이며 성도 안에서 그 기업의 영광의 풍성함이 무엇이며 / 그의 힘의 위력으로 역사하심을 따라 믿는 우리에게 베푸신 능력의 지극히 크심이 어떠한 것을 너희로 알게 하시기를 구하노라\"),\n",
    "(\"슬라이드 7\", \"누가복음 11:13\", \"너희가 악할지라도 좋은 것을 자식에게 줄 줄 알거든 하물며 너희 하늘 아버지께서 구하는 자에게 성령을 주시지 않겠느냐 하시니라\"),\n",
    "(\"슬라이드 8\", \"사도행전 1:4\", \"사도와 함께 모이사 그들에게 분부하여 이르시되 예루살렘을 떠나지 말고 내게서 들은 바 아버지께서 약속하신 것을 기다리라\"),\n",
    "(\"슬라이드 9\", \"사도행전 2:1-4\", \"오순절 날이 이미 이르매 그들이 다같이 한 곳에 모였더니 / 홀연히 하늘로부터 급하고 강한 바람 같은 소리가 있어 그들이 앉은 온 집에 가득하며 / 마치 불의 혀처럼 갈라지는 것들이 그들에게 보여 각 사람 위에 하나씩 임하여 있더니 / 그들이 다 성령의 충만함을 받고 성령이 말하게 하심을 따라 다른 언어들로 말하기를 시작하니라\")\n",
    "]\n",
    "\n",
    "# Create slides from content\n",
    "for slide_data in slides_content:\n",
    "    create_slide(*slide_data)\n",
    "\n",
    "# Create the directory if it doesn't exist\n",
    "output_dir = \"ppt\"\n",
    "if not os.path.exists(output_dir):\n",
    "    os.makedirs(output_dir)\n",
    "\n",
    "# Save the presentation\n",
    "output_path = os.path.join(output_dir, \"250222_성령을받아야할이유.pptx\")\n",
    "prs.save(output_path)\n",
    "\n",
    "\n",
    "output_path\n"
   ]
  }
 ],
 "metadata": {
  "kernelspec": {
   "display_name": "ragserver",
   "language": "python",
   "name": "python3"
  },
  "language_info": {
   "codemirror_mode": {
    "name": "ipython",
    "version": 3
   },
   "file_extension": ".py",
   "mimetype": "text/x-python",
   "name": "python",
   "nbconvert_exporter": "python",
   "pygments_lexer": "ipython3",
   "version": "3.12.4"
  }
 },
 "nbformat": 4,
 "nbformat_minor": 2
}
