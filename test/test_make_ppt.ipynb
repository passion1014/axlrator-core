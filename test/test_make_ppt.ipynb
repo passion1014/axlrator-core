{
 "cells": [
  {
   "cell_type": "code",
   "execution_count": 2,
   "metadata": {},
   "outputs": [
    {
     "name": "stdout",
     "output_type": "stream",
     "text": [
      "Collecting python-pptx\n",
      "  Obtaining dependency information for python-pptx from https://files.pythonhosted.org/packages/d9/4f/00be2196329ebbff56ce564aa94efb0fbc828d00de250b1980de1a34ab49/python_pptx-1.0.2-py3-none-any.whl.metadata\n",
      "  Downloading python_pptx-1.0.2-py3-none-any.whl.metadata (2.5 kB)\n",
      "Requirement already satisfied: Pillow>=3.3.2 in /Users/passion1014/anaconda3/lib/python3.11/site-packages (from python-pptx) (10.1.0)\n",
      "Collecting XlsxWriter>=0.5.7 (from python-pptx)\n",
      "  Obtaining dependency information for XlsxWriter>=0.5.7 from https://files.pythonhosted.org/packages/a7/ea/53d1fe468e63e092cf16e2c18d16f50c29851242f9dd12d6a66e0d7f0d02/XlsxWriter-3.2.0-py3-none-any.whl.metadata\n",
      "  Downloading XlsxWriter-3.2.0-py3-none-any.whl.metadata (2.6 kB)\n",
      "Requirement already satisfied: lxml>=3.1.0 in /Users/passion1014/anaconda3/lib/python3.11/site-packages (from python-pptx) (5.1.0)\n",
      "Requirement already satisfied: typing-extensions>=4.9.0 in /Users/passion1014/anaconda3/lib/python3.11/site-packages (from python-pptx) (4.12.2)\n",
      "Downloading python_pptx-1.0.2-py3-none-any.whl (472 kB)\n",
      "\u001b[2K   \u001b[90m━━━━━━━━━━━━━━━━━━━━━━━━━━━━━━━━━━━━━━━━\u001b[0m \u001b[32m472.8/472.8 kB\u001b[0m \u001b[31m14.8 MB/s\u001b[0m eta \u001b[36m0:00:00\u001b[0m\n",
      "\u001b[?25hDownloading XlsxWriter-3.2.0-py3-none-any.whl (159 kB)\n",
      "\u001b[2K   \u001b[90m━━━━━━━━━━━━━━━━━━━━━━━━━━━━━━━━━━━━━━━━\u001b[0m \u001b[32m159.9/159.9 kB\u001b[0m \u001b[31m18.6 MB/s\u001b[0m eta \u001b[36m0:00:00\u001b[0m\n",
      "\u001b[?25hInstalling collected packages: XlsxWriter, python-pptx\n",
      "Successfully installed XlsxWriter-3.2.0 python-pptx-1.0.2\n"
     ]
    }
   ],
   "source": [
    "!pip install python-pptx"
   ]
  },
  {
   "cell_type": "markdown",
   "metadata": {},
   "source": []
  },
  {
   "cell_type": "code",
   "execution_count": 16,
   "metadata": {},
   "outputs": [
    {
     "data": {
      "text/plain": [
       "'ppt/Generated_Presentation.pptx'"
      ]
     },
     "execution_count": 16,
     "metadata": {},
     "output_type": "execute_result"
    }
   ],
   "source": [
    "from pptx import Presentation\n",
    "from pptx.util import Pt\n",
    "from pptx.enum.text import PP_ALIGN\n",
    "import os\n",
    "\n",
    "# Initialize the presentation\n",
    "prs = Presentation()\n",
    "\n",
    "# Helper function to create slides with content\n",
    "def create_slide(title, verse, content):\n",
    "    slide = prs.slides.add_slide(prs.slide_layouts[5]) \n",
    "    shapes = slide.shapes\n",
    "    \n",
    "    # Title\n",
    "    title_shape = shapes.title\n",
    "    title_shape.text = verse\n",
    "    title_shape.text_frame.paragraphs[0].font.size = Pt(32)\n",
    "    title_shape.text_frame.paragraphs[0].font.bold = True  # 글자를 bold 체로 설정\n",
    "    title_shape.text_frame.paragraphs[0].alignment = PP_ALIGN.LEFT\n",
    "    title_shape.width = Pt(600)  # 텍스트 박스의 너비를 줄임\n",
    "    title_shape.height = Pt(70)  # 텍스트 박스의 높이를 줄임\n",
    "    title_shape.top = Pt(20)  # x 좌표가 위에서 20 정도 떨어지도록 설정\n",
    "    title_shape.left = Pt(20)  # x 좌표가 위에서 20 정도 떨어지도록 설정\n",
    "\n",
    "    # # Verse\n",
    "    # verse_box = shapes.add_textbox(Pt(50), Pt(100), Pt(800), Pt(50))\n",
    "    # verse_frame = verse_box.text_frame\n",
    "    # verse_frame.text = verse\n",
    "    # verse_frame.paragraphs[0].font.size = Pt(24)\n",
    "    # verse_frame.paragraphs[0].alignment = PP_ALIGN.LEFT\n",
    "\n",
    "    # Content\n",
    "    content_box = shapes.add_textbox(Pt(40), Pt(100), Pt(650), Pt(400))  # 텍스트 박스 크기 조정\n",
    "    content_frame = content_box.text_frame\n",
    "    content_frame.word_wrap = True  # 텍스트가 텍스트박스를 넘어가면 자동 줄바꿈\n",
    "    content_frame.text = content\n",
    "    content_frame.paragraphs[0].font.size = Pt(28)\n",
    "    content_frame.paragraphs[0].font.bold = True\n",
    "    content_frame.paragraphs[0].alignment = PP_ALIGN.LEFT\n",
    "\n",
    "# Content for slides\n",
    "slides_content = [\n",
    "    (\"슬라이드 1\", \"로마서 1:28-31\", \"또한 저희가 마음에 하나님 두기를 싫어하매 하나님께서 저희를 그 상실한 마음대로 내어 버려두사 합당치 못한 일을 하게 하셨으니 29곧 모든 불의, 추악, 탐욕, 악의가 가득한 자요 시기, 살인, 분쟁, 사기, 악독이 가득한 자요 수군수군하는 자요 30비방하는 자요 하나님의 미워하시는 자요 능욕하는 자요 교만한 자요 자랑하는 자요 악을 도모하는 자요 부모를 거역하는 자요 31우매한 자요 배약하는 자요 무정한 자요 무자비한 자라\"),\n",
    "    (\"슬라이드 1\", \"요한복음 16:8-9\", \"그가 와서 죄에 대하여, 의에 대하여, 심판에 대하여 세상을 책망하시리라 9죄에 대하여라 함은 저희가 나를 믿지 아니함이요\"),\n",
    "    (\"슬라이드 1\", \"디모데후서 3:1-4\", \"네가 이것을 알라 말세에 고통하는 때가 이르리니 2사람들은 자기를 사랑하며 돈을 사랑하며 자긍하며 교만하며 훼방하며 부모를 거역하며 감사치 아니하며 거룩하지 아니하며 3무정하며 원통함을 풀지 아니하며 참소하며 절제하지 못하며 사나우며 선한 것을 좋아 아니하며 4배반하여 팔며 조급하며 자고하며 쾌락을 사랑하기를 하나님 사랑하는 것보다 더하며\"),\n",
    "    (\"슬라이드 1\", \"예레미야 2:13\", \"내 백성이 두 가지 악을 행하였나니 곧 그들이 생수의 근원 되는 나를 버린 것과 스스로 웅덩이를 판 것인데, 그것은 그 물을 가두지 못할 터진 웅덩이니라\"),\n",
    "    (\"슬라이드 1\", \"요엘 2:12-13\", \"여호와의 말씀에 너희는 이제라도 금식하며 울며 애통하고 마음을 다하여 내게로 돌아오라 하셨나니; 너희는 옷을 찢지 말고 마음을 찢고 너희 하나님 여호와께로 돌아올찌어다 그는 은혜로우시며 자비로우시며 노하기를 더디하시며 인애가 크시사 뜻을 돌이켜 재앙을 내리지 아니하시나니\"),\n",
    "    (\"슬라이드 1\", \"마가복음 7:20-23\", \"또 가라사대 사람에게서 나오는 그것이 사람을 더럽게 하느니라 속에서 곧 사람의 마음에서 나오는 것은 악한 생각 곧 음란과 도적질과 살인과 간음과 탐욕과 악독과 속임과 음탕과 흘기는 눈과 훼방과 교만과 광패니 이 모든 악한 것이 다 속에서 나와서 사람을 더럽게 하느니라\"),\n",
    "    (\"슬라이드 1\", \"고린도전서 3:16-17\", \"너희가 하나님의 성전인 것과 하나님의 성령이 너희 안에 거하시는 것을 알지 못하느뇨 17누구든지 하나님의 성전을 더럽히면 하나님이 그 사람을 멸하시리라 하나님의 성전은 거룩하니 너희도 그러하니라\"),\n",
    "    (\"슬라이드 1\", \"히브리서 4:12\", \"하나님의 말씀은 살았고 운동력이 있어 좌우에 날선 어떤 검보다도 예리하여 혼과 영과 및 관절과 골수를 찔러 쪼개기까지 하며 또 마음의 생각과 뜻을 감찰하나니\"),\n",
    "\n",
    "    # (\"슬라이드 1\", \"마가복음 1:38\", \"이르시되 우리가 다른 가까운 마을들로 가자 거기서도 전도하리니 내가 이를 위하여 왔노라 하시고\"),\n",
    "    # (\"슬라이드 2\", \"요한복음 18:37\", \"빌라도가 이르되 그러면 네가 왕이 아니냐 예수께서 대답하시되 네 말과 같이 내가 왕이니라 내가 이를 위하여 태어났으며 이를 위하여 세상에 왔나니 곧 진리에 대하여 증언하려 함이로라 무릇 진리에 속한 자는 내 음성을 듣느니라 하신대\"),\n",
    "    # (\"슬라이드 3\", \"스가랴 9:10\", \"내가 에브라임의 병거와 예루살렘의 말을 끊겠고 전쟁하는 활도 끊으리니 그가 이방 사람에게 화평을 전할 것이요 그의 정권은 바다에서 바다까지 이르고 강에서 땅 끝까지 이르리라\"),\n",
    "    # (\"슬라이드 4\", \"갈라디아서 1:16\", \"그의 아들을 이방에 전하기 위하여 그를 내 속에 나타내시기를 기뻐하셨을 때에 내가 곧 혈육과 의논하지 아니하고\"),\n",
    "    # (\"슬라이드 5\", \"시편 22:31\", \"그의 공의를 장차 태어날 백성에게 전함이여 주께서 이를 행하셨다 할 것이로다\"),\n",
    "    # (\"슬라이드 6\", \"출애굽기 10:2\", \"내가 애굽 사람들에게 나의 표징을 나타내고 너희로 하여금 내가 여호와인 줄을 알게 하려 함이라 하라\"),\n",
    "    # (\"슬라이드 7\", \"시편 48:13\", \"그의 망대를 자세히 보고 그의 궁전을 살펴서 후대에 전하라\"),\n",
    "    # (\"슬라이드 8\", \"시편 78:4\", \"우리가 이를 그들의 자손에게 숨기지 아니하고 여호와의 영예와 그의 능력과 그의 행하신 기이한 일을 후대에 전하리로다\"),\n",
    "    # (\"슬라이드 9\", \"시편 22:30\", \"후손이 그를 섬길 것이요 대대에 주를 전할 것이며\"),\n",
    "    # (\"슬라이드 10\", \"누가복음 4:18\", \"주의 성령이 내게 임하셨으니 이는 가난한 자에게 복음을 전하게 하시려고 내게 기름을 부으시고 나를 보내사 포로 된 자에게 자유를, 눈 먼 자에게 다시 보게 함을 전파하며 눌린 자를 자유롭게 하고\"),\n",
    "    # (\"슬라이드 11\", \"누가복음 5:32\", \"내가 의인을 부르러 온 것이 아니요 죄인을 불러 회개시키러 왔노라\"),\n",
    "    # (\"슬라이드 12\", \"에베소서 4:1~2\", \"그러므로 주 안에서 갇힌 내가 너희를 권하노니 너희가 부르심을 받은 일에 합당하게 행하여 모든 겸손과 온유로 하고 오래 참음으로 사랑 가운데서 서로 용납하고\"),\n",
    "    # (\"슬라이드 13\", \"갈라디아서 5:13\", \"형제들아 너희가 자유를 위하여 부르심을 받았으나 그러나 그 자유로 육체의 기회를 삼지 말고 오직 사랑으로 서로 종 노릇 하라\"),\n",
    "    # (\"슬라이드 14\", \"데살로니가전서 5:18\", \"범사에 감사하라 이것이 그리스도 예수 안에서 너희를 향하신 하나님의 뜻이니라\"),\n",
    "    # (\"슬라이드 15\", \"히브리서 11:8\", \"믿음으로 아브라함은 부르심을 받았을 때에 순종하여 장래 기업으로 받을 땅에 나아갈새 갈 바를 알지 못하고 나아갔으며\"),\n",
    "    # (\"슬라이드 16\", \"베드로전서 1:15\", \"오직 너희를 부르신 거룩한 이처럼 너희도 모든 행실에 거룩한 자가 되라\"),\n",
    "    # (\"슬라이드 17\", \"누가복음 12:49\", \"내가 불을 땅에 던지러 왔노니 이 불이 이미 붙었으면 내가 무엇을 원하리요\"),\n",
    "    # (\"슬라이드 18\", \"요한계시록 20:14~15\", \"사망과 음부도 불못에 던져지니 이것은 둘째 사망 곧 불못이라 누구든지 생명책에 기록되지 못한 자는 불못에 던져지더라\"),\n",
    "    # (\"슬라이드 19\", \"요한복음 19:10\", \"빌라도가 이르되 네가 내게 말하지 아니하느냐 내가 너를 놓을 권한도 있고 십자가에 못 박을 권한도 있는 줄 알지 못하느냐\"),\n",
    "    # (\"슬라이드 20\", \"디모데전서 1:15\", \"미쁘다 모든 사람이 받을 만한 이 말이여 그리스도 예수께서 죄인을 구원하시려고 세상에 임하셨다 하였도다 죄인 중에 내가 괴수니라\"),\n",
    "    # (\"슬라이드 21\", \"요한복음 8:12\", \"예수께서 또 말씀하여 이르시되 나는 세상의 빛이니 나를 따르는 자는 어두움에 다니지 아니하고 생명의 빛을 얻으리라\"),\n",
    "    # (\"슬라이드 22\", \"누가복음 1:79\", \"어두움과 사망의 그늘에 앉은 자에게 빛을 비추고 우리 발을 평강의 길로 인도하시리로다 하니라\"),\n",
    "    # (\"슬라이드 23\", \"누가복음 2:9\", \"주의 사자가 곁에 서고 주의 영광이 그들을 두루 비추매 크게 무서워하니\"),\n",
    "    # (\"슬라이드 24\", \"요한복음 1:5\", \"빛이 어두움에 비치되 어두움이 깨닫지 못하더라\"),\n",
    "    # (\"슬라이드 25\", \"요한복음 1:9\", \"참 빛 곧 세상에 와서 각 사람에게 비추는 빛이 있었나니\"),\n",
    "    # (\"슬라이드 26\", \"요한복음 10:10\", \"도둑이 오는 것은 도둑질하고 죽이고 멸망시키려는 것뿐이요 내가 온 것은 양으로 생명을 얻게 하고 더 풍성이 얻게 하려는 것이라\"),\n",
    "    # (\"슬라이드 27\", \"시편 16:11\", \"주께서 생명의 길을 내게 보이시리니 주의 앞에는 충만한 기쁨이 있고 주의 오른쪽에는 영원한 즐거움이 있나이다\"),\n",
    "    # (\"슬라이드 28\", \"마태복음 7:14\", \"생명으로 인도하는 문은 좁고 길이 협착하여 찾는 이가 적음이라\"),\n",
    "    # (\"슬라이드 29\", \"잠언 14:30\", \"마음의 평안은 육신의 생명이나 식이는 뼈를 썩게 하느니라\"),\n",
    "    # (\"슬라이드 30\", \"신명기 30:19~20\", \"내가 오늘 하늘과 땅을 불러 너희에게 증거를 삼노라 내가 생명과 사망과 복과 저주를 네 앞에 두었은즉 너와 네 자손이 살기 위하여 생명을 택하고 네 하나님 여호와를 사랑하고 그의 음성을 청종하며 또 그를 의지하라 그는 네 생명이시요\"),\n",
    "    # (\"슬라이드 31\", \"마태복음 10:39\", \"자기 목숨을 얻는 자는 잃을 것이요 나를 위하여 자기 목숨을 잃는 자는 얻으리라\"),\n",
    "    # (\"슬라이드 32\", \"마태복음 16:25\", \"누구든지 제 목숨을 구원하고자 하면 잃을 것이요 누구든지 나를 위하여 제 목숨을 잃으면 찾으리라\"),\n",
    "    # (\"슬라이드 33\", \"누가복음 9:24\", \"누구든지 자기 생명을 구원하고자 하면 잃을 것이요 누구든지 나를 위하여 자기 생명을 잃으면 구원하리라\"),\n",
    "    # (\"슬라이드 34\", \"누가복음 17:33\", \"무릇 자기 생명을 보전하고자 하는 자는 잃을 것이요 잃는 자는 살리리라\"),\n",
    "    # (\"슬라이드 35\", \"요한복음 12:25\", \"자기 생명을 사랑하는 자는 잃을 것이요 이 세상에서 자기 생명을 미워하는 자는 영생하도록 보전하리라\"),\n",
    "    # (\"슬라이드 36\", \"요한복음 12:27\", \"지금 내 마음이 괴로우니 무슨 말을 하리요 아버지여 나를 구원하여 이 때를 면하게 하여 주옵소서 그러나 내가 이를 위하여 이 때에 왔나이다\"),\n",
    "]\n",
    "\n",
    "# Create slides from content\n",
    "for slide_data in slides_content:\n",
    "    create_slide(*slide_data)\n",
    "\n",
    "# Create the directory if it doesn't exist\n",
    "output_dir = \"ppt\"\n",
    "if not os.path.exists(output_dir):\n",
    "    os.makedirs(output_dir)\n",
    "\n",
    "# Save the presentation\n",
    "output_path = os.path.join(output_dir, \"Generated_Presentation.pptx\")\n",
    "prs.save(output_path)\n",
    "\n",
    "\n",
    "output_path\n"
   ]
  }
 ],
 "metadata": {
  "kernelspec": {
   "display_name": "base",
   "language": "python",
   "name": "python3"
  },
  "language_info": {
   "codemirror_mode": {
    "name": "ipython",
    "version": 3
   },
   "file_extension": ".py",
   "mimetype": "text/x-python",
   "name": "python",
   "nbconvert_exporter": "python",
   "pygments_lexer": "ipython3",
   "version": "3.11.5"
  }
 },
 "nbformat": 4,
 "nbformat_minor": 2
}
