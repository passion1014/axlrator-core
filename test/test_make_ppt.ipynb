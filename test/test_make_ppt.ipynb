{
 "cells": [
  {
   "cell_type": "code",
   "execution_count": 2,
   "metadata": {},
   "outputs": [
    {
     "name": "stdout",
     "output_type": "stream",
     "text": [
      "Collecting python-pptx\n",
      "  Obtaining dependency information for python-pptx from https://files.pythonhosted.org/packages/d9/4f/00be2196329ebbff56ce564aa94efb0fbc828d00de250b1980de1a34ab49/python_pptx-1.0.2-py3-none-any.whl.metadata\n",
      "  Downloading python_pptx-1.0.2-py3-none-any.whl.metadata (2.5 kB)\n",
      "Requirement already satisfied: Pillow>=3.3.2 in /Users/passion1014/anaconda3/lib/python3.11/site-packages (from python-pptx) (10.1.0)\n",
      "Collecting XlsxWriter>=0.5.7 (from python-pptx)\n",
      "  Obtaining dependency information for XlsxWriter>=0.5.7 from https://files.pythonhosted.org/packages/a7/ea/53d1fe468e63e092cf16e2c18d16f50c29851242f9dd12d6a66e0d7f0d02/XlsxWriter-3.2.0-py3-none-any.whl.metadata\n",
      "  Downloading XlsxWriter-3.2.0-py3-none-any.whl.metadata (2.6 kB)\n",
      "Requirement already satisfied: lxml>=3.1.0 in /Users/passion1014/anaconda3/lib/python3.11/site-packages (from python-pptx) (5.1.0)\n",
      "Requirement already satisfied: typing-extensions>=4.9.0 in /Users/passion1014/anaconda3/lib/python3.11/site-packages (from python-pptx) (4.12.2)\n",
      "Downloading python_pptx-1.0.2-py3-none-any.whl (472 kB)\n",
      "\u001b[2K   \u001b[90m━━━━━━━━━━━━━━━━━━━━━━━━━━━━━━━━━━━━━━━━\u001b[0m \u001b[32m472.8/472.8 kB\u001b[0m \u001b[31m14.8 MB/s\u001b[0m eta \u001b[36m0:00:00\u001b[0m\n",
      "\u001b[?25hDownloading XlsxWriter-3.2.0-py3-none-any.whl (159 kB)\n",
      "\u001b[2K   \u001b[90m━━━━━━━━━━━━━━━━━━━━━━━━━━━━━━━━━━━━━━━━\u001b[0m \u001b[32m159.9/159.9 kB\u001b[0m \u001b[31m18.6 MB/s\u001b[0m eta \u001b[36m0:00:00\u001b[0m\n",
      "\u001b[?25hInstalling collected packages: XlsxWriter, python-pptx\n",
      "Successfully installed XlsxWriter-3.2.0 python-pptx-1.0.2\n"
     ]
    }
   ],
   "source": [
    "!pip install python-pptx"
   ]
  },
  {
   "cell_type": "markdown",
   "metadata": {},
   "source": []
  },
  {
   "cell_type": "code",
   "execution_count": 4,
   "metadata": {},
   "outputs": [
    {
     "data": {
      "text/plain": [
       "'ppt/250214_기도의본질.pptx'"
      ]
     },
     "execution_count": 4,
     "metadata": {},
     "output_type": "execute_result"
    }
   ],
   "source": [
    "from pptx import Presentation\n",
    "from pptx.util import Pt\n",
    "from pptx.enum.text import PP_ALIGN\n",
    "import os\n",
    "\n",
    "# Initialize the presentation\n",
    "prs = Presentation()\n",
    "\n",
    "# Helper function to create slides with content\n",
    "def create_slide(title, verse, content):\n",
    "    slide = prs.slides.add_slide(prs.slide_layouts[5]) \n",
    "    shapes = slide.shapes\n",
    "    \n",
    "    # Title\n",
    "    title_shape = shapes.title\n",
    "    title_shape.text = verse\n",
    "    title_shape.text_frame.paragraphs[0].font.size = Pt(32)\n",
    "    title_shape.text_frame.paragraphs[0].font.bold = True  # 글자를 bold 체로 설정\n",
    "    title_shape.text_frame.paragraphs[0].alignment = PP_ALIGN.LEFT\n",
    "    title_shape.width = Pt(600)  # 텍스트 박스의 너비를 줄임\n",
    "    title_shape.height = Pt(70)  # 텍스트 박스의 높이를 줄임\n",
    "    title_shape.top = Pt(20)  # x 좌표가 위에서 20 정도 떨어지도록 설정\n",
    "    title_shape.left = Pt(20)  # x 좌표가 위에서 20 정도 떨어지도록 설정\n",
    "\n",
    "    # # Verse\n",
    "    # verse_box = shapes.add_textbox(Pt(50), Pt(100), Pt(800), Pt(50))\n",
    "    # verse_frame = verse_box.text_frame\n",
    "    # verse_frame.text = verse\n",
    "    # verse_frame.paragraphs[0].font.size = Pt(24)\n",
    "    # verse_frame.paragraphs[0].alignment = PP_ALIGN.LEFT\n",
    "\n",
    "    # Content\n",
    "    content_box = shapes.add_textbox(Pt(40), Pt(100), Pt(650), Pt(400))  # 텍스트 박스 크기 조정\n",
    "    content_frame = content_box.text_frame\n",
    "    content_frame.word_wrap = True  # 텍스트가 텍스트박스를 넘어가면 자동 줄바꿈\n",
    "    content_frame.text = content\n",
    "    content_frame.paragraphs[0].font.size = Pt(28)\n",
    "    content_frame.paragraphs[0].font.bold = True\n",
    "    content_frame.paragraphs[0].alignment = PP_ALIGN.LEFT\n",
    "\n",
    "# Content for slides\n",
    "slides_content = [\n",
    "(\"슬라이드 1\", \"마태복음 6:6-8\", \"너는 기도할 때에 네 골방에 들어가 문을 닫고 은밀한 중에 계신 네 아버지께 기도하라 은밀한 중에 보시는 네 아버지께서 갚으시리라 /또 기도할 때에 이방인과 같이 중언부언하지 말라 그들은 말을 많이 하여야 들으실 줄 생각하느니라 /그러므로 그들을 본받지 말라 구하기 전에 너희에게 있어야 할 것을 하나님 너희 아버지께서 아시느니라\"),\n",
    "(\"슬라이드 4\", \"갈라디아서 4:6\", \"너희가 아들이므로 하나님이 그 아들의 영을 우리 마음 가운데 보내사 아빠 아버지라 부르게 하셨느니라\"),\n",
    "(\"슬라이드 5\", \"로마서 8:15\", \"너희는 다시 무서워하는 종의 영을 받지 아니하고 양자의 영을 받았으므로 우리가 아빠 아버지라고 부르짖느니라\"),  \n",
    "(\"슬라이드 6\", \"마태복음 7:11\", \"너희가 악한 자라도 좋은 것으로 자식에게 줄줄 알거든 하물며 하늘에 계신 너희 아버지께서 구하는 자에게 좋은 것으로 주시지 않겠느냐\"),  \n",
    "(\"슬라이드 7\", \"빌립보서 4:6\", \"아무 것도 염려하지 말고 다만 모든 일에 기도와 간구로, 너희 구할 것을 감사함으로 하나님께 아뢰라\"),  \n",
    "(\"슬라이드 8\", \"로마서 8:28\", \"우리가 알거니와 하나님을 사랑하는 자 곧 그의 뜻대로 부르심을 입은 자들에게는 모든 것이 합력하여 선을 이루느니라\"),  \n",
    "(\"슬라이드 9\", \"데살로니가전서 5:17\", \"쉬지 말고 기도하라\"),  \n",
    "(\"슬라이드 10\", \"누가복음 22:39-40\", \"예수께서 나가사 습관을 좇아 감람산에 가시매 제자들도 좇았더니 그곳에 이르러 저희에게 이르시되 시험에 들지 않기를 기도하라 하시고\"),  \n",
    "(\"슬라이드 11\", \"로마서 8:26-27\", \"이와 같이 성령도 우리 연약함을 도우시나니 우리가 마땅히 빌 바를 알지 못하나 오직 성령이 말할 수 없는 탄식으로 우리를 위하여 친히 간구하시느니라 마음을 감찰하시는 이가 성령의 생각을 아시나니 이는 성령이 하나님의 뜻대로 성도를 위하여 간구하심이라\"),\n",
    "]\n",
    "\n",
    "# Create slides from content\n",
    "for slide_data in slides_content:\n",
    "    create_slide(*slide_data)\n",
    "\n",
    "# Create the directory if it doesn't exist\n",
    "output_dir = \"ppt\"\n",
    "if not os.path.exists(output_dir):\n",
    "    os.makedirs(output_dir)\n",
    "\n",
    "# Save the presentation\n",
    "output_path = os.path.join(output_dir, \"250214_기도의본질.pptx\")\n",
    "prs.save(output_path)\n",
    "\n",
    "\n",
    "output_path\n"
   ]
  }
 ],
 "metadata": {
  "kernelspec": {
   "display_name": "ragserver",
   "language": "python",
   "name": "python3"
  },
  "language_info": {
   "codemirror_mode": {
    "name": "ipython",
    "version": 3
   },
   "file_extension": ".py",
   "mimetype": "text/x-python",
   "name": "python",
   "nbconvert_exporter": "python",
   "pygments_lexer": "ipython3",
   "version": "3.12.4"
  }
 },
 "nbformat": 4,
 "nbformat_minor": 2
}
