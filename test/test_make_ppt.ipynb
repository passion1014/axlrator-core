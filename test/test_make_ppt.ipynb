{
 "cells": [
  {
   "cell_type": "code",
   "execution_count": 2,
   "metadata": {},
   "outputs": [
    {
     "name": "stdout",
     "output_type": "stream",
     "text": [
      "Collecting python-pptx\n",
      "  Obtaining dependency information for python-pptx from https://files.pythonhosted.org/packages/d9/4f/00be2196329ebbff56ce564aa94efb0fbc828d00de250b1980de1a34ab49/python_pptx-1.0.2-py3-none-any.whl.metadata\n",
      "  Downloading python_pptx-1.0.2-py3-none-any.whl.metadata (2.5 kB)\n",
      "Requirement already satisfied: Pillow>=3.3.2 in /Users/passion1014/anaconda3/lib/python3.11/site-packages (from python-pptx) (10.1.0)\n",
      "Collecting XlsxWriter>=0.5.7 (from python-pptx)\n",
      "  Obtaining dependency information for XlsxWriter>=0.5.7 from https://files.pythonhosted.org/packages/a7/ea/53d1fe468e63e092cf16e2c18d16f50c29851242f9dd12d6a66e0d7f0d02/XlsxWriter-3.2.0-py3-none-any.whl.metadata\n",
      "  Downloading XlsxWriter-3.2.0-py3-none-any.whl.metadata (2.6 kB)\n",
      "Requirement already satisfied: lxml>=3.1.0 in /Users/passion1014/anaconda3/lib/python3.11/site-packages (from python-pptx) (5.1.0)\n",
      "Requirement already satisfied: typing-extensions>=4.9.0 in /Users/passion1014/anaconda3/lib/python3.11/site-packages (from python-pptx) (4.12.2)\n",
      "Downloading python_pptx-1.0.2-py3-none-any.whl (472 kB)\n",
      "\u001b[2K   \u001b[90m━━━━━━━━━━━━━━━━━━━━━━━━━━━━━━━━━━━━━━━━\u001b[0m \u001b[32m472.8/472.8 kB\u001b[0m \u001b[31m14.8 MB/s\u001b[0m eta \u001b[36m0:00:00\u001b[0m\n",
      "\u001b[?25hDownloading XlsxWriter-3.2.0-py3-none-any.whl (159 kB)\n",
      "\u001b[2K   \u001b[90m━━━━━━━━━━━━━━━━━━━━━━━━━━━━━━━━━━━━━━━━\u001b[0m \u001b[32m159.9/159.9 kB\u001b[0m \u001b[31m18.6 MB/s\u001b[0m eta \u001b[36m0:00:00\u001b[0m\n",
      "\u001b[?25hInstalling collected packages: XlsxWriter, python-pptx\n",
      "Successfully installed XlsxWriter-3.2.0 python-pptx-1.0.2\n"
     ]
    }
   ],
   "source": [
    "!pip install python-pptx"
   ]
  },
  {
   "cell_type": "markdown",
   "metadata": {},
   "source": []
  },
  {
   "cell_type": "code",
   "execution_count": null,
   "metadata": {},
   "outputs": [
    {
     "data": {
      "text/plain": [
       "'ppt/250322_기도론1.pptx'"
      ]
     },
     "execution_count": 2,
     "metadata": {},
     "output_type": "execute_result"
    }
   ],
   "source": [
    "from pptx import Presentation\n",
    "from pptx.util import Pt\n",
    "from pptx.enum.text import PP_ALIGN\n",
    "import os\n",
    "\n",
    "# Initialize the presentation\n",
    "prs = Presentation()\n",
    "\n",
    "# Helper function to create slides with content\n",
    "def create_slide(title, verse, content):\n",
    "    slide = prs.slides.add_slide(prs.slide_layouts[5]) \n",
    "    shapes = slide.shapes\n",
    "    \n",
    "    # Title\n",
    "    title_shape = shapes.title\n",
    "    title_shape.text = verse\n",
    "    title_shape.text_frame.paragraphs[0].font.size = Pt(32)\n",
    "    title_shape.text_frame.paragraphs[0].font.bold = True  # 글자를 bold 체로 설정\n",
    "    title_shape.text_frame.paragraphs[0].alignment = PP_ALIGN.LEFT\n",
    "    title_shape.width = Pt(600)  # 텍스트 박스의 너비를 줄임\n",
    "    title_shape.height = Pt(70)  # 텍스트 박스의 높이를 줄임\n",
    "    title_shape.top = Pt(20)  # x 좌표가 위에서 20 정도 떨어지도록 설정\n",
    "    title_shape.left = Pt(20)  # x 좌표가 위에서 20 정도 떨어지도록 설정\n",
    "\n",
    "    # # Verse\n",
    "    # verse_box = shapes.add_textbox(Pt(50), Pt(100), Pt(800), Pt(50))\n",
    "    # verse_frame = verse_box.text_frame\n",
    "    # verse_frame.text = verse\n",
    "    # verse_frame.paragraphs[0].font.size = Pt(24)\n",
    "    # verse_frame.paragraphs[0].alignment = PP_ALIGN.LEFT\n",
    "\n",
    "    # Content\n",
    "    content_box = shapes.add_textbox(Pt(40), Pt(100), Pt(650), Pt(400))  # 텍스트 박스 크기 조정\n",
    "    content_frame = content_box.text_frame\n",
    "    content_frame.word_wrap = True  # 텍스트가 텍스트박스를 넘어가면 자동 줄바꿈\n",
    "    content_frame.text = content\n",
    "    content_frame.paragraphs[0].font.size = Pt(28)\n",
    "    content_frame.paragraphs[0].font.bold = True\n",
    "    content_frame.paragraphs[0].alignment = PP_ALIGN.LEFT\n",
    "\n",
    "# Content for slides\n",
    "slides_content = [\n",
    "    (\"슬라이드 1\", \"행 8:15\", \"그들이 내려가서 그들을 위하여 성령 받기를 기도하니\"),\n",
    "    (\"슬라이드 2\", \"눅 11:13\", \"너희가 악할지라도 좋은 것을 자식에게 줄 줄 알거든 하물며 하늘 아버지께서 구하는 자에게 성령을 주시지 않겠느냐?\"),\n",
    "    (\"슬라이드 3\", \"행 1:8\", \"오직 성령이 너희에게 임하시면 너희가 권능을 받고...\"),\n",
    "    (\"슬라이드 4\", \"갈 5:22-23\", \"사랑과 희락과 화평과 오래 참음과 자비와 양선과 충성과 온유와 절제니...\"),\n",
    "    (\"슬라이드 5\", \"벧전 4:7\", \"만물의 마지막이 가까이 왔으니 그러므로 너희는 정신을 차리고 근신하여 기도하라\"),\n",
    "    (\"슬라이드 6\", \"히 1:2\", \"이 모든 날 마지막에는 아들을 통하여 우리에게 말씀하셨으니...\"),\n",
    "    (\"슬라이드 7\", \"딤후 3:1-5\", \"말세에 고통하는 때가 이르리니... 사람들이 자기를 사랑하며... 경건의 모양은 있으나 경건의 능력은 부인하니...\"),\n",
    "    (\"슬라이드 8\", \"마 26:41\", \"시험에 들지 않게 깨어 기도하라...\"),\n",
    "    (\"슬라이드 9\", \"겔 22:30\", \"성 무너진 틈을 막을 사람을 내가 그 가운데서 찾다가...\"),\n",
    "    (\"슬라이드 10\", \"눅 18:1\", \"항상 기도하고 낙심하지 말아야 할 것을...\"),\n",
    "    (\"슬라이드 11\", \"계 3:16\", \"네가 차지도 아니하고 뜨겁지도 아니하니... 너를 내 입에서 토하여 버리리라\"),\n",
    "    (\"슬라이드 12\", \"살후 3:2-3\", \"또한 우리를 부당하고 악한 사람들에게서 건지시옵소서 하라... 주는 미쁘사 너희를 굳건하게 하시고 악한 자에게서 지키시리라\"),\n",
    "    (\"슬라이드 13\", \"엡 6:11\", \"마귀의 궤계를 능히 대적하기 위하여 하나님의 전신 갑주를 입으라\"),\n",
    "    (\"슬라이드 14\", \"느 6:9\", \"이제 내 손을 힘 있게 하옵소서\"),\n",
    "    (\"슬라이드 15\", \"고후 10:4\", \"우리의 싸우는 무기는 육체에 속한 것이 아니요 오직 하나님 앞에서 견고한 진을 파하는 강력이라\"),\n",
    "    (\"슬라이드 16\", \"엡 6:18\", \"모든 기도와 간구를 하되 항상 성령 안에서 기도하고 이를 위하여 깨어 구하기를 항상 힘쓰며 여러 성도를 위하여 구하라\"),\n",
    "    (\"슬라이드 17\", \"마 6:10\", \"하나님의 뜻이 하늘에서 이루어진 것 같이 땅에서도 이루어지이다\"),\n",
    "    (\"슬라이드 18\", \"요 6:39-40\", \"아들을 보고 믿는 자마다 영생을 얻는 이것이 내 아버지의 뜻이라\"),\n",
    "    (\"슬라이드 19\", \"살전 4:3\", \"하나님의 뜻은 이것이니 너희의 거룩함이라\"),\n",
    "    (\"슬라이드 20\", \"살전 5:16-18\", \"항상 기뻐하라 쉬지 말고 기도하라 범사에 감사하라...\"),\n",
    "    (\"슬라이드 21\", \"벧전 3:17\", \"선을 행함으로 고난 받는 것이 하나님의 뜻일진대...\"),\n",
    "    (\"슬라이드 22\", \"눅 18:13\", \"하나님이여 불쌍히 여기소서 나는 죄인으로소이다 하였느니라\"),\n",
    "    (\"슬라이드 23\", \"엡 1:16-19\", \"너희로 하여금 지혜와 계시의 영을 너희에게 주사 하나님을 알게 하시고...\"),\n",
    "    (\"슬라이드 24\", \"수 1:7\", \"좌로나 우로나 치우치지 말라 그리하면 어디로 가든지 형통하리니\"),\n",
    "    (\"슬라이드 25\", \"왕상 2:3\", \"네 하나님 여호와의 명령을 지켜 그 길로 행하면 네가 무엇을 하든지 어디로 가든지 형통할지라\"),\n",
    "    (\"슬라이드 26\", \"시 1:1-3\", \"복 있는 사람은... 시냇가에 심은 나무가 시절을 따라 열매를 맺으며 그 잎사귀가 마르지 아니함 같으니...\"),\n",
    "    (\"슬라이드 27\", \"시 119:11\", \"내가 주께 범죄하지 아니하려 하여 주의 말씀을 내 마음에 두었나이다\"),\n",
    "    (\"슬라이드 28\", \"신 31:10\", \"너는 이 율법의 말씀을 모든 이스라엘 앞에서 낭독하여 들려주라\"),\n",
    "    (\"슬라이드 29\", \"골 1:9-10\", \"하나님의 뜻을 아는 것으로 채우게 하시고 주께 합당하게 행하여...\"),\n",
    "    (\"슬라이드 30\", \"약 1:5\", \"너희 중에 누구든지 지혜가 부족하거든 후히 주시고 꾸짖지 아니하시는 하나님께 구하라\"),\n",
    "    (\"슬라이드 31\", \"막 13:18\", \"이 일이 겨울에 일어나지 않도록 기도하라\"),\n",
    "]\n",
    "\n",
    "\n",
    "\n",
    "\n",
    "# Create slides from content\n",
    "for slide_data in slides_content:\n",
    "    create_slide(*slide_data)\n",
    "\n",
    "# Create the directory if it doesn't exist\n",
    "output_dir = \"ppt\"\n",
    "if not os.path.exists(output_dir):\n",
    "    os.makedirs(output_dir)\n",
    "\n",
    "# Save the presentation\n",
    "output_path = os.path.join(output_dir, \"250329_기도론2.pptx\")\n",
    "prs.save(output_path)\n",
    "\n",
    "\n",
    "output_path\n"
   ]
  }
 ],
 "metadata": {
  "kernelspec": {
   "display_name": "ragserver",
   "language": "python",
   "name": "python3"
  },
  "language_info": {
   "codemirror_mode": {
    "name": "ipython",
    "version": 3
   },
   "file_extension": ".py",
   "mimetype": "text/x-python",
   "name": "python",
   "nbconvert_exporter": "python",
   "pygments_lexer": "ipython3",
   "version": "3.12.4"
  }
 },
 "nbformat": 4,
 "nbformat_minor": 2
}
