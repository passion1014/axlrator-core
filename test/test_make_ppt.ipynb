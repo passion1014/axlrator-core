{
 "cells": [
  {
   "cell_type": "code",
   "execution_count": 2,
   "metadata": {},
   "outputs": [
    {
     "name": "stdout",
     "output_type": "stream",
     "text": [
      "Collecting python-pptx\n",
      "  Obtaining dependency information for python-pptx from https://files.pythonhosted.org/packages/d9/4f/00be2196329ebbff56ce564aa94efb0fbc828d00de250b1980de1a34ab49/python_pptx-1.0.2-py3-none-any.whl.metadata\n",
      "  Downloading python_pptx-1.0.2-py3-none-any.whl.metadata (2.5 kB)\n",
      "Requirement already satisfied: Pillow>=3.3.2 in /Users/passion1014/anaconda3/lib/python3.11/site-packages (from python-pptx) (10.1.0)\n",
      "Collecting XlsxWriter>=0.5.7 (from python-pptx)\n",
      "  Obtaining dependency information for XlsxWriter>=0.5.7 from https://files.pythonhosted.org/packages/a7/ea/53d1fe468e63e092cf16e2c18d16f50c29851242f9dd12d6a66e0d7f0d02/XlsxWriter-3.2.0-py3-none-any.whl.metadata\n",
      "  Downloading XlsxWriter-3.2.0-py3-none-any.whl.metadata (2.6 kB)\n",
      "Requirement already satisfied: lxml>=3.1.0 in /Users/passion1014/anaconda3/lib/python3.11/site-packages (from python-pptx) (5.1.0)\n",
      "Requirement already satisfied: typing-extensions>=4.9.0 in /Users/passion1014/anaconda3/lib/python3.11/site-packages (from python-pptx) (4.12.2)\n",
      "Downloading python_pptx-1.0.2-py3-none-any.whl (472 kB)\n",
      "\u001b[2K   \u001b[90m━━━━━━━━━━━━━━━━━━━━━━━━━━━━━━━━━━━━━━━━\u001b[0m \u001b[32m472.8/472.8 kB\u001b[0m \u001b[31m14.8 MB/s\u001b[0m eta \u001b[36m0:00:00\u001b[0m\n",
      "\u001b[?25hDownloading XlsxWriter-3.2.0-py3-none-any.whl (159 kB)\n",
      "\u001b[2K   \u001b[90m━━━━━━━━━━━━━━━━━━━━━━━━━━━━━━━━━━━━━━━━\u001b[0m \u001b[32m159.9/159.9 kB\u001b[0m \u001b[31m18.6 MB/s\u001b[0m eta \u001b[36m0:00:00\u001b[0m\n",
      "\u001b[?25hInstalling collected packages: XlsxWriter, python-pptx\n",
      "Successfully installed XlsxWriter-3.2.0 python-pptx-1.0.2\n"
     ]
    }
   ],
   "source": [
    "!pip install python-pptx"
   ]
  },
  {
   "cell_type": "markdown",
   "metadata": {},
   "source": []
  },
  {
   "cell_type": "code",
   "execution_count": 1,
   "metadata": {},
   "outputs": [
    {
     "data": {
      "text/plain": [
       "'ppt/250517_신유론3.pptx'"
      ]
     },
     "execution_count": 1,
     "metadata": {},
     "output_type": "execute_result"
    }
   ],
   "source": [
    "from pptx import Presentation\n",
    "from pptx.util import Pt\n",
    "from pptx.enum.text import PP_ALIGN\n",
    "import os\n",
    "\n",
    "# Initialize the presentation\n",
    "prs = Presentation()\n",
    "\n",
    "# Helper function to create slides with content\n",
    "def create_slide(title, verse, content):\n",
    "    slide = prs.slides.add_slide(prs.slide_layouts[5]) \n",
    "    shapes = slide.shapes\n",
    "    \n",
    "    # Title\n",
    "    title_shape = shapes.title\n",
    "    title_shape.text = verse\n",
    "    title_shape.text_frame.paragraphs[0].font.size = Pt(32)\n",
    "    title_shape.text_frame.paragraphs[0].font.bold = True  # 글자를 bold 체로 설정\n",
    "    title_shape.text_frame.paragraphs[0].alignment = PP_ALIGN.LEFT\n",
    "    title_shape.width = Pt(600)  # 텍스트 박스의 너비를 줄임\n",
    "    title_shape.height = Pt(70)  # 텍스트 박스의 높이를 줄임\n",
    "    title_shape.top = Pt(20)  # x 좌표가 위에서 20 정도 떨어지도록 설정\n",
    "    title_shape.left = Pt(20)  # x 좌표가 위에서 20 정도 떨어지도록 설정\n",
    "\n",
    "    # # Verse\n",
    "    # verse_box = shapes.add_textbox(Pt(50), Pt(100), Pt(800), Pt(50))\n",
    "    # verse_frame = verse_box.text_frame\n",
    "    # verse_frame.text = verse\n",
    "    # verse_frame.paragraphs[0].font.size = Pt(24)\n",
    "    # verse_frame.paragraphs[0].alignment = PP_ALIGN.LEFT\n",
    "\n",
    "    # Content\n",
    "    content_box = shapes.add_textbox(Pt(40), Pt(100), Pt(650), Pt(400))  # 텍스트 박스 크기 조정\n",
    "    content_frame = content_box.text_frame\n",
    "    content_frame.word_wrap = True  # 텍스트가 텍스트박스를 넘어가면 자동 줄바꿈\n",
    "    content_frame.text = content\n",
    "    content_frame.paragraphs[0].font.size = Pt(28)\n",
    "    content_frame.paragraphs[0].font.bold = True\n",
    "    content_frame.paragraphs[0].alignment = PP_ALIGN.LEFT\n",
    "\n",
    "# Content for slides\n",
    "slides_content = [\n",
    "    ('슬라이드 1', '요5:6', '예수께서 그 누운 것을 보시고 병이 벌써 오래된 줄 아시고 이르시되 네가 낫고자 하느냐'),\n",
    "    ('슬라이드 2', '예레미야 29:13', '너희가 온 마음으로 나를 구하면 나를 찾을 것이요 나를 만나리라'),\n",
    "    ('슬라이드 3', '누가복음 22:44', '예수께서 힘쓰고 애써 더욱 간절히 기도하시니 땀이 땅에 떨어지는 핏방울 같이 되더라'),\n",
    "    ('슬라이드 4', '히브리서 5:7', '그는 육체에 계실 때에 자기를 죽음에서 능히 구원하실 이에게 큰 소리와 눈물로 간구와 소원을 올렸고 그의 경외하심을 인하여 들으심을 얻었느니라'),\n",
    "    ('슬라이드 5', '다니엘 9:3', '내가 금식하며 베옷을 입고 재를 무릅쓰고 주 하나님께 기도하며 간구하기를 결심하고'),\n",
    "    ('슬라이드 6', '누가복음 18:7', '하물며 하나님께서 그 밤낮 부르짖는 택하신 자들의 원한을 풀어주시지 아니하시겠느냐 그들에게 오래 참으시겠느냐'),\n",
    "    ('슬라이드 7', '시편 145:18-19', '여호와는 자기에게 간구하는 모든 자, 곧 진실하게 간구하는 모든 자에게 가까이 하시는도다 / 그는 자기를 경외하는 자들의 소원을 이루시며 또 그들의 부르짖음을 들으사 구원하시리로다'),\n",
    "    ('슬라이드 8', '고전12:9', '다른 사람에게는 같은 성령으로 믿음을, 어떤 사람에게는 한 성령으로 병 고치는 은사를,'),\n",
    "    ('슬라이드 9', '스가랴 4:6', '그가 내게 일러 가로되 여호와께서 스룹바벨에게 하신 말씀이 이러하니라 이는 힘으로 되지 아니하며 능으로 되지 아니하고 오직 나의 신으로 되는이라 만군의 여호와의 말이니라'),\n",
    "    ('슬라이드 10', '고린도전서 2:4-5', '내 말과 내 전도함이 설득력 있는 지혜의 말로 하지 아니하고 다만 성령의 나타나심과 능력으로 하여 / 너희 믿음이 사람의 지혜에 있지 아니하고 다만 하나님의 능력에 있게 하려 하였노라'),\n",
    "    ('슬라이드 11', '고후12:7-9', '여러 계시를 받은 것이 지극히 크므로 너무 자만하지 않게 하시려고 내 육체에 가시 곧 사탄의 사자를 주셨으니 이는 나를 쳐서 너무 자만하지 않게 하려 하심이라 / 이것이 내게서 떠나가게 하기 위하여 내가 세 번 주께 간구하였더니 / 나에게 이르시기를 내 은혜가 네게 족하도다 이는 내 능력이 약한 데서 온전하여짐이라 하신지라 그러므로 도리어 크게 기뻐함으로 나의 여러 약한 것들에 대하여 자랑하리니 이는 그리스도의 능력이 내게 머물게 하려 함이라'),\n",
    "    ('슬라이드 12', '요삼1:2', '사랑하는 자여 네 영혼이 잘됨 같이 네가 범사에 잘되고 강건하기를 내가 간구하노라'),\n",
    "    ('슬라이드 13', '출15:26', '이르시되 너희가 너희 하나님 나 여호와의 말을 들어 순종하고 내가 보기에 의를 행하며 내 계명에 귀를 기울이며 내 모든 규례를 지키면 내가 애굽 사람에게 내린 모든 질병 중 하나도 너희에게 내리지 아니하리니 나는 너희를 치료하는 여호와임이라'),\n",
    "    ('슬라이드 14', '로마서 1:17', '복음에는 하나님의 의가 나타나서 믿음으로 믿음에 이르게 하나니 기록된 바 오직 의인은 믿음으로 말미암아 살리라 함과 같으니라'),\n",
    "    ('슬라이드 15', '출23:25', '네 하나님 여호와를 섬기라 그리하면 여호와가 너희의 양식과 물에 복을 내리고 너희 중에서 병을 제하리니'),\n",
    "    ('슬라이드 16', '수24:14-15', '그러므로 이제는 여호와를 경외하며 온전함과 진실함으로 그를 섬기라 너희의 조상들이 강 저쪽과 애굽에서 섬기던 신들을 치워 버리고 여호와만 섬기라 / 만일 여호와를 섬기는 것이 너희에게 좋지 않게 보이거든... 오직 나와 내 집은 여호와를 섬기겠노라 하니'),\n",
    "    ('슬라이드 17', '왕상8:37-39', '만일 이 땅에 기근이나 전염병이 있거나... 주는 계신 곳 하늘에서 들으시고 사하시며 각 사람의 마음을 아시오니 그들의 모든 행위대로 행하사 갚으시옵소서'),\n",
    "    ('슬라이드 18', '잠언 3:11-12', '내 아들아 여호와의 징계를 경히 여기지 말라 그 꾸지람을 싫어하지 말라 / 대저 여호와는 그 사랑하시는 자를 징계하시기를 마치 아버지가 그 기뻐하는 아들을 징계함 같이 하시느니라'),\n",
    "    ('슬라이드 19', '요한계시록 3:19', '무릇 내가 사랑하는 자를 책망하여 징계하노니 그러므로 네가 열심을 내라 회개하라'),\n",
    "]\n",
    "\n",
    "\n",
    "# Create slides from content\n",
    "for slide_data in slides_content:\n",
    "    create_slide(*slide_data)\n",
    "\n",
    "# Create the directory if it doesn't exist\n",
    "output_dir = \"ppt\"\n",
    "if not os.path.exists(output_dir):\n",
    "    os.makedirs(output_dir)\n",
    "\n",
    "# Save the presentation\n",
    "output_path = os.path.join(output_dir, \"250517_신유론3.pptx\")\n",
    "prs.save(output_path)\n",
    "\n",
    "\n",
    "output_path\n"
   ]
  }
 ],
 "metadata": {
  "kernelspec": {
   "display_name": "venv",
   "language": "python",
   "name": "python3"
  },
  "language_info": {
   "codemirror_mode": {
    "name": "ipython",
    "version": 3
   },
   "file_extension": ".py",
   "mimetype": "text/x-python",
   "name": "python",
   "nbconvert_exporter": "python",
   "pygments_lexer": "ipython3",
   "version": "3.12.6"
  }
 },
 "nbformat": 4,
 "nbformat_minor": 2
}
