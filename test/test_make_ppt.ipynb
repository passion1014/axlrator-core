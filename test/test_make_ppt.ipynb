{
 "cells": [
  {
   "cell_type": "code",
   "execution_count": 2,
   "metadata": {},
   "outputs": [
    {
     "name": "stdout",
     "output_type": "stream",
     "text": [
      "Collecting python-pptx\n",
      "  Obtaining dependency information for python-pptx from https://files.pythonhosted.org/packages/d9/4f/00be2196329ebbff56ce564aa94efb0fbc828d00de250b1980de1a34ab49/python_pptx-1.0.2-py3-none-any.whl.metadata\n",
      "  Downloading python_pptx-1.0.2-py3-none-any.whl.metadata (2.5 kB)\n",
      "Requirement already satisfied: Pillow>=3.3.2 in /Users/passion1014/anaconda3/lib/python3.11/site-packages (from python-pptx) (10.1.0)\n",
      "Collecting XlsxWriter>=0.5.7 (from python-pptx)\n",
      "  Obtaining dependency information for XlsxWriter>=0.5.7 from https://files.pythonhosted.org/packages/a7/ea/53d1fe468e63e092cf16e2c18d16f50c29851242f9dd12d6a66e0d7f0d02/XlsxWriter-3.2.0-py3-none-any.whl.metadata\n",
      "  Downloading XlsxWriter-3.2.0-py3-none-any.whl.metadata (2.6 kB)\n",
      "Requirement already satisfied: lxml>=3.1.0 in /Users/passion1014/anaconda3/lib/python3.11/site-packages (from python-pptx) (5.1.0)\n",
      "Requirement already satisfied: typing-extensions>=4.9.0 in /Users/passion1014/anaconda3/lib/python3.11/site-packages (from python-pptx) (4.12.2)\n",
      "Downloading python_pptx-1.0.2-py3-none-any.whl (472 kB)\n",
      "\u001b[2K   \u001b[90m━━━━━━━━━━━━━━━━━━━━━━━━━━━━━━━━━━━━━━━━\u001b[0m \u001b[32m472.8/472.8 kB\u001b[0m \u001b[31m14.8 MB/s\u001b[0m eta \u001b[36m0:00:00\u001b[0m\n",
      "\u001b[?25hDownloading XlsxWriter-3.2.0-py3-none-any.whl (159 kB)\n",
      "\u001b[2K   \u001b[90m━━━━━━━━━━━━━━━━━━━━━━━━━━━━━━━━━━━━━━━━\u001b[0m \u001b[32m159.9/159.9 kB\u001b[0m \u001b[31m18.6 MB/s\u001b[0m eta \u001b[36m0:00:00\u001b[0m\n",
      "\u001b[?25hInstalling collected packages: XlsxWriter, python-pptx\n",
      "Successfully installed XlsxWriter-3.2.0 python-pptx-1.0.2\n"
     ]
    }
   ],
   "source": [
    "!pip install python-pptx"
   ]
  },
  {
   "cell_type": "markdown",
   "metadata": {},
   "source": []
  },
  {
   "cell_type": "code",
   "execution_count": 1,
   "metadata": {},
   "outputs": [
    {
     "data": {
      "text/plain": [
       "'ppt/250419_전쟁의승리와남은전투.pptx'"
      ]
     },
     "execution_count": 1,
     "metadata": {},
     "output_type": "execute_result"
    }
   ],
   "source": [
    "from pptx import Presentation\n",
    "from pptx.util import Pt\n",
    "from pptx.enum.text import PP_ALIGN\n",
    "import os\n",
    "\n",
    "# Initialize the presentation\n",
    "prs = Presentation()\n",
    "\n",
    "# Helper function to create slides with content\n",
    "def create_slide(title, verse, content):\n",
    "    slide = prs.slides.add_slide(prs.slide_layouts[5]) \n",
    "    shapes = slide.shapes\n",
    "    \n",
    "    # Title\n",
    "    title_shape = shapes.title\n",
    "    title_shape.text = verse\n",
    "    title_shape.text_frame.paragraphs[0].font.size = Pt(32)\n",
    "    title_shape.text_frame.paragraphs[0].font.bold = True  # 글자를 bold 체로 설정\n",
    "    title_shape.text_frame.paragraphs[0].alignment = PP_ALIGN.LEFT\n",
    "    title_shape.width = Pt(600)  # 텍스트 박스의 너비를 줄임\n",
    "    title_shape.height = Pt(70)  # 텍스트 박스의 높이를 줄임\n",
    "    title_shape.top = Pt(20)  # x 좌표가 위에서 20 정도 떨어지도록 설정\n",
    "    title_shape.left = Pt(20)  # x 좌표가 위에서 20 정도 떨어지도록 설정\n",
    "\n",
    "    # # Verse\n",
    "    # verse_box = shapes.add_textbox(Pt(50), Pt(100), Pt(800), Pt(50))\n",
    "    # verse_frame = verse_box.text_frame\n",
    "    # verse_frame.text = verse\n",
    "    # verse_frame.paragraphs[0].font.size = Pt(24)\n",
    "    # verse_frame.paragraphs[0].alignment = PP_ALIGN.LEFT\n",
    "\n",
    "    # Content\n",
    "    content_box = shapes.add_textbox(Pt(40), Pt(100), Pt(650), Pt(400))  # 텍스트 박스 크기 조정\n",
    "    content_frame = content_box.text_frame\n",
    "    content_frame.word_wrap = True  # 텍스트가 텍스트박스를 넘어가면 자동 줄바꿈\n",
    "    content_frame.text = content\n",
    "    content_frame.paragraphs[0].font.size = Pt(28)\n",
    "    content_frame.paragraphs[0].font.bold = True\n",
    "    content_frame.paragraphs[0].alignment = PP_ALIGN.LEFT\n",
    "\n",
    "# Content for slides\n",
    "slides_content = [\n",
    "    (\"슬라이드 1\", \"약 5:14-15\", \"너희 중에 병든 자가 있느냐 그는 교회의 장로들을 청할 것이요 그들은 주의 이름으로 기름을 바르며 그를 위하여 기도할지니라 믿음의 기도는 병든자를 구원하리니 주께서 그를 일으키시리라 혹시 죄를 범하였을지라도 사하심을 받으리라\"),\n",
    "    (\"슬라이드 2\", \"왕상 17:2-6\", \"여호와의 말씀이 엘리야에게 임하여 이르시되... 내가 까마귀들에게 명령하여 거기서 너를 먹이게 하였느니라\"),\n",
    "    (\"슬라이드 3\", \"딤전 5:23\", \"이제부터는 물만 마시지 말고 네 위장과 자주 나는 병을 위하여 포도주를 조금씩 쓰라\"),\n",
    "    (\"슬라이드 4\", \"요삼 1:2\", \"사랑하는 자여 네 영혼이 잘 됨 같이 네가 범사에 잘 되고 강건하기를 내가 간구하노라\"),\n",
    "    (\"슬라이드 5\", \"행 19:11-12\", \"하나님이 바울의 손으로 놀라운 능력을 행하게 하시니 심지어 사람들이 바울의 몸에서 손수건이나 앞치마를 가져다가 병든 사람에게 얹으면 그 병이 떠나고 악귀도 나가더라\"),\n",
    "    (\"슬라이드 6\", \"신 28:20-22\", \"네가 악을 행하여 그를 잊으므로... 여호와께서 폐병과 열병과 염증과 학질과 한재와 풍재와 썩는 재앙으로 너를 치시리니\"),\n",
    "    (\"슬라이드 7\", \"대하 26:19\", \"웃시야가 손으로 향로를 잡고 분향하려 하다가 화를 내니... 그의 이마에 나병이 생긴지라\"),\n",
    "    (\"슬라이드 8\", \"막 2:5\", \"예수께서 그들의 믿음을 보시고 중풍병자에게 이르시되 작은 자야 네 죄 사함을 받았느니라\"),\n",
    "    (\"슬라이드 9\", \"욥 2:7\", \"사탄이 이에 여호와 앞에서 물러가서 욥을 쳐서 그의 발바닥에서 정수리까지 종기가 나게 한지라\"),\n",
    "    (\"슬라이드 10\", \"욥 42:7-8\", \"여호와께서 욥에게 이 말씀을 하신 후에... 내 종 욥이 너희를 위하여 기도할 것인즉 내가 그를 기쁘게 받으리니\"),\n",
    "    (\"슬라이드 11\", \"요 9:1-3\", \"이 사람이나 그 부모의 죄로 인한 것이 아니라 그에게서 하나님이 하시는 일을 나타내고자 하심이라\"),\n",
    "    (\"슬라이드 12\", \"요 9:38\", \"이르되 주여 내가 믿나이다 하고 절하는지라\"),\n",
    "    (\"슬라이드 13\", \"딤후 2:22\", \"또한 너는 청년의 정욕을 피하고... 의와 믿음과 사랑과 화평을 따르라\"),\n",
    "    (\"슬라이드 14\", \"고전 11:29-30\", \"주의 몸을 분별하지 못하고 먹고 마시는 자는 자기의 죄를 먹고 마시는 것이니라 그러므로 너희 중에 약한 자와 병든 자가 많고 잠자는 자도 적지 아니하니\"),\n",
    "    (\"슬라이드 15\", \"욥 33:9-11\", \"나는 깨끗하여 악인이 아니며 순전하고 불의도 없거늘... 내 발을 차꼬에 채우시고 나의 모든 길을 감시하신다 하였느니라\"),\n",
    "    (\"슬라이드 16\", \"욥 42:5\", \"내가 주께 대하여 귀로 듣기만 하였사오나 이제는 눈으로 주를 뵈옵나이다\"),\n",
    "    (\"슬라이드 17\", \"욥 23:10\", \"그러나 내가 가는 길을 그가 아시나니 그가 나를 단련하신 후에는 내가 순금 같이 되어 나오리라\"),\n",
    "]\n",
    "\n",
    "\n",
    "\n",
    "# Create slides from content\n",
    "for slide_data in slides_content:\n",
    "    create_slide(*slide_data)\n",
    "\n",
    "# Create the directory if it doesn't exist\n",
    "output_dir = \"ppt\"\n",
    "if not os.path.exists(output_dir):\n",
    "    os.makedirs(output_dir)\n",
    "\n",
    "# Save the presentation\n",
    "output_path = os.path.join(output_dir, \"250502_신유론1.pptx\")\n",
    "prs.save(output_path)\n",
    "\n",
    "\n",
    "output_path\n"
   ]
  }
 ],
 "metadata": {
  "kernelspec": {
   "display_name": "ragserver",
   "language": "python",
   "name": "python3"
  },
  "language_info": {
   "codemirror_mode": {
    "name": "ipython",
    "version": 3
   },
   "file_extension": ".py",
   "mimetype": "text/x-python",
   "name": "python",
   "nbconvert_exporter": "python",
   "pygments_lexer": "ipython3",
   "version": "3.12.4"
  }
 },
 "nbformat": 4,
 "nbformat_minor": 2
}
