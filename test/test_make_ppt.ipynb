{
 "cells": [
  {
   "cell_type": "code",
   "execution_count": 2,
   "metadata": {},
   "outputs": [
    {
     "name": "stdout",
     "output_type": "stream",
     "text": [
      "Collecting python-pptx\n",
      "  Obtaining dependency information for python-pptx from https://files.pythonhosted.org/packages/d9/4f/00be2196329ebbff56ce564aa94efb0fbc828d00de250b1980de1a34ab49/python_pptx-1.0.2-py3-none-any.whl.metadata\n",
      "  Downloading python_pptx-1.0.2-py3-none-any.whl.metadata (2.5 kB)\n",
      "Requirement already satisfied: Pillow>=3.3.2 in /Users/passion1014/anaconda3/lib/python3.11/site-packages (from python-pptx) (10.1.0)\n",
      "Collecting XlsxWriter>=0.5.7 (from python-pptx)\n",
      "  Obtaining dependency information for XlsxWriter>=0.5.7 from https://files.pythonhosted.org/packages/a7/ea/53d1fe468e63e092cf16e2c18d16f50c29851242f9dd12d6a66e0d7f0d02/XlsxWriter-3.2.0-py3-none-any.whl.metadata\n",
      "  Downloading XlsxWriter-3.2.0-py3-none-any.whl.metadata (2.6 kB)\n",
      "Requirement already satisfied: lxml>=3.1.0 in /Users/passion1014/anaconda3/lib/python3.11/site-packages (from python-pptx) (5.1.0)\n",
      "Requirement already satisfied: typing-extensions>=4.9.0 in /Users/passion1014/anaconda3/lib/python3.11/site-packages (from python-pptx) (4.12.2)\n",
      "Downloading python_pptx-1.0.2-py3-none-any.whl (472 kB)\n",
      "\u001b[2K   \u001b[90m━━━━━━━━━━━━━━━━━━━━━━━━━━━━━━━━━━━━━━━━\u001b[0m \u001b[32m472.8/472.8 kB\u001b[0m \u001b[31m14.8 MB/s\u001b[0m eta \u001b[36m0:00:00\u001b[0m\n",
      "\u001b[?25hDownloading XlsxWriter-3.2.0-py3-none-any.whl (159 kB)\n",
      "\u001b[2K   \u001b[90m━━━━━━━━━━━━━━━━━━━━━━━━━━━━━━━━━━━━━━━━\u001b[0m \u001b[32m159.9/159.9 kB\u001b[0m \u001b[31m18.6 MB/s\u001b[0m eta \u001b[36m0:00:00\u001b[0m\n",
      "\u001b[?25hInstalling collected packages: XlsxWriter, python-pptx\n",
      "Successfully installed XlsxWriter-3.2.0 python-pptx-1.0.2\n"
     ]
    }
   ],
   "source": [
    "!pip install python-pptx"
   ]
  },
  {
   "cell_type": "markdown",
   "metadata": {},
   "source": []
  },
  {
   "cell_type": "code",
   "execution_count": 1,
   "metadata": {},
   "outputs": [
    {
     "data": {
      "text/plain": [
       "'ppt/250405_항상기뻐하라.pptx'"
      ]
     },
     "execution_count": 1,
     "metadata": {},
     "output_type": "execute_result"
    }
   ],
   "source": [
    "from pptx import Presentation\n",
    "from pptx.util import Pt\n",
    "from pptx.enum.text import PP_ALIGN\n",
    "import os\n",
    "\n",
    "# Initialize the presentation\n",
    "prs = Presentation()\n",
    "\n",
    "# Helper function to create slides with content\n",
    "def create_slide(title, verse, content):\n",
    "    slide = prs.slides.add_slide(prs.slide_layouts[5]) \n",
    "    shapes = slide.shapes\n",
    "    \n",
    "    # Title\n",
    "    title_shape = shapes.title\n",
    "    title_shape.text = verse\n",
    "    title_shape.text_frame.paragraphs[0].font.size = Pt(32)\n",
    "    title_shape.text_frame.paragraphs[0].font.bold = True  # 글자를 bold 체로 설정\n",
    "    title_shape.text_frame.paragraphs[0].alignment = PP_ALIGN.LEFT\n",
    "    title_shape.width = Pt(600)  # 텍스트 박스의 너비를 줄임\n",
    "    title_shape.height = Pt(70)  # 텍스트 박스의 높이를 줄임\n",
    "    title_shape.top = Pt(20)  # x 좌표가 위에서 20 정도 떨어지도록 설정\n",
    "    title_shape.left = Pt(20)  # x 좌표가 위에서 20 정도 떨어지도록 설정\n",
    "\n",
    "    # # Verse\n",
    "    # verse_box = shapes.add_textbox(Pt(50), Pt(100), Pt(800), Pt(50))\n",
    "    # verse_frame = verse_box.text_frame\n",
    "    # verse_frame.text = verse\n",
    "    # verse_frame.paragraphs[0].font.size = Pt(24)\n",
    "    # verse_frame.paragraphs[0].alignment = PP_ALIGN.LEFT\n",
    "\n",
    "    # Content\n",
    "    content_box = shapes.add_textbox(Pt(40), Pt(100), Pt(650), Pt(400))  # 텍스트 박스 크기 조정\n",
    "    content_frame = content_box.text_frame\n",
    "    content_frame.word_wrap = True  # 텍스트가 텍스트박스를 넘어가면 자동 줄바꿈\n",
    "    content_frame.text = content\n",
    "    content_frame.paragraphs[0].font.size = Pt(28)\n",
    "    content_frame.paragraphs[0].font.bold = True\n",
    "    content_frame.paragraphs[0].alignment = PP_ALIGN.LEFT\n",
    "\n",
    "# Content for slides\n",
    "slides_content = [\n",
    "    (\"슬라이드 1\", \"행 14:19-20\", \"유대인들이 안디옥과 이고니온에서 와서 무리를 충동하니 그들이 돌로 바울을 쳐서 죽은 줄로 알고 시외로 끌어 내치니라. 제자들이 둘러섰을 때에 바울이 일어나\"),\n",
    "    (\"슬라이드 2\", \"살전 5:16-18\", \"항상 기뻐하라, 쉬지 말고 기도하라, 범사에 감사하라 이것이 그리스도 예수 안에서 너희를 향하신 하나님의 뜻이니라\"),\n",
    "    (\"슬라이드 3\", \"빌 4:4\", \"주 안에서 항상 기뻐하라 내가 다시 말하노니 기뻐하라\"),\n",
    "    (\"슬라이드 4\", \"요 17:13\", \"내가 지금 아버지께로 가오니 내가 세상에서 이 말을 하옵는 것은 그들로 내 기쁨을 그들 안에 충만히 가지게 하려 함이니이다\"),\n",
    "    (\"슬라이드 5\", \"빌 3:7-9\", \"무엇이든지 내게 유익하던 것을 내가 그리스도를 위하여 다 해로 여길 뿐더러… 내가 가진 의는 율법에서 난 것이 아니요 오직 그리스도를 믿음으로 말미암은 것이니\"),\n",
    "    (\"슬라이드 6\", \"하박 3:17-18\", \"비록 무화과 나무가 무성하지 못하며 포도나무에 열매가 없으며… 나는 여호와로 말미암아 즐거워하며 나의 구원의 하나님으로 말미암아 기뻐하리로다\"),\n",
    "    (\"슬라이드 7\", \"느 8:10\", \"이 날은 주의 성일이니 근심하지 말라 여호와로 인하여 기뻐하는 것이 너희의 힘이니라 하고\"),\n",
    "    (\"슬라이드 8\", \"시 23:1\", \"여호와는 나의 목자시니 내게 부족함이 없으리로다\"),\n",
    "]\n",
    "\n",
    "\n",
    "\n",
    "\n",
    "# Create slides from content\n",
    "for slide_data in slides_content:\n",
    "    create_slide(*slide_data)\n",
    "\n",
    "# Create the directory if it doesn't exist\n",
    "output_dir = \"ppt\"\n",
    "if not os.path.exists(output_dir):\n",
    "    os.makedirs(output_dir)\n",
    "\n",
    "# Save the presentation\n",
    "output_path = os.path.join(output_dir, \"250405_항상기뻐하라.pptx\")\n",
    "prs.save(output_path)\n",
    "\n",
    "\n",
    "output_path\n"
   ]
  }
 ],
 "metadata": {
  "kernelspec": {
   "display_name": "ragserver",
   "language": "python",
   "name": "python3"
  },
  "language_info": {
   "codemirror_mode": {
    "name": "ipython",
    "version": 3
   },
   "file_extension": ".py",
   "mimetype": "text/x-python",
   "name": "python",
   "nbconvert_exporter": "python",
   "pygments_lexer": "ipython3",
   "version": "3.12.4"
  }
 },
 "nbformat": 4,
 "nbformat_minor": 2
}
