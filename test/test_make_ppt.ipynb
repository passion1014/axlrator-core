{
 "cells": [
  {
   "cell_type": "code",
   "execution_count": 2,
   "metadata": {},
   "outputs": [
    {
     "name": "stdout",
     "output_type": "stream",
     "text": [
      "Collecting python-pptx\n",
      "  Obtaining dependency information for python-pptx from https://files.pythonhosted.org/packages/d9/4f/00be2196329ebbff56ce564aa94efb0fbc828d00de250b1980de1a34ab49/python_pptx-1.0.2-py3-none-any.whl.metadata\n",
      "  Downloading python_pptx-1.0.2-py3-none-any.whl.metadata (2.5 kB)\n",
      "Requirement already satisfied: Pillow>=3.3.2 in /Users/passion1014/anaconda3/lib/python3.11/site-packages (from python-pptx) (10.1.0)\n",
      "Collecting XlsxWriter>=0.5.7 (from python-pptx)\n",
      "  Obtaining dependency information for XlsxWriter>=0.5.7 from https://files.pythonhosted.org/packages/a7/ea/53d1fe468e63e092cf16e2c18d16f50c29851242f9dd12d6a66e0d7f0d02/XlsxWriter-3.2.0-py3-none-any.whl.metadata\n",
      "  Downloading XlsxWriter-3.2.0-py3-none-any.whl.metadata (2.6 kB)\n",
      "Requirement already satisfied: lxml>=3.1.0 in /Users/passion1014/anaconda3/lib/python3.11/site-packages (from python-pptx) (5.1.0)\n",
      "Requirement already satisfied: typing-extensions>=4.9.0 in /Users/passion1014/anaconda3/lib/python3.11/site-packages (from python-pptx) (4.12.2)\n",
      "Downloading python_pptx-1.0.2-py3-none-any.whl (472 kB)\n",
      "\u001b[2K   \u001b[90m━━━━━━━━━━━━━━━━━━━━━━━━━━━━━━━━━━━━━━━━\u001b[0m \u001b[32m472.8/472.8 kB\u001b[0m \u001b[31m14.8 MB/s\u001b[0m eta \u001b[36m0:00:00\u001b[0m\n",
      "\u001b[?25hDownloading XlsxWriter-3.2.0-py3-none-any.whl (159 kB)\n",
      "\u001b[2K   \u001b[90m━━━━━━━━━━━━━━━━━━━━━━━━━━━━━━━━━━━━━━━━\u001b[0m \u001b[32m159.9/159.9 kB\u001b[0m \u001b[31m18.6 MB/s\u001b[0m eta \u001b[36m0:00:00\u001b[0m\n",
      "\u001b[?25hInstalling collected packages: XlsxWriter, python-pptx\n",
      "Successfully installed XlsxWriter-3.2.0 python-pptx-1.0.2\n"
     ]
    }
   ],
   "source": [
    "!pip install python-pptx"
   ]
  },
  {
   "cell_type": "markdown",
   "metadata": {},
   "source": []
  },
  {
   "cell_type": "code",
   "execution_count": 1,
   "metadata": {},
   "outputs": [
    {
     "data": {
      "text/plain": [
       "'ppt/250510_신유론2.pptx'"
      ]
     },
     "execution_count": 1,
     "metadata": {},
     "output_type": "execute_result"
    }
   ],
   "source": [
    "from pptx import Presentation\n",
    "from pptx.util import Pt\n",
    "from pptx.enum.text import PP_ALIGN\n",
    "import os\n",
    "\n",
    "# Initialize the presentation\n",
    "prs = Presentation()\n",
    "\n",
    "# Helper function to create slides with content\n",
    "def create_slide(title, verse, content):\n",
    "    slide = prs.slides.add_slide(prs.slide_layouts[5]) \n",
    "    shapes = slide.shapes\n",
    "    \n",
    "    # Title\n",
    "    title_shape = shapes.title\n",
    "    title_shape.text = verse\n",
    "    title_shape.text_frame.paragraphs[0].font.size = Pt(32)\n",
    "    title_shape.text_frame.paragraphs[0].font.bold = True  # 글자를 bold 체로 설정\n",
    "    title_shape.text_frame.paragraphs[0].alignment = PP_ALIGN.LEFT\n",
    "    title_shape.width = Pt(600)  # 텍스트 박스의 너비를 줄임\n",
    "    title_shape.height = Pt(70)  # 텍스트 박스의 높이를 줄임\n",
    "    title_shape.top = Pt(20)  # x 좌표가 위에서 20 정도 떨어지도록 설정\n",
    "    title_shape.left = Pt(20)  # x 좌표가 위에서 20 정도 떨어지도록 설정\n",
    "\n",
    "    # # Verse\n",
    "    # verse_box = shapes.add_textbox(Pt(50), Pt(100), Pt(800), Pt(50))\n",
    "    # verse_frame = verse_box.text_frame\n",
    "    # verse_frame.text = verse\n",
    "    # verse_frame.paragraphs[0].font.size = Pt(24)\n",
    "    # verse_frame.paragraphs[0].alignment = PP_ALIGN.LEFT\n",
    "\n",
    "    # Content\n",
    "    content_box = shapes.add_textbox(Pt(40), Pt(100), Pt(650), Pt(400))  # 텍스트 박스 크기 조정\n",
    "    content_frame = content_box.text_frame\n",
    "    content_frame.word_wrap = True  # 텍스트가 텍스트박스를 넘어가면 자동 줄바꿈\n",
    "    content_frame.text = content\n",
    "    content_frame.paragraphs[0].font.size = Pt(28)\n",
    "    content_frame.paragraphs[0].font.bold = True\n",
    "    content_frame.paragraphs[0].alignment = PP_ALIGN.LEFT\n",
    "\n",
    "# Content for slides\n",
    "slides_content = [\n",
    "    (\"슬라이드 1\", \"마 9:22\", \"예수께서 돌이켜 그를 보시며 이르시되 딸아 안심하라 네 믿음이 너를 구원하였다 하시니 여자가 그 즉시 구원을 받으니라\"),\n",
    "    (\"슬라이드 2\", \"마 9:28-30\", \"예수께서 집에 들어가시매 맹인들이 그에게 나아오거늘 예수께서 이르시되 내가 능히 이 일 할 줄을 믿느냐 대답하되 주여 그러하오이다 하니 이에 예수께서 그들의 눈을 만지시며 이르시되 너희 믿음대로 되라 하시니 그 눈들이 밝아진지라 예수께서 엄히 경고하시되 삼가 아무에게도 알리지 말라 하셨으나\"),\n",
    "    (\"슬라이드 3\", \"막 10:52\", \"예수께서 이르시되 가라 네 믿음이 너를 구원하였느니라 하시니 그가 곧 보게 되어 예수를 길에서 따르니라\"),\n",
    "    (\"슬라이드 4\", \"눅 17:19\", \"예수께서 그에게 이르시되 일어나 가라 네 믿음이 너를 구원하였느니라 하시더라\"),\n",
    "    (\"슬라이드 5\", \"마 8:13\", \"예수께서 백부장에게 이르시되 가라 네 믿은 대로 될지어다 하시니 그 즉시 하인이 나으니라\"),\n",
    "    (\"슬라이드 6\", \"마 8:8\", \"주여 내 집에 들어오심을 나는 감당하지 못하겠사오니 다만 말씀으로만 하옵소서 그러면 내 하인이 낫겠사옵나이다\"),\n",
    "    (\"슬라이드 7\", \"마 8:10\", \"예수께서 들으시고 놀랍게 여겨 따르는 자들에게 이르시되 내가 진실로 너희에게 이르노니 이스라엘 중 아무에게서도 이만한 믿음을 보지 못하였노라\"),\n",
    "    (\"슬라이드 8\", \"막 2:5\", \"예수께서 그들의 믿음을 보시고 중풍병자에게 이르시되 작은 자야 네 죄 사함을 받았느니라\"),\n",
    "    (\"슬라이드 9\", \"마 15:28\", \"이에 예수께서 대답하여 이르시되 여자여 네 믿음이 크도다 네 소원대로 되리라 하시니 그 때로부터 그의 딸이 나으니라\"),\n",
    "    (\"슬라이드 10\", \"행 3:6-8\", \"베드로가 이르되 은과 금은 내게 없거니와 내게 있는 이것을 네게 주노니 나사렛 예수 그리스도의 이름으로 일어나 걸으라 하고 오른손을 잡아 일으키니 발과 발목이 곧 힘을 얻고 뛰어 서서 걸으며 그들과 함께 성전으로 들어가면서 걷기도 하고 뛰기도 하며 하나님을 찬송하니\"),\n",
    "    (\"슬라이드 11\", \"막 16:17-18\", \"믿는 자들에게는 이런 표적이 따르리니... 병든 사람에게 손을 얹은즉 나으리라\"),\n",
    "    (\"슬라이드 12\", \"행 4:10\", \"너희와 모든 이스라엘 백성은 알라 너희가 십자가에 못 박고 하나님이 죽은 자 가운데서 살리신 나사렛 예수 그리스도의 이름으로 이 사람이 건강하게 되어 너희 앞에 섰느니라\"),\n",
    "    (\"슬라이드 13\", \"행 16:18\", \"바울이 귀신에게 이르되 예수 그리스도의 이름으로 내가 네게 명하노니 그에게서 나오라 하니 귀신이 즉시 나오니라\"),\n",
    "    (\"슬라이드 14\", \"요 14:13\", \"너희가 내 이름으로 무엇을 구하든지 내가 행하리니 이는 아버지로 하여금 아들로 말미암아 영광을 받으시게 하려 함이라\"),\n",
    "    (\"슬라이드 15\", \"약 5:14-16\", \"너희 중에 병든 자가 있느냐 그는 교회의 장로들을 청할 것이요 그들은 주의 이름으로 기름을 바르며 그를 위하여 기도할지니라 믿음의 기도는 병든 자를 구원하리니 주께서 그를 일으키시리라 혹시 죄를 범하였을지라도 사하심을 받으리라 그러므로 너희 죄를 서로 고백하며 병이 낫기를 위하여 서로 기도하라 의인의 간구는 역사하는 힘이 큼이니라\"),\n",
    "    (\"슬라이드 16\", \"시 32:3-5\", \"내가 입을 열지 아니할 때에 종일 신음하므로 내 뼈가 쇠하였도다... 내가 이르기를 내 허물을 여호와께 자복하리라 하고 주께 내 죄를 아뢰고 내 죄악을 숨기지 아니하였더니 곧 주께서 내 죄악을 사하셨나이다\"),\n",
    "    (\"슬라이드 17\", \"고전 11:30\", \"그러므로 너희 중에 약한 자와 병든 자가 많고 잠자는 자도 적지 아니하니\")\n",
    "]\n",
    "\n",
    "\n",
    "\n",
    "# Create slides from content\n",
    "for slide_data in slides_content:\n",
    "    create_slide(*slide_data)\n",
    "\n",
    "# Create the directory if it doesn't exist\n",
    "output_dir = \"ppt\"\n",
    "if not os.path.exists(output_dir):\n",
    "    os.makedirs(output_dir)\n",
    "\n",
    "# Save the presentation\n",
    "output_path = os.path.join(output_dir, \"250510_신유론2.pptx\")\n",
    "prs.save(output_path)\n",
    "\n",
    "\n",
    "output_path\n"
   ]
  }
 ],
 "metadata": {
  "kernelspec": {
   "display_name": "venv",
   "language": "python",
   "name": "python3"
  },
  "language_info": {
   "codemirror_mode": {
    "name": "ipython",
    "version": 3
   },
   "file_extension": ".py",
   "mimetype": "text/x-python",
   "name": "python",
   "nbconvert_exporter": "python",
   "pygments_lexer": "ipython3",
   "version": "3.12.6"
  }
 },
 "nbformat": 4,
 "nbformat_minor": 2
}
