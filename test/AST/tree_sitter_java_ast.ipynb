{
 "cells": [
  {
   "cell_type": "markdown",
   "id": "d8bf2f84",
   "metadata": {},
   "source": [
    "\n",
    "# 🧪 Tree-sitter를 활용한 Java AST 분석 예제 (Python)\n",
    "\n",
    "이 노트북은 [Tree-sitter](https://tree-sitter.github.io/tree-sitter/)를 사용하여 Java 코드를 파싱하고 AST(Abstract Syntax Tree)를 분석하는 예제입니다.\n",
    "\n",
    "**필수 준비:**\n",
    "- Python 라이브러리 `tree_sitter` 설치\n",
    "- Java 문법이 포함된 Tree-sitter 언어 라이브러리 빌드\n"
   ]
  },
  {
   "cell_type": "code",
   "execution_count": 11,
   "id": "af23a10a",
   "metadata": {},
   "outputs": [
    {
     "name": "stdout",
     "output_type": "stream",
     "text": [
      "Collecting git+https://github.com/tree-sitter/py-tree-sitter.git\n",
      "  Cloning https://github.com/tree-sitter/py-tree-sitter.git to /private/var/folders/21/jb7ghnp55bg6bsbnckdtc7wc0000gn/T/pip-req-build-ps465s5_\n",
      "  Running command git clone --filter=blob:none --quiet https://github.com/tree-sitter/py-tree-sitter.git /private/var/folders/21/jb7ghnp55bg6bsbnckdtc7wc0000gn/T/pip-req-build-ps465s5_\n",
      "  Resolved https://github.com/tree-sitter/py-tree-sitter.git to commit ec0eab3540c06412e87ec134c597906b86ffa6e5\n",
      "  Running command git submodule update --init --recursive -q\n",
      "  Installing build dependencies ... \u001b[?25ldone\n",
      "\u001b[?25h  Getting requirements to build wheel ... \u001b[?25ldone\n",
      "\u001b[?25h  Preparing metadata (pyproject.toml) ... \u001b[?25ldone\n",
      "\u001b[?25h\n",
      "\u001b[1m[\u001b[0m\u001b[34;49mnotice\u001b[0m\u001b[1;39;49m]\u001b[0m\u001b[39;49m A new release of pip is available: \u001b[0m\u001b[31;49m25.1.1\u001b[0m\u001b[39;49m -> \u001b[0m\u001b[32;49m25.2\u001b[0m\n",
      "\u001b[1m[\u001b[0m\u001b[34;49mnotice\u001b[0m\u001b[1;39;49m]\u001b[0m\u001b[39;49m To update, run: \u001b[0m\u001b[32;49mpip install --upgrade pip\u001b[0m\n"
     ]
    }
   ],
   "source": [
    "\n",
    "# ▶️ 설치 (로컬에서 실행하세요)\n",
    "# !pip install tree_sitter\n",
    "# !git clone https://github.com/tree-sitter/tree-sitter-java\n",
    "!pip install git+https://github.com/tree-sitter/py-tree-sitter.git\n"
   ]
  },
  {
   "cell_type": "code",
   "execution_count": 12,
   "id": "7762c24a",
   "metadata": {},
   "outputs": [
    {
     "ename": "AttributeError",
     "evalue": "type object 'tree_sitter.Language' has no attribute 'build_library'",
     "output_type": "error",
     "traceback": [
      "\u001b[31m---------------------------------------------------------------------------\u001b[39m",
      "\u001b[31mAttributeError\u001b[39m                            Traceback (most recent call last)",
      "\u001b[36mCell\u001b[39m\u001b[36m \u001b[39m\u001b[32mIn[12]\u001b[39m\u001b[32m, line 4\u001b[39m\n\u001b[32m      1\u001b[39m \u001b[38;5;28;01mfrom\u001b[39;00m\u001b[38;5;250m \u001b[39m\u001b[34;01mtree_sitter\u001b[39;00m\u001b[38;5;250m \u001b[39m\u001b[38;5;28;01mimport\u001b[39;00m Language\n\u001b[32m      3\u001b[39m \u001b[38;5;66;03m# Java 문법 포함 언어 라이브러리 빌드\u001b[39;00m\n\u001b[32m----> \u001b[39m\u001b[32m4\u001b[39m \u001b[43mLanguage\u001b[49m\u001b[43m.\u001b[49m\u001b[43mbuild_library\u001b[49m(\n\u001b[32m      5\u001b[39m   \u001b[33m'\u001b[39m\u001b[33mbuild/my-languages.so\u001b[39m\u001b[33m'\u001b[39m,  \u001b[38;5;66;03m# 출력 파일\u001b[39;00m\n\u001b[32m      6\u001b[39m   [\u001b[33m'\u001b[39m\u001b[33mtree-sitter-java\u001b[39m\u001b[33m'\u001b[39m]      \u001b[38;5;66;03m# Java 문법 디렉토리\u001b[39;00m\n\u001b[32m      7\u001b[39m )\n",
      "\u001b[31mAttributeError\u001b[39m: type object 'tree_sitter.Language' has no attribute 'build_library'"
     ]
    }
   ],
   "source": [
    "\n",
    "from tree_sitter import Language\n",
    "\n",
    "# Java 문법 포함 언어 라이브러리 빌드\n",
    "Language.build_library(\n",
    "  'build/my-languages.so',  # 출력 파일\n",
    "  ['tree-sitter-java']      # Java 문법 디렉토리\n",
    ")\n"
   ]
  },
  {
   "cell_type": "code",
   "execution_count": 13,
   "id": "7d60ea44",
   "metadata": {},
   "outputs": [
    {
     "name": "stdout",
     "output_type": "stream",
     "text": [
      "False\n"
     ]
    }
   ],
   "source": [
    "from tree_sitter import Language\n",
    "\n",
    "print(hasattr(Language, 'build_library'))  # True가 나오면 정상"
   ]
  },
  {
   "cell_type": "code",
   "execution_count": null,
   "id": "d90b9efa",
   "metadata": {},
   "outputs": [],
   "source": [
    "\n",
    "from tree_sitter import Language, Parser\n",
    "\n",
    "# 빌드된 Java 언어 로드\n",
    "JAVA_LANGUAGE = Language('build/my-languages.so', 'java')\n",
    "\n",
    "# 파서 초기화\n",
    "parser = Parser()\n",
    "parser.set_language(JAVA_LANGUAGE)\n",
    "\n",
    "# 샘플 Java 코드\n",
    "java_code = b'''\n",
    "class Hello {\n",
    "    public static void main(String[] args) {\n",
    "        System.out.println(\"Hello, Tree-sitter!\");\n",
    "    }\n",
    "}\n",
    "'''\n",
    "\n",
    "# AST 파싱\n",
    "tree = parser.parse(java_code)\n",
    "root = tree.root_node\n",
    "print(\"Root Node:\", root)\n"
   ]
  },
  {
   "cell_type": "code",
   "execution_count": null,
   "id": "f67001ed",
   "metadata": {},
   "outputs": [],
   "source": [
    "\n",
    "# AST 트리를 순회하며 노드 출력\n",
    "def walk(node, indent=0):\n",
    "    print(\"  \" * indent + f\"{node.type} [{node.start_point} - {node.end_point}]\")\n",
    "    for child in node.children:\n",
    "        walk(child, indent + 1)\n",
    "\n",
    "walk(tree.root_node)\n"
   ]
  },
  {
   "cell_type": "code",
   "execution_count": null,
   "id": "0e496814",
   "metadata": {},
   "outputs": [],
   "source": [
    "\n",
    "# 메서드 이름만 추출하는 예제\n",
    "def find_methods(node):\n",
    "    if node.type == 'method_declaration':\n",
    "        name_node = [c for c in node.children if c.type == 'identifier']\n",
    "        if name_node:\n",
    "            print(\"Method Name:\", java_code[name_node[0].start_byte:name_node[0].end_byte].decode())\n",
    "    for child in node.children:\n",
    "        find_methods(child)\n",
    "\n",
    "find_methods(tree.root_node)\n"
   ]
  }
 ],
 "metadata": {
  "kernelspec": {
   "display_name": "venv",
   "language": "python",
   "name": "python3"
  },
  "language_info": {
   "codemirror_mode": {
    "name": "ipython",
    "version": 3
   },
   "file_extension": ".py",
   "mimetype": "text/x-python",
   "name": "python",
   "nbconvert_exporter": "python",
   "pygments_lexer": "ipython3",
   "version": "3.11.5"
  }
 },
 "nbformat": 4,
 "nbformat_minor": 5
}
