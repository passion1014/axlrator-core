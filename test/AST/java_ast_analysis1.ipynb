{
 "cells": [
  {
   "cell_type": "code",
   "execution_count": null,
   "id": "2c341c2a",
   "metadata": {},
   "outputs": [],
   "source": [
    "\n",
    "# Java AST 분석 예제 (Python 사용)\n",
    "\n",
    "이 노트북은 `javalang` 라이브러리를 사용하여 Java 소스코드를 AST(Abstract Syntax Tree) 방식으로 분석하는 기본 예제를 제공합니다.\n"
   ]
  },
  {
   "cell_type": "code",
   "execution_count": null,
   "id": "6ebd2bf7",
   "metadata": {},
   "outputs": [],
   "source": [
    "\n",
    "# javalang 설치 (로컬에서 실행 필요)\n",
    "!pip install javalang\n"
   ]
  },
  {
   "cell_type": "code",
   "execution_count": null,
   "id": "e968ee68",
   "metadata": {},
   "outputs": [],
   "source": [
    "\n",
    "# 분석할 Java 코드 정의\n",
    "java_code = \"\"\" \n",
    "public class HelloWorld {\n",
    "    public static void main(String[] args) {\n",
    "        System.out.println(\"Hello, World!\");\n",
    "        int x = 10;\n",
    "        if (x > 5) {\n",
    "            System.out.println(\"x is greater than 5\");\n",
    "        }\n",
    "    }\n",
    "}\n",
    "\"\"\"\n"
   ]
  },
  {
   "cell_type": "code",
   "execution_count": null,
   "id": "5e362fe2",
   "metadata": {},
   "outputs": [],
   "source": [
    "\n",
    "import javalang\n",
    "\n",
    "# Java 코드 파싱\n",
    "tree = javalang.parse.parse(java_code)\n",
    "\n",
    "# 클래스, 메서드 및 문장 구조 출력\n",
    "for path, node in tree:\n",
    "    indent = \"  \" * len(path)\n",
    "    print(f\"{indent}{type(node).__name__}: {getattr(node, 'name', '')}\")\n"
   ]
  },
  {
   "cell_type": "code",
   "execution_count": null,
   "id": "a7c1b076",
   "metadata": {},
   "outputs": [],
   "source": [
    "\n",
    "# 변수 선언, 메서드 호출 등 특정 노드만 추출\n",
    "from javalang.tree import VariableDeclarator, MethodInvocation\n",
    "\n",
    "print(\"\\n[변수 선언]\")\n",
    "for path, node in tree:\n",
    "    if isinstance(node, VariableDeclarator):\n",
    "        print(f\"Variable: {node.name} = {node.initializer.value}\")\n",
    "\n",
    "print(\"\\n[메서드 호출]\")\n",
    "for path, node in tree:\n",
    "    if isinstance(node, MethodInvocation):\n",
    "        print(f\"Method Call: {node.member}\")\n"
   ]
  }
 ],
 "metadata": {},
 "nbformat": 4,
 "nbformat_minor": 5
}
