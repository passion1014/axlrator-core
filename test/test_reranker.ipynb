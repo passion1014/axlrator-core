{
 "cells": [
  {
   "cell_type": "code",
   "execution_count": 1,
   "metadata": {},
   "outputs": [
    {
     "name": "stdout",
     "output_type": "stream",
     "text": [
      "2025-01-21 07:47:21,461 INFO sqlalchemy.engine.Engine select pg_catalog.version()\n",
      "2025-01-21 07:47:21,462 INFO sqlalchemy.engine.Engine [raw sql] {}\n",
      "2025-01-21 07:47:21,464 INFO sqlalchemy.engine.Engine select current_schema()\n",
      "2025-01-21 07:47:21,465 INFO sqlalchemy.engine.Engine [raw sql] {}\n",
      "2025-01-21 07:47:21,466 INFO sqlalchemy.engine.Engine show standard_conforming_strings\n",
      "2025-01-21 07:47:21,467 INFO sqlalchemy.engine.Engine [raw sql] {}\n",
      "2025-01-21 07:47:21,468 INFO sqlalchemy.engine.Engine BEGIN (implicit)\n",
      "2025-01-21 07:47:21,482 INFO sqlalchemy.engine.Engine SELECT faiss_info.id, faiss_info.index_name, faiss_info.index_desc, faiss_info.index_file_path, faiss_info.modified_at, faiss_info.created_at, faiss_info.modified_by, faiss_info.created_by \n",
      "FROM faiss_info \n",
      "WHERE faiss_info.index_name = %(index_name_1)s\n",
      "2025-01-21 07:47:21,483 INFO sqlalchemy.engine.Engine [generated in 0.00071s] {'index_name_1': 'cg_code_assist'}\n",
      "2025-01-21 07:47:21,493 INFO sqlalchemy.engine.Engine SELECT chunked_data.id AS chunked_data_id, chunked_data.seq AS chunked_data_seq, chunked_data.org_resrc_id AS chunked_data_org_resrc_id, chunked_data.data_name AS chunked_data_data_name, chunked_data.data_type AS chunked_data_data_type, chunked_data.content AS chunked_data_content, chunked_data.context_chunk AS chunked_data_context_chunk, chunked_data.document_metadata AS chunked_data_document_metadata, chunked_data.faiss_info_id AS chunked_data_faiss_info_id, chunked_data.vector_index AS chunked_data_vector_index, chunked_data.modified_at AS chunked_data_modified_at, chunked_data.created_at AS chunked_data_created_at, chunked_data.modified_by AS chunked_data_modified_by, chunked_data.created_by AS chunked_data_created_by \n",
      "FROM chunked_data \n",
      "WHERE chunked_data.faiss_info_id = %(faiss_info_id_1)s\n",
      "2025-01-21 07:47:21,494 INFO sqlalchemy.engine.Engine [generated in 0.00063s] {'faiss_info_id_1': 37}\n",
      "### cg_code_assist 인덱스와 매핑 정보를 디스크에서 로드했습니다.\n",
      "### PostgresDocstore에서 FAISS 정보 읽기 >> index_name=cg_code_assist, index_file_path=data/vector/cg_code_assist.index\n",
      "### Total vectors in index: 223\n",
      "### Dimension of vectors: 3072\n",
      "### cg_code_assist 인덱스를 디스크에서 로드하고 캐시에 저장했습니다.\n"
     ]
    }
   ],
   "source": [
    "# 공통 환경 설정\n",
    "from dotenv import load_dotenv\n",
    "import os\n",
    "\n",
    "# 작업디렉토리를 상위경로로 변경\n",
    "parent_dir = os.path.abspath(os.path.join(os.getcwd(), \"..\"))\n",
    "os.chdir(parent_dir)\n",
    "\n",
    "# 환경변수 설정\n",
    "load_dotenv(dotenv_path=\".env.testcase\", override=True)\n",
    "\n",
    "from app.db_model.database import SessionLocal\n",
    "from app.vectordb.faiss_vectordb import FaissVectorDB\n",
    "\n",
    "\n",
    "session = SessionLocal()\n",
    "faissVectorDB = FaissVectorDB(db_session=session, index_name='cg_code_assist')"
   ]
  },
  {
   "cell_type": "code",
   "execution_count": null,
   "metadata": {},
   "outputs": [],
   "source": [
    "# 예시 쿼리와 타겟 리스트\n",
    "from app.process.reranker import AlfredReranker\n",
    "\n",
    "query = \"public Optional<SensorDataDto> getPigVital(Long vitalCode, Long pigCode)\"\n",
    "\n",
    "# flash_rank_rerank 함수 호출\n",
    "reranker = AlfredReranker()\n",
    "results = reranker.cross_encoder(query, faissVectorDB, k=5)\n",
    "\n",
    "# 결과 출력\n",
    "for result in results:\n",
    "    print(f\"Chunk: {result}\")"
   ]
  },
  {
   "cell_type": "code",
   "execution_count": null,
   "metadata": {},
   "outputs": [],
   "source": [
    "from app.chain_graph.agent_state import CodeAssistState\n",
    "from app.chain_graph.code_assist_chain import CodeAssistChain\n",
    "from app.db_model.database import SessionLocal\n",
    "from app.vectordb.faiss_vectordb import FaissVectorDB\n",
    "# session = SessionLocal()\n",
    "# faissVectorDB = FaissVectorDB(db_session=session, index_name='cg_code_assist')    \n",
    "    \n",
    "state = CodeAssistState()\n",
    "state[\"question\"] = \"스페인의 비는 어디에 내리나요?\"\n",
    "\n",
    "code_assist_chain = CodeAssistChain()\n",
    "code_assist_state = code_assist_chain.contextual_reranker(state=state, k=3)"
   ]
  },
  {
   "cell_type": "code",
   "execution_count": 2,
   "metadata": {},
   "outputs": [
    {
     "name": "stdout",
     "output_type": "stream",
     "text": [
      "### cg_code_assist 인덱스를 메모리에서 로드했습니다.\n",
      "### cg_code_assist 인덱스를 메모리에서 로드했습니다.\n",
      "### Index already exists: cg_code_assist\n"
     ]
    }
   ],
   "source": [
    "# 공통 환경 설정\n",
    "from dotenv import load_dotenv\n",
    "import os\n",
    "\n",
    "# 작업디렉토리를 상위경로로 변경\n",
    "parent_dir = os.path.abspath(os.path.join(os.getcwd(), \"..\"))\n",
    "os.chdir(parent_dir)\n",
    "\n",
    "# 환경변수 설정\n",
    "load_dotenv(dotenv_path=\".env.testcase\", override=True)\n",
    "\n",
    "from app.db_model.database import SessionLocal\n",
    "from app.vectordb.faiss_vectordb import FaissVectorDB\n",
    "\n",
    "session = SessionLocal()\n",
    "faissVectorDB = FaissVectorDB(db_session=session, index_name='cg_code_assist')\n",
    "\n",
    "\n",
    "from fastapi.responses import StreamingResponse\n",
    "from app.chain_graph.agent_state import CodeAssistChatState\n",
    "from app.chain_graph.code_assist_chain import CodeAssistChain\n",
    "state = CodeAssistChatState()\n",
    "state['question'] = '스페인의 비는 어디에 내리나요?'\n",
    "state['current_code'] = ''\n",
    "state['chat_history_id'] = '1'\n",
    "state['chat_history'] = []\n",
    "\n",
    "code_assist_chain = CodeAssistChain()\n",
    "response = await code_assist_chain.get_chain(task_type=\"chat\").ainvoke(state)\n",
    "\n",
    "# async def stream_response() :\n",
    "#     async for chunk in code_assist_chain.get_chain(task_type=\"chat\").astream(state, stream_mode=\"custom\"):\n",
    "#         print(\"## chucnk=\", chunk.content)\n",
    "#         yield chunk.content\n",
    "\n",
    "# StreamingResponse(stream_response(), media_type=\"text/event-stream\")\n",
    "\n"
   ]
  }
 ],
 "metadata": {
  "kernelspec": {
   "display_name": "ragserver",
   "language": "python",
   "name": "python3"
  },
  "language_info": {
   "codemirror_mode": {
    "name": "ipython",
    "version": 3
   },
   "file_extension": ".py",
   "mimetype": "text/x-python",
   "name": "python",
   "nbconvert_exporter": "python",
   "pygments_lexer": "ipython3",
   "version": "3.12.5"
  }
 },
 "nbformat": 4,
 "nbformat_minor": 2
}
