{
 "cells": [
  {
   "cell_type": "code",
   "execution_count": null,
   "metadata": {},
   "outputs": [],
   "source": [
    "# 공통 환경 설정\n",
    "\n",
    "from dotenv import load_dotenv\n",
    "import os\n",
    "\n",
    "# 작업디렉토리를 상위경로로 변경\n",
    "parent_dir = os.path.abspath(os.path.join(os.getcwd(), \"..\"))\n",
    "os.chdir(parent_dir)\n",
    "\n",
    "# 환경변수 설정\n",
    "load_dotenv(dotenv_path=\".env.testcase\", override=True)\n",
    "\n",
    "from app.db_model.database import SessionLocal\n",
    "from app.vectordb.faiss_vectordb import FaissVectorDB\n",
    "\n",
    "\n",
    "session = SessionLocal()\n",
    "faissVectorDB = FaissVectorDB(db_session=session, index_name='cg_code_assist')"
   ]
  },
  {
   "cell_type": "code",
   "execution_count": null,
   "metadata": {},
   "outputs": [],
   "source": [
    "# 예시 쿼리와 타겟 리스트\n",
    "from app.process.reranker import AlfredReranker\n",
    "\n",
    "query = \"public Optional<SensorDataDto> getPigVital(Long vitalCode, Long pigCode)\"\n",
    "\n",
    "# flash_rank_rerank 함수 호출\n",
    "reranker = AlfredReranker()\n",
    "results = reranker.cross_encoder(query, faissVectorDB, k=5)\n",
    "\n",
    "# 결과 출력\n",
    "for result in results:\n",
    "    print(f\"Chunk: {result}\")"
   ]
  },
  {
   "cell_type": "code",
   "execution_count": null,
   "metadata": {},
   "outputs": [],
   "source": [
    "from app.chain_graph.agent_state import CodeAssistState\n",
    "from app.chain_graph.code_assist_chain import CodeAssistChain\n",
    "from app.db_model.database import SessionLocal\n",
    "from app.vectordb.faiss_vectordb import FaissVectorDB\n",
    "# session = SessionLocal()\n",
    "# faissVectorDB = FaissVectorDB(db_session=session, index_name='cg_code_assist')    \n",
    "    \n",
    "state = CodeAssistState()\n",
    "state[\"question\"] = \"스페인의 비는 어디에 내리나요?\"\n",
    "\n",
    "code_assist_chain = CodeAssistChain()\n",
    "code_assist_state = code_assist_chain.context_node(state=state, k=3)"
   ]
  }
 ],
 "metadata": {
  "kernelspec": {
   "display_name": "ragserver",
   "language": "python",
   "name": "python3"
  },
  "language_info": {
   "codemirror_mode": {
    "name": "ipython",
    "version": 3
   },
   "file_extension": ".py",
   "mimetype": "text/x-python",
   "name": "python",
   "nbconvert_exporter": "python",
   "pygments_lexer": "ipython3",
   "version": "3.12.5"
  }
 },
 "nbformat": 4,
 "nbformat_minor": 2
}
