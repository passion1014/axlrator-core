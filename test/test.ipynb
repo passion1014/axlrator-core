{
 "cells": [
  {
   "cell_type": "code",
   "execution_count": 7,
   "metadata": {},
   "outputs": [],
   "source": [
    "# 공통부분\n",
    "import requests\n",
    "import json\n",
    "from IPython.display import display, Markdown\n",
    "\n",
    "HOST_URL = \"http://localhost:8001\" # URL 설정\n",
    "\n",
    "# 요청 헤더 (필요한 경우 Authorization, Content-Type 등을 설정)\n",
    "HEADERS = {\n",
    "    \"Content-Type\": \"application/json\",\n",
    "    # \"Authorization\": \"Bearer YOUR_API_KEY\"\n",
    "}\n"
   ]
  },
  {
   "cell_type": "code",
   "execution_count": 12,
   "metadata": {},
   "outputs": [
    {
     "name": "stdout",
     "output_type": "stream",
     "text": [
      "Status Code: 200\n",
      "Response JSON: {'response': {'messages': [], 'question': '피보나치함수 만들어', 'response': {'content': 'def fibonacci(n):\\n    if n <= 1:\\n        return n\\n    else:\\n        return(fibonacci(n-1) + fibonacci(n-2))', 'additional_kwargs': {}, 'response_metadata': {'id': 'msg_01JPD4RfqNhLCKuNvMsT6VPy', 'model': 'claude-3-sonnet-20240229', 'stop_reason': 'end_turn', 'stop_sequence': None, 'usage': {'cache_creation_input_tokens': 0, 'cache_read_input_tokens': 0, 'input_tokens': 78, 'output_tokens': 41}}, 'type': 'ai', 'name': None, 'id': 'run-fc665d60-c07d-465b-9f7e-63fd31ce41f3-0', 'example': False, 'tool_calls': [], 'invalid_tool_calls': [], 'usage_metadata': {'input_tokens': 78, 'output_tokens': 41, 'total_tokens': 119, 'input_token_details': {'cache_read': 0, 'cache_creation': 0}}}, 'current_code': ''}}\n"
     ]
    },
    {
     "data": {
      "text/markdown": [
       "def fibonacci(n):\n",
       "    if n <= 1:\n",
       "        return n\n",
       "    else:\n",
       "        return(fibonacci(n-1) + fibonacci(n-2))"
      ],
      "text/plain": [
       "<IPython.core.display.Markdown object>"
      ]
     },
     "metadata": {},
     "output_type": "display_data"
    }
   ],
   "source": [
    "# ---------------------------------------------------------\n",
    "# 코드 자동 완성 (/api/predicate)\n",
    "# ---------------------------------------------------------\n",
    "data = {\"indexname\": \"\"\n",
    "        , \"current_code\": \"\"\n",
    "        , \"sql_request\" : \"\"\n",
    "        , \"question\": \"피보나치함수 만들어\"}\n",
    "response = requests.post(f\"{HOST_URL}/codeassist/api/predicate\", headers=HEADERS, data=json.dumps(data))\n",
    "\n",
    "# 응답 상태 코드와 본문 출력\n",
    "print(\"Status Code:\", response.status_code)\n",
    "print(\"Response JSON:\", response.json())\n",
    "\n",
    "markdown_output = response.json().get(\"response\").get('response').get('content')\n",
    "display(Markdown(markdown_output))\n",
    "\n"
   ]
  },
  {
   "cell_type": "code",
   "execution_count": 31,
   "metadata": {},
   "outputs": [
    {
     "name": "stdout",
     "output_type": "stream",
     "text": [
      "Status Code: 200\n",
      "Response JSON: {'response': '{}'}\n"
     ]
    }
   ],
   "source": [
    "# ---------------------------------------------------------\n",
    "# 로그인 (/user/api/login)\n",
    "# - id에 해당하는 정보가 있으면 password로 로그인, 없으면 회원가입\n",
    "# ---------------------------------------------------------\n",
    "data = {\"user_id\": \"userid9\"\n",
    "        , \"password\": \"ppp2\" }\n",
    "response = requests.post(f\"{HOST_URL}/user/api/login\", headers=HEADERS, data=json.dumps(data))\n",
    "\n",
    "# 응답 상태 코드와 본문 출력\n",
    "print(\"Status Code:\", response.status_code)\n",
    "print(\"Response JSON:\", response.json())\n",
    "\n",
    "# markdown_output = response.json().get(\"response\").get('response').get('content')\n",
    "# display(Markdown(markdown_output))\n",
    "\n"
   ]
  }
 ],
 "metadata": {
  "kernelspec": {
   "display_name": "ragserver",
   "language": "python",
   "name": "python3"
  },
  "language_info": {
   "codemirror_mode": {
    "name": "ipython",
    "version": 3
   },
   "file_extension": ".py",
   "mimetype": "text/x-python",
   "name": "python",
   "nbconvert_exporter": "python",
   "pygments_lexer": "ipython3",
   "version": "3.12.4"
  }
 },
 "nbformat": 4,
 "nbformat_minor": 2
}
