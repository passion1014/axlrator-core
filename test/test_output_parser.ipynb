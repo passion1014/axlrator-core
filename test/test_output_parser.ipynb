{
 "cells": [
  {
   "cell_type": "code",
   "execution_count": 2,
   "metadata": {},
   "outputs": [
    {
     "data": {
      "text/plain": [
       "True"
      ]
     },
     "execution_count": 2,
     "metadata": {},
     "output_type": "execute_result"
    }
   ],
   "source": [
    "# 공통 환경 설정\n",
    "from dotenv import load_dotenv\n",
    "import os\n",
    "\n",
    "# 작업디렉토리를 상위경로로 변경\n",
    "parent_dir = os.path.abspath(os.path.join(os.getcwd(), \"..\"))\n",
    "os.chdir(parent_dir)\n",
    "\n",
    "# 환경변수 설정\n",
    "load_dotenv(dotenv_path=\".env.testcase\", override=True)\n"
   ]
  },
  {
   "cell_type": "code",
   "execution_count": 3,
   "metadata": {},
   "outputs": [],
   "source": [
    "test_data = \"\"\"\n",
    "Integer id = MapDataUtil.getInt(RsrcTableDoc, \"ID\"); // Primary Key\n",
    "MapDataUtil.setInt(RsrcTableDoc, \"ID\", id); // Primary Key\n",
    "\n",
    "String tableName = MapDataUtil.getString(RsrcTableDoc, \"TABLE_NAME\"); // 테이블명\n",
    "MapDataUtil.setString(RsrcTableDoc, \"TABLE_NAME\", tableName); // 테이블명\n",
    "\n",
    "String tableDesc = MapDataUtil.getString(RsrcTableDoc, \"TABLE_DESC\"); // 테이블 설명\n",
    "MapDataUtil.setString(RsrcTableDoc, \"TABLE_DESC\", tableDesc); // 테이블 설명\n",
    "\n",
    "Timestamp createdAt = MapDataUtil.getTimestamp(RsrcTableDoc, \"CREATED_AT\"); // 생성시간\n",
    "MapDataUtil.setTimestamp(RsrcTableDoc, \"CREATED_AT\", createdAt); // 생성시간\n",
    "\n",
    "Timestamp modifiedAt = MapDataUtil.getTimestamp(RsrcTableDoc, \"MODIFIED_AT\"); // 최종수정시간\n",
    "MapDataUtil.setTimestamp(RsrcTableDoc, \"MODIFIED_AT\", modifiedAt); // 최종수정시간\n",
    "\n",
    "String createdBy = MapDataUtil.getString(RsrcTableDoc, \"CREATED_BY\"); // 생성자\n",
    "MapDataUtil.setString(RsrcTableDoc, \"CREATED_BY\", createdBy); // 생성자\n",
    "\n",
    "String modifiedBy = MapDataUtil.getString(RsrcTableDoc, \"MODIFIED_BY\"); // 최종수정자\n",
    "MapDataUtil.setString(RsrcTableDoc, \"MODIFIED_BY\", modifiedBy); // 최종수정자\n",
    "\n",
    "In the above code, I have followed the given format and generated the appropriate getter and setter methods for each column in the rsrc_table table. The column data types are used to determine the appropriate MapDataUtil function to use. The camelCase column names are used for the variable names, and the snake_case/upper_case column names are used as the key for the MapDataUtil functions.\n",
    "\"\"\""
   ]
  },
  {
   "cell_type": "code",
   "execution_count": 4,
   "metadata": {},
   "outputs": [
    {
     "name": "stdout",
     "output_type": "stream",
     "text": [
      "The output should be formatted as a JSON instance that conforms to the JSON schema below.\n",
      "\n",
      "As an example, for the schema {\"properties\": {\"foo\": {\"title\": \"Foo\", \"description\": \"a list of strings\", \"type\": \"array\", \"items\": {\"type\": \"string\"}}}, \"required\": [\"foo\"]}\n",
      "the object {\"foo\": [\"bar\", \"baz\"]} is a well-formatted instance of the schema. The object {\"properties\": {\"foo\": [\"bar\", \"baz\"]}} is not well-formatted.\n",
      "\n",
      "Here is the output schema:\n",
      "```\n",
      "{\"properties\": {\"getter\": {\"description\": \"MapDataUtil getter\", \"title\": \"Getter\", \"type\": \"string\"}, \"setter\": {\"description\": \"MapDataUtil setter\", \"title\": \"Setter\", \"type\": \"string\"}}, \"required\": [\"getter\", \"setter\"]}\n",
      "```\n"
     ]
    }
   ],
   "source": [
    "from app.formatter.code_assist_parser import map_data_util_parser\n",
    "\n",
    "print(map_data_util_parser.get_format_instructions())\n",
    "\n"
   ]
  },
  {
   "cell_type": "code",
   "execution_count": 13,
   "metadata": {},
   "outputs": [
    {
     "name": "stdout",
     "output_type": "stream",
     "text": [
      "### cg_code_assist 인덱스를 메모리에서 로드했습니다.\n",
      "2025-02-07 10:51:39,555 INFO sqlalchemy.engine.Engine BEGIN (implicit)\n",
      "2025-02-07 10:51:39,556 INFO sqlalchemy.engine.Engine SELECT rsrc_table.id AS rsrc_table_id, rsrc_table.table_name AS rsrc_table_table_name, rsrc_table.table_desc AS rsrc_table_table_desc, rsrc_table.created_at AS rsrc_table_created_at, rsrc_table.modified_at AS rsrc_table_modified_at, rsrc_table.created_by AS rsrc_table_created_by, rsrc_table.modified_by AS rsrc_table_modified_by \n",
      "FROM rsrc_table \n",
      "WHERE rsrc_table.table_name = %(table_name_1)s\n",
      "2025-02-07 10:51:39,556 INFO sqlalchemy.engine.Engine [cached since 171.4s ago] {'table_name_1': 'rsrc_table'}\n",
      "2025-02-07 10:51:39,562 INFO sqlalchemy.engine.Engine SELECT rsrc_table_column.id AS rsrc_table_column_id, rsrc_table_column.column_name AS rsrc_table_column_column_name, rsrc_table_column.column_korean_name AS rsrc_table_column_column_korean_name, rsrc_table_column.column_type AS rsrc_table_column_column_type, rsrc_table_column.column_desc AS rsrc_table_column_column_desc, rsrc_table_column.rsrc_table_id AS rsrc_table_column_rsrc_table_id, rsrc_table_column.created_at AS rsrc_table_column_created_at, rsrc_table_column.modified_at AS rsrc_table_column_modified_at, rsrc_table_column.created_by AS rsrc_table_column_created_by, rsrc_table_column.modified_by AS rsrc_table_column_modified_by \n",
      "FROM rsrc_table_column \n",
      "WHERE rsrc_table_column.rsrc_table_id = %(rsrc_table_id_1)s\n",
      "2025-02-07 10:51:39,563 INFO sqlalchemy.engine.Engine [cached since 110.8s ago] {'rsrc_table_id_1': 1}\n",
      "2025-02-07 10:51:39,565 INFO sqlalchemy.engine.Engine SELECT rsrc_table_column.id AS rsrc_table_column_id, rsrc_table_column.column_name AS rsrc_table_column_column_name, rsrc_table_column.column_korean_name AS rsrc_table_column_column_korean_name, rsrc_table_column.column_type AS rsrc_table_column_column_type, rsrc_table_column.column_desc AS rsrc_table_column_column_desc, rsrc_table_column.rsrc_table_id AS rsrc_table_column_rsrc_table_id, rsrc_table_column.created_at AS rsrc_table_column_created_at, rsrc_table_column.modified_at AS rsrc_table_column_modified_at, rsrc_table_column.created_by AS rsrc_table_column_created_by, rsrc_table_column.modified_by AS rsrc_table_column_modified_by \n",
      "FROM rsrc_table_column \n",
      "WHERE rsrc_table_column.rsrc_table_id = %(rsrc_table_id_1)s\n",
      "2025-02-07 10:51:39,565 INFO sqlalchemy.engine.Engine [cached since 110.8s ago] {'rsrc_table_id_1': 3}\n",
      "2025-02-07 10:51:39,567 INFO sqlalchemy.engine.Engine SELECT rsrc_table_column.id AS rsrc_table_column_id, rsrc_table_column.column_name AS rsrc_table_column_column_name, rsrc_table_column.column_korean_name AS rsrc_table_column_column_korean_name, rsrc_table_column.column_type AS rsrc_table_column_column_type, rsrc_table_column.column_desc AS rsrc_table_column_column_desc, rsrc_table_column.rsrc_table_id AS rsrc_table_column_rsrc_table_id, rsrc_table_column.created_at AS rsrc_table_column_created_at, rsrc_table_column.modified_at AS rsrc_table_column_modified_at, rsrc_table_column.created_by AS rsrc_table_column_created_by, rsrc_table_column.modified_by AS rsrc_table_column_modified_by \n",
      "FROM rsrc_table_column \n",
      "WHERE rsrc_table_column.rsrc_table_id = %(rsrc_table_id_1)s\n",
      "2025-02-07 10:51:39,567 INFO sqlalchemy.engine.Engine [cached since 110.8s ago] {'rsrc_table_id_1': 5}\n"
     ]
    }
   ],
   "source": [
    "from fastapi.responses import StreamingResponse\n",
    "from app.chain_graph.code_assist_chain import code_assist_chain\n",
    "from app.dataclasses.code_assist_data import CodeAssistInfo\n",
    "\n",
    "message = CodeAssistInfo(\n",
    "    indexname=\"example_index\",\n",
    "    question=\"What is the purpose of this code?\",\n",
    "    current_code=\"print('Hello, World!')\",\n",
    "    sql_request=\"rsrc_table\"#\"ZGU_GUAS\"\n",
    ")\n",
    "\n",
    "# async def stream_response() :\n",
    "#     async for chunk in code_assist_chain(type=\"04\").astream(message, stream_mode=\"custom\"):\n",
    "#         yield chunk.content\n",
    "# StreamingResponse(stream_response(), media_type=\"text/event-stream\")\n",
    "result = \"\"\n",
    "async for chunk in code_assist_chain(type=\"04\").astream(message, stream_mode=\"custom\"):\n",
    "    result += chunk.content\n"
   ]
  },
  {
   "cell_type": "code",
   "execution_count": 14,
   "metadata": {},
   "outputs": [
    {
     "data": {
      "text/plain": [
       "'```java\\n// Primary Key\\nInteger id = MapDataUtil.getInt(rsrcTableDoc, \"ID\"); \\nMapDataUtil.setInt(rsrcTableDoc, \"ID\", id); // Primary Key\\n\\n// 테이블명\\nString tableName = MapDataUtil.getString(rsrcTableDoc, \"TABLE_NAME\");\\nMapDataUtil.setString(rsrcTableDoc, \"TABLE_NAME\", tableName); // 테이블명\\n\\n// 테이블 설명\\nString tableDesc = MapDataUtil.getString(rsrcTableDoc, \"TABLE_DESC\");\\nMapDataUtil.setString(rsrcTableDoc, \"TABLE_DESC\", tableDesc); // 테이블 설명\\n\\n// 생성시간\\nTimestamp createdAt = MapDataUtil.getTimestamp(rsrcTableDoc, \"CREATED_AT\");\\nMapDataUtil.setTimestamp(rsrcTableDoc, \"CREATED_AT\", createdAt); // 생성시간\\n\\n// 최종수정시간\\nTimestamp modifiedAt = MapDataUtil.getTimestamp(rsrcTableDoc, \"MODIFIED_AT\");\\nMapDataUtil.setTimestamp(rsrcTableDoc, \"MODIFIED_AT\", modifiedAt); // 최종수정시간\\n\\n// 생성자\\nString createdBy = MapDataUtil.getString(rsrcTableDoc, \"CREATED_BY\");\\nMapDataUtil.setString(rsrcTableDoc, \"CREATED_BY\", createdBy); // 생성자\\n\\n// 최종수정자\\nString modifiedBy = MapDataUtil.getString(rsrcTableDoc, \"MODIFIED_BY\");\\nMapDataUtil.setString(rsrcTableDoc, \"MODIFIED_BY\", modifiedBy); // 최종수정자\\n```'"
      ]
     },
     "execution_count": 14,
     "metadata": {},
     "output_type": "execute_result"
    }
   ],
   "source": [
    "result"
   ]
  }
 ],
 "metadata": {
  "kernelspec": {
   "display_name": "ragserver",
   "language": "python",
   "name": "python3"
  },
  "language_info": {
   "codemirror_mode": {
    "name": "ipython",
    "version": 3
   },
   "file_extension": ".py",
   "mimetype": "text/x-python",
   "name": "python",
   "nbconvert_exporter": "python",
   "pygments_lexer": "ipython3",
   "version": "3.12.4"
  }
 },
 "nbformat": 4,
 "nbformat_minor": 2
}
