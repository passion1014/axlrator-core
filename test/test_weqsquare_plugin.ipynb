{
 "cells": [
  {
   "cell_type": "markdown",
   "metadata": {},
   "source": [
    "# 서비스 목록\n",
    "### 1. 코드 자동생성\n",
    "    /codeassist/api/predicate\n",
    "\n",
    "### 2. 용어 자동변환\n",
    "    /termconversion/api/conv\n",
    "    \n",
    "### 3. 명령어를 통한 프로그램 작성\n",
    "    /codeassist/api/codewrite\n",
    "    \n",
    "### 4. 주석설명 자동 생성\n",
    "    /codeassist/api/comment\n",
    "\n",
    "### 5. 쿼리 작성 요청\n",
    "    /texttosql/api/makequery\n",
    "\n",
    "### 6. 일반 대화창\n",
    "    /general/api/chat\n",
    "\n"
   ]
  },
  {
   "cell_type": "code",
   "execution_count": null,
   "metadata": {
    "vscode": {
     "languageId": "plaintext"
    }
   },
   "outputs": [],
   "source": [
    "# 1. 코드 자동생성\n",
    "# /codeassist/api/predicate\n"
   ]
  }
 ],
 "metadata": {
  "language_info": {
   "name": "python"
  }
 },
 "nbformat": 4,
 "nbformat_minor": 2
}
