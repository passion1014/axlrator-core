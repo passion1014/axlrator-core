{
 "cells": [
  {
   "cell_type": "code",
   "execution_count": 2,
   "metadata": {},
   "outputs": [],
   "source": [
    "# 공통부분\n",
    "import requests\n",
    "import json\n",
    "from IPython.display import display, Markdown\n",
    "\n",
    "HOST_URL = \"http://localhost:8001\" # URL 설정\n",
    "\n",
    "# 요청 헤더 (필요한 경우 Authorization, Content-Type 등을 설정)\n",
    "HEADERS = {\n",
    "    \"Content-Type\": \"application/json\",\n",
    "    # \"Authorization\": \"Bearer YOUR_API_KEY\"\n",
    "}\n"
   ]
  },
  {
   "cell_type": "code",
   "execution_count": 12,
   "metadata": {},
   "outputs": [
    {
     "name": "stdout",
     "output_type": "stream",
     "text": [
      "Status Code: 200\n",
      "Response JSON: {'response': {'messages': [], 'question': '피보나치함수 만들어', 'response': {'content': 'def fibonacci(n):\\n    if n <= 1:\\n        return n\\n    else:\\n        return(fibonacci(n-1) + fibonacci(n-2))', 'additional_kwargs': {}, 'response_metadata': {'id': 'msg_01JPD4RfqNhLCKuNvMsT6VPy', 'model': 'claude-3-sonnet-20240229', 'stop_reason': 'end_turn', 'stop_sequence': None, 'usage': {'cache_creation_input_tokens': 0, 'cache_read_input_tokens': 0, 'input_tokens': 78, 'output_tokens': 41}}, 'type': 'ai', 'name': None, 'id': 'run-fc665d60-c07d-465b-9f7e-63fd31ce41f3-0', 'example': False, 'tool_calls': [], 'invalid_tool_calls': [], 'usage_metadata': {'input_tokens': 78, 'output_tokens': 41, 'total_tokens': 119, 'input_token_details': {'cache_read': 0, 'cache_creation': 0}}}, 'current_code': ''}}\n"
     ]
    },
    {
     "data": {
      "text/markdown": [
       "def fibonacci(n):\n",
       "    if n <= 1:\n",
       "        return n\n",
       "    else:\n",
       "        return(fibonacci(n-1) + fibonacci(n-2))"
      ],
      "text/plain": [
       "<IPython.core.display.Markdown object>"
      ]
     },
     "metadata": {},
     "output_type": "display_data"
    }
   ],
   "source": [
    "# ---------------------------------------------------------\n",
    "# 코드 자동 완성 (/api/predicate)\n",
    "# ---------------------------------------------------------\n",
    "response = requests.post(f\"{HOST_URL}/codeassist/api/code\", headers=HEADERS, \n",
    "        data=json.dumps({\"indexname\": \"\", \"current_code\": \"\", \"sql_request\" : \"\", \"question\": \"피보나치함수 만들어\"}))\n",
    "print(f\"Status Code:{response.status_code} \\nResponse JSON:{response.json()}\")\n",
    "markdown_output = response.json().get(\"response\").get('response').get('content')\n",
    "display(Markdown(markdown_output))"
   ]
  },
  {
   "cell_type": "code",
   "execution_count": null,
   "metadata": {},
   "outputs": [],
   "source": [
    "# ---------------------------------------------------------\n",
    "# 로그인 (/user/api/login)\n",
    "# - id에 해당하는 정보가 있으면 password로 로그인, 없으면 회원가입\n",
    "# ---------------------------------------------------------\n",
    "response = requests.post(f\"{HOST_URL}/user/api/login\", headers=HEADERS, data=json.dumps({\"user_id\": \"userid15\", \"password\": \"ppp2\" }))\n",
    "print(f\"### Status Code: {response.status_code}\\n### Response JSON: {response.json()}\")\n"
   ]
  },
  {
   "cell_type": "code",
   "execution_count": 17,
   "metadata": {},
   "outputs": [
    {
     "name": "stdout",
     "output_type": "stream",
     "text": [
      "### Status Code: 200\n",
      "### Response JSON: {'response': [{'user_info_id': 2, 'title': 'Sample Chat 1', 'id': 31, 'modified_by': 'user1', 'data': 'This is chat history sample data 1.', 'modified_at': '2025-01-15T11:16:46.859425', 'created_at': '2025-01-15T11:16:46.859425', 'created_by': 'user1'}, {'user_info_id': 2, 'title': 'Sample Chat 2', 'id': 32, 'modified_by': 'user2', 'data': 'This is chat history sample data 2.', 'modified_at': '2025-01-15T11:16:46.859425', 'created_at': '2025-01-15T11:16:46.859425', 'created_by': 'user2'}, {'user_info_id': 2, 'title': 'Sample Chat 3', 'id': 33, 'modified_by': 'user3', 'data': 'This is chat history sample data 3.', 'modified_at': '2025-01-15T11:16:46.859425', 'created_at': '2025-01-15T11:16:46.859425', 'created_by': 'user3'}, {'user_info_id': 2, 'title': 'Sample Chat 4', 'id': 34, 'modified_by': 'user4', 'data': 'This is chat history sample data 4.', 'modified_at': '2025-01-15T11:16:46.859425', 'created_at': '2025-01-15T11:16:46.859425', 'created_by': 'user4'}, {'user_info_id': 2, 'title': 'Sample Chat 5', 'id': 35, 'modified_by': 'user5', 'data': 'This is chat history sample data 5.', 'modified_at': '2025-01-15T11:16:46.859425', 'created_at': '2025-01-15T11:16:46.859425', 'created_by': 'user5'}, {'user_info_id': 2, 'title': 'Sample Chat 6', 'id': 36, 'modified_by': 'user6', 'data': 'This is chat history sample data 6.', 'modified_at': '2025-01-15T11:16:46.859425', 'created_at': '2025-01-15T11:16:46.859425', 'created_by': 'user6'}, {'user_info_id': 2, 'title': 'Sample Chat 7', 'id': 37, 'modified_by': 'user7', 'data': 'This is chat history sample data 7.', 'modified_at': '2025-01-15T11:16:46.859425', 'created_at': '2025-01-15T11:16:46.859425', 'created_by': 'user7'}, {'user_info_id': 2, 'title': 'Sample Chat 8', 'id': 38, 'modified_by': 'user8', 'data': 'This is chat history sample data 8.', 'modified_at': '2025-01-15T11:16:46.859425', 'created_at': '2025-01-15T11:16:46.859425', 'created_by': 'user8'}, {'user_info_id': 2, 'title': 'Sample Chat 9', 'id': 39, 'modified_by': 'user9', 'data': 'This is chat history sample data 9.', 'modified_at': '2025-01-15T11:16:46.859425', 'created_at': '2025-01-15T11:16:46.859425', 'created_by': 'user9'}, {'user_info_id': 2, 'title': 'Sample Chat 10', 'id': 40, 'modified_by': 'user10', 'data': 'This is chat history sample data 10.', 'modified_at': '2025-01-15T11:16:46.859425', 'created_at': '2025-01-15T11:16:46.859425', 'created_by': 'user10'}]}\n"
     ]
    }
   ],
   "source": [
    "# ---------------------------------------------------------\n",
    "# 이력조회 (/user/api/history)\n",
    "# - user_id: str\n",
    "# - type_cd: str (code_assist:코드생성, text2sql:SQL생성)\n",
    "# ---------------------------------------------------------\n",
    "response = requests.post(f\"{HOST_URL}/user/api/history\", headers=HEADERS, data=json.dumps({\"user_id\": \"userid\", \"type_cd\": \"code_assist\" }))\n",
    "print(f\"### Status Code: {response.status_code}\\n### Response JSON: {response.json()}\")\n"
   ]
  }
 ],
 "metadata": {
  "kernelspec": {
   "display_name": "ragserver",
   "language": "python",
   "name": "python3"
  },
  "language_info": {
   "codemirror_mode": {
    "name": "ipython",
    "version": 3
   },
   "file_extension": ".py",
   "mimetype": "text/x-python",
   "name": "python",
   "nbconvert_exporter": "python",
   "pygments_lexer": "ipython3",
   "version": "3.12.5"
  }
 },
 "nbformat": 4,
 "nbformat_minor": 2
}
