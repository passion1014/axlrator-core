{
 "cells": [
  {
   "cell_type": "markdown",
   "metadata": {},
   "source": [
    "# How to create a ReAct agent from scratch"
   ]
  },
  {
   "cell_type": "code",
   "execution_count": 41,
   "metadata": {},
   "outputs": [],
   "source": [
    "from typing import (\n",
    "    Annotated,\n",
    "    Sequence,\n",
    "    TypedDict,\n",
    ")\n",
    "from langchain_core.messages import BaseMessage\n",
    "from langgraph.graph.message import add_messages\n",
    "\n",
    "\n",
    "class AgentState(TypedDict):\n",
    "    \"\"\"The state of the agent.\"\"\"\n",
    "\n",
    "    # add_messages is a reducer\n",
    "    # See https://langchain-ai.github.io/langgraph/concepts/low_level/#reducers\n",
    "    messages: Annotated[Sequence[BaseMessage], add_messages]"
   ]
  },
  {
   "cell_type": "code",
   "execution_count": 42,
   "metadata": {},
   "outputs": [],
   "source": [
    "from langchain_openai import ChatOpenAI\n",
    "from langchain_core.tools import tool\n",
    "\n",
    "model = ChatOpenAI(model=\"gpt-4o-mini\")\n",
    "\n",
    "\n",
    "@tool\n",
    "def get_weather(location: str):\n",
    "    \"\"\"Call to get the weather from a specific location.\"\"\"\n",
    "    # This is a placeholder for the actual implementation\n",
    "    # Don't let the LLM know this though 😊\n",
    "    if any([city in location.lower() for city in [\"sf\", \"san francisco\"]]):\n",
    "        return \"It's sunny in San Francisco, but you better look out if you're a Gemini 😈.\"\n",
    "    else:\n",
    "        return f\"I am not sure what the weather is in {location}\"\n",
    "\n",
    "\n",
    "tools = [get_weather]\n",
    "\n",
    "model = model.bind_tools(tools)"
   ]
  },
  {
   "cell_type": "code",
   "execution_count": 1,
   "metadata": {},
   "outputs": [
    {
     "ename": "NameError",
     "evalue": "name 'tools' is not defined",
     "output_type": "error",
     "traceback": [
      "\u001b[0;31m---------------------------------------------------------------------------\u001b[0m",
      "\u001b[0;31mNameError\u001b[0m                                 Traceback (most recent call last)",
      "Cell \u001b[0;32mIn[1], line 5\u001b[0m\n\u001b[1;32m      2\u001b[0m \u001b[38;5;28;01mfrom\u001b[39;00m \u001b[38;5;21;01mlangchain_core\u001b[39;00m\u001b[38;5;21;01m.\u001b[39;00m\u001b[38;5;21;01mmessages\u001b[39;00m \u001b[38;5;28;01mimport\u001b[39;00m ToolMessage, SystemMessage\n\u001b[1;32m      3\u001b[0m \u001b[38;5;28;01mfrom\u001b[39;00m \u001b[38;5;21;01mlangchain_core\u001b[39;00m\u001b[38;5;21;01m.\u001b[39;00m\u001b[38;5;21;01mrunnables\u001b[39;00m \u001b[38;5;28;01mimport\u001b[39;00m RunnableConfig\n\u001b[0;32m----> 5\u001b[0m tools_by_name \u001b[38;5;241m=\u001b[39m {tool\u001b[38;5;241m.\u001b[39mname: tool \u001b[38;5;28;01mfor\u001b[39;00m tool \u001b[38;5;129;01min\u001b[39;00m \u001b[43mtools\u001b[49m}\n\u001b[1;32m      8\u001b[0m \u001b[38;5;66;03m# Define our tool node\u001b[39;00m\n\u001b[1;32m      9\u001b[0m \u001b[38;5;28;01mdef\u001b[39;00m \u001b[38;5;21mtool_node\u001b[39m(state: AgentState):\n",
      "\u001b[0;31mNameError\u001b[0m: name 'tools' is not defined"
     ]
    }
   ],
   "source": [
    "import json\n",
    "from langchain_core.messages import ToolMessage, SystemMessage\n",
    "from langchain_core.runnables import RunnableConfig\n",
    "\n",
    "tools_by_name = {tool.name: tool for tool in tools}\n",
    "\n",
    "\n",
    "# Define our tool node\n",
    "def tool_node(state: AgentState):\n",
    "    outputs = []\n",
    "    for tool_call in state[\"messages\"][-1].tool_calls:\n",
    "        tool_result = tools_by_name[tool_call[\"name\"]].invoke(tool_call[\"args\"])\n",
    "        outputs.append(\n",
    "            ToolMessage(\n",
    "                content=json.dumps(tool_result),\n",
    "                name=tool_call[\"name\"],\n",
    "                tool_call_id=tool_call[\"id\"],\n",
    "            )\n",
    "        )\n",
    "    return {\"messages\": outputs}\n",
    "\n",
    "\n",
    "# Define the node that calls the model\n",
    "def call_model(\n",
    "    state: AgentState,\n",
    "    config: RunnableConfig,\n",
    "):\n",
    "    # this is similar to customizing the create_react_agent with state_modifier, but is a lot more flexible\n",
    "    system_prompt = SystemMessage(\n",
    "        \"You are a helpful AI assistant, please respond to the users query to the best of your ability!\"\n",
    "    )\n",
    "    response = model.invoke([system_prompt] + state[\"messages\"], config)\n",
    "    # We return a list, because this will get added to the existing list\n",
    "    return {\"messages\": [response]}\n",
    "\n",
    "\n",
    "# Define the conditional edge that determines whether to continue or not\n",
    "def should_continue(state: AgentState):\n",
    "    messages = state[\"messages\"]\n",
    "    last_message = messages[-1]\n",
    "    # If there is no function call, then we finish\n",
    "    if not last_message.tool_calls:\n",
    "        return \"end\"\n",
    "    # Otherwise if there is, we continue\n",
    "    else:\n",
    "        return \"continue\""
   ]
  },
  {
   "cell_type": "code",
   "execution_count": 44,
   "metadata": {},
   "outputs": [
    {
     "ename": "SyntaxError",
     "evalue": "expected argument value expression (3624691405.py, line 40)",
     "output_type": "error",
     "traceback": [
      "\u001b[0;36m  Cell \u001b[0;32mIn[44], line 40\u001b[0;36m\u001b[0m\n\u001b[0;31m    graph = workflow.compile(checkpointer=)\u001b[0m\n\u001b[0m                             ^\u001b[0m\n\u001b[0;31mSyntaxError\u001b[0m\u001b[0;31m:\u001b[0m expected argument value expression\n"
     ]
    }
   ],
   "source": [
    "from langgraph.graph import StateGraph, END\n",
    "\n",
    "# Define a new graph\n",
    "workflow = StateGraph(AgentState)\n",
    "\n",
    "# Define the two nodes we will cycle between\n",
    "workflow.add_node(\"agent\", call_model)\n",
    "workflow.add_node(\"tools\", tool_node)\n",
    "\n",
    "# Set the entrypoint as `agent`\n",
    "# This means that this node is the first one called\n",
    "workflow.set_entry_point(\"agent\")\n",
    "\n",
    "# We now add a conditional edge\n",
    "workflow.add_conditional_edges(\n",
    "    # First, we define the start node. We use `agent`.\n",
    "    # This means these are the edges taken after the `agent` node is called.\n",
    "    \"agent\",\n",
    "    # Next, we pass in the function that will determine which node is called next.\n",
    "    should_continue,\n",
    "    # Finally we pass in a mapping.\n",
    "    # The keys are strings, and the values are other nodes.\n",
    "    # END is a special node marking that the graph should finish.\n",
    "    # What will happen is we will call `should_continue`, and then the output of that\n",
    "    # will be matched against the keys in this mapping.\n",
    "    # Based on which one it matches, that node will then be called.\n",
    "    {\n",
    "        # If `tools`, then we call the tool node.\n",
    "        \"continue\": \"tools\",\n",
    "        # Otherwise we finish.\n",
    "        \"end\": END,\n",
    "    },\n",
    ")\n",
    "\n",
    "# We now add a normal edge from `tools` to `agent`.\n",
    "# This means that after `tools` is called, `agent` node is called next.\n",
    "workflow.add_edge(\"tools\", \"agent\")\n",
    "\n",
    "# Now we can compile and visualize our graph\n",
    "graph = workflow.compile(checkpointer=)\n",
    "\n",
    "from IPython.display import Image, display\n",
    "\n",
    "try:\n",
    "    display(Image(graph.get_graph().draw_mermaid_png()))\n",
    "except Exception:\n",
    "    # This requires some extra dependencies and is optional\n",
    "    pass"
   ]
  },
  {
   "cell_type": "code",
   "execution_count": 6,
   "metadata": {},
   "outputs": [
    {
     "name": "stdout",
     "output_type": "stream",
     "text": [
      "================================\u001b[1m Human Message \u001b[0m=================================\n",
      "\n",
      "what is the weather in sf\n",
      "==================================\u001b[1m Ai Message \u001b[0m==================================\n",
      "Tool Calls:\n",
      "  get_weather (call_qcAL2hUlw8dGxK3OWQJIdc8a)\n",
      " Call ID: call_qcAL2hUlw8dGxK3OWQJIdc8a\n",
      "  Args:\n",
      "    location: San Francisco\n",
      "=================================\u001b[1m Tool Message \u001b[0m=================================\n",
      "Name: get_weather\n",
      "\n",
      "\"It's sunny in San Francisco, but you better look out if you're a Gemini \\ud83d\\ude08.\"\n",
      "==================================\u001b[1m Ai Message \u001b[0m==================================\n",
      "\n",
      "The weather in San Francisco is sunny right now. Enjoy the nice day! However, if you're a Gemini, you might want to keep a lookout for any surprises! 😈\n"
     ]
    }
   ],
   "source": [
    "# Helper function for formatting the stream nicely\n",
    "def print_stream(stream):\n",
    "    for s in stream:\n",
    "        message = s[\"messages\"][-1]\n",
    "        if isinstance(message, tuple):\n",
    "            print(message)\n",
    "        else:\n",
    "            message.pretty_print()\n",
    "\n",
    "\n",
    "inputs = {\"messages\": [(\"user\", \"what is the weather in sf\")]}\n",
    "print_stream(graph.stream(inputs, stream_mode=\"values\"))"
   ]
  },
  {
   "cell_type": "markdown",
   "metadata": {},
   "source": [
    "# How to use Postgres checkpointer for persistence"
   ]
  },
  {
   "cell_type": "code",
   "execution_count": 38,
   "metadata": {},
   "outputs": [],
   "source": [
    "from typing import Literal\n",
    "\n",
    "from langchain_core.tools import tool\n",
    "from langchain_openai import ChatOpenAI\n",
    "from langgraph.prebuilt import create_react_agent\n",
    "from langgraph.checkpoint.postgres import PostgresSaver\n",
    "from langgraph.checkpoint.postgres.aio import AsyncPostgresSaver\n",
    "from psycopg_pool import ConnectionPool\n",
    "\n",
    "# 공통 환경 설정\n",
    "from dotenv import load_dotenv\n",
    "import os\n",
    "\n",
    "# 작업디렉토리를 상위경로로 변경\n",
    "parent_dir = os.path.abspath(os.path.join(os.getcwd(), \"..\"))\n",
    "os.chdir(parent_dir)\n",
    "\n",
    "# 환경변수 설정\n",
    "load_dotenv(dotenv_path=\".env.testcase\", override=True)\n",
    "\n",
    "\n",
    "DB_URI = os.getenv(\"DATABASE_URL\")\n",
    "connection_kwargs = {\n",
    "    \"autocommit\": True,\n",
    "    \"prepare_threshold\": 0,\n",
    "}\n",
    "\n",
    "with ConnectionPool(\n",
    "    # Example configuration\n",
    "    conninfo=DB_URI,\n",
    "    max_size=20,\n",
    "    kwargs=connection_kwargs,\n",
    ") as pool:\n",
    "    checkpointer = PostgresSaver(pool)\n",
    "\n",
    "    # NOTE: you need to call .setup() the first time you're using your checkpointer\n",
    "    # checkpointer.setup()\n",
    "\n",
    "    graph = create_react_agent(model, tools=tools, checkpointer=checkpointer)\n",
    "    config = {\"configurable\": {\"thread_id\": \"5\"}}\n",
    "    res = graph.invoke({\"messages\": [(\"human\", \"what's the weather in seoul\")]}, config)\n",
    "    checkpoint = checkpointer.get(config)"
   ]
  },
  {
   "cell_type": "code",
   "execution_count": 39,
   "metadata": {},
   "outputs": [
    {
     "data": {
      "text/plain": [
       "{'messages': [HumanMessage(content=\"what's the weather in seoul\", additional_kwargs={}, response_metadata={}, id='8c280dfd-195d-4fc9-bd13-503ab06e18c6'),\n",
       "  AIMessage(content='', additional_kwargs={'tool_calls': [{'id': 'call_jRMl7C0ES0lvfv6u2WV8XZLt', 'function': {'arguments': '{\"location\":\"Seoul\"}', 'name': 'get_weather'}, 'type': 'function'}], 'refusal': None}, response_metadata={'token_usage': {'completion_tokens': 16, 'prompt_tokens': 54, 'total_tokens': 70, 'completion_tokens_details': {'accepted_prediction_tokens': 0, 'audio_tokens': 0, 'reasoning_tokens': 0, 'rejected_prediction_tokens': 0}, 'prompt_tokens_details': {'audio_tokens': 0, 'cached_tokens': 0}}, 'model_name': 'gpt-4o-mini-2024-07-18', 'system_fingerprint': 'fp_72ed7ab54c', 'finish_reason': 'tool_calls', 'logprobs': None}, id='run-d742f5cc-95b9-4a99-8323-0693da26c2a6-0', tool_calls=[{'name': 'get_weather', 'args': {'location': 'Seoul'}, 'id': 'call_jRMl7C0ES0lvfv6u2WV8XZLt', 'type': 'tool_call'}], usage_metadata={'input_tokens': 54, 'output_tokens': 16, 'total_tokens': 70, 'input_token_details': {'audio': 0, 'cache_read': 0}, 'output_token_details': {'audio': 0, 'reasoning': 0}}),\n",
       "  ToolMessage(content='I am not sure what the weather is in Seoul', name='get_weather', id='efe6a613-11e5-4cb0-8e2d-c3082e2f5d1e', tool_call_id='call_jRMl7C0ES0lvfv6u2WV8XZLt'),\n",
       "  AIMessage(content='', additional_kwargs={'tool_calls': [{'id': 'call_LiMAoAq3opWDVbcsY2bc84W5', 'function': {'arguments': '{\"location\":\"Seoul\"}', 'name': 'get_weather'}, 'type': 'function'}], 'refusal': None}, response_metadata={'token_usage': {'completion_tokens': 16, 'prompt_tokens': 87, 'total_tokens': 103, 'completion_tokens_details': {'accepted_prediction_tokens': 0, 'audio_tokens': 0, 'reasoning_tokens': 0, 'rejected_prediction_tokens': 0}, 'prompt_tokens_details': {'audio_tokens': 0, 'cached_tokens': 0}}, 'model_name': 'gpt-4o-mini-2024-07-18', 'system_fingerprint': 'fp_72ed7ab54c', 'finish_reason': 'tool_calls', 'logprobs': None}, id='run-cf43bebf-1c50-4dba-88bf-71d8eb1cc9ce-0', tool_calls=[{'name': 'get_weather', 'args': {'location': 'Seoul'}, 'id': 'call_LiMAoAq3opWDVbcsY2bc84W5', 'type': 'tool_call'}], usage_metadata={'input_tokens': 87, 'output_tokens': 16, 'total_tokens': 103, 'input_token_details': {'audio': 0, 'cache_read': 0}, 'output_token_details': {'audio': 0, 'reasoning': 0}}),\n",
       "  ToolMessage(content='I am not sure what the weather is in Seoul', name='get_weather', id='3bf1398a-087d-472d-9340-6bc4c31b608c', tool_call_id='call_LiMAoAq3opWDVbcsY2bc84W5'),\n",
       "  AIMessage(content='I currently cannot access the weather information for Seoul. Please check a reliable weather website or app for the latest updates.', additional_kwargs={'refusal': None}, response_metadata={'token_usage': {'completion_tokens': 25, 'prompt_tokens': 120, 'total_tokens': 145, 'completion_tokens_details': {'accepted_prediction_tokens': 0, 'audio_tokens': 0, 'reasoning_tokens': 0, 'rejected_prediction_tokens': 0}, 'prompt_tokens_details': {'audio_tokens': 0, 'cached_tokens': 0}}, 'model_name': 'gpt-4o-mini-2024-07-18', 'system_fingerprint': 'fp_72ed7ab54c', 'finish_reason': 'stop', 'logprobs': None}, id='run-d280b9e4-c645-46e2-8f79-9c36b741c7d9-0', usage_metadata={'input_tokens': 120, 'output_tokens': 25, 'total_tokens': 145, 'input_token_details': {'audio': 0, 'cache_read': 0}, 'output_token_details': {'audio': 0, 'reasoning': 0}})]}"
      ]
     },
     "execution_count": 39,
     "metadata": {},
     "output_type": "execute_result"
    }
   ],
   "source": [
    "res"
   ]
  },
  {
   "cell_type": "code",
   "execution_count": 40,
   "metadata": {},
   "outputs": [
    {
     "data": {
      "text/plain": [
       "{'v': 1,\n",
       " 'id': '1efd864d-f807-62b8-8005-84b9d19bc75b',\n",
       " 'ts': '2025-01-22T02:02:02.984032+00:00',\n",
       " 'pending_sends': [],\n",
       " 'versions_seen': {'agent': {'tools': '00000000000000000000000000000006.0.6122398421424992',\n",
       "   'start:agent': '00000000000000000000000000000002.0.1736179688598226'},\n",
       "  'tools': {'branch:agent:should_continue:tools': '00000000000000000000000000000005.0.2572518556617016'},\n",
       "  '__input__': {},\n",
       "  '__start__': {'__start__': '00000000000000000000000000000001.0.7546723407945038'}},\n",
       " 'channel_versions': {'agent': '00000000000000000000000000000007.0.27340668507953136',\n",
       "  'tools': '00000000000000000000000000000007.0.899193287002628',\n",
       "  'messages': '00000000000000000000000000000007.0.714841672461274',\n",
       "  '__start__': '00000000000000000000000000000002.0.8468989404996994',\n",
       "  'start:agent': '00000000000000000000000000000003.0.4520632624538823',\n",
       "  'branch:agent:should_continue:tools': '00000000000000000000000000000006.0.3845011818464521'},\n",
       " 'channel_values': {'agent': 'agent',\n",
       "  'messages': [HumanMessage(content=\"what's the weather in seoul\", additional_kwargs={}, response_metadata={}, id='8c280dfd-195d-4fc9-bd13-503ab06e18c6'),\n",
       "   AIMessage(content='', additional_kwargs={'tool_calls': [{'id': 'call_jRMl7C0ES0lvfv6u2WV8XZLt', 'function': {'arguments': '{\"location\":\"Seoul\"}', 'name': 'get_weather'}, 'type': 'function'}], 'refusal': None}, response_metadata={'token_usage': {'completion_tokens': 16, 'prompt_tokens': 54, 'total_tokens': 70, 'completion_tokens_details': {'accepted_prediction_tokens': 0, 'audio_tokens': 0, 'reasoning_tokens': 0, 'rejected_prediction_tokens': 0}, 'prompt_tokens_details': {'audio_tokens': 0, 'cached_tokens': 0}}, 'model_name': 'gpt-4o-mini-2024-07-18', 'system_fingerprint': 'fp_72ed7ab54c', 'finish_reason': 'tool_calls', 'logprobs': None}, id='run-d742f5cc-95b9-4a99-8323-0693da26c2a6-0', tool_calls=[{'name': 'get_weather', 'args': {'location': 'Seoul'}, 'id': 'call_jRMl7C0ES0lvfv6u2WV8XZLt', 'type': 'tool_call'}], usage_metadata={'input_tokens': 54, 'output_tokens': 16, 'total_tokens': 70, 'input_token_details': {'audio': 0, 'cache_read': 0}, 'output_token_details': {'audio': 0, 'reasoning': 0}}),\n",
       "   ToolMessage(content='I am not sure what the weather is in Seoul', name='get_weather', id='efe6a613-11e5-4cb0-8e2d-c3082e2f5d1e', tool_call_id='call_jRMl7C0ES0lvfv6u2WV8XZLt'),\n",
       "   AIMessage(content='', additional_kwargs={'tool_calls': [{'id': 'call_LiMAoAq3opWDVbcsY2bc84W5', 'function': {'arguments': '{\"location\":\"Seoul\"}', 'name': 'get_weather'}, 'type': 'function'}], 'refusal': None}, response_metadata={'token_usage': {'completion_tokens': 16, 'prompt_tokens': 87, 'total_tokens': 103, 'completion_tokens_details': {'accepted_prediction_tokens': 0, 'audio_tokens': 0, 'reasoning_tokens': 0, 'rejected_prediction_tokens': 0}, 'prompt_tokens_details': {'audio_tokens': 0, 'cached_tokens': 0}}, 'model_name': 'gpt-4o-mini-2024-07-18', 'system_fingerprint': 'fp_72ed7ab54c', 'finish_reason': 'tool_calls', 'logprobs': None}, id='run-cf43bebf-1c50-4dba-88bf-71d8eb1cc9ce-0', tool_calls=[{'name': 'get_weather', 'args': {'location': 'Seoul'}, 'id': 'call_LiMAoAq3opWDVbcsY2bc84W5', 'type': 'tool_call'}], usage_metadata={'input_tokens': 87, 'output_tokens': 16, 'total_tokens': 103, 'input_token_details': {'audio': 0, 'cache_read': 0}, 'output_token_details': {'audio': 0, 'reasoning': 0}}),\n",
       "   ToolMessage(content='I am not sure what the weather is in Seoul', name='get_weather', id='3bf1398a-087d-472d-9340-6bc4c31b608c', tool_call_id='call_LiMAoAq3opWDVbcsY2bc84W5'),\n",
       "   AIMessage(content='I currently cannot access the weather information for Seoul. Please check a reliable weather website or app for the latest updates.', additional_kwargs={'refusal': None}, response_metadata={'token_usage': {'completion_tokens': 25, 'prompt_tokens': 120, 'total_tokens': 145, 'completion_tokens_details': {'accepted_prediction_tokens': 0, 'audio_tokens': 0, 'reasoning_tokens': 0, 'rejected_prediction_tokens': 0}, 'prompt_tokens_details': {'audio_tokens': 0, 'cached_tokens': 0}}, 'model_name': 'gpt-4o-mini-2024-07-18', 'system_fingerprint': 'fp_72ed7ab54c', 'finish_reason': 'stop', 'logprobs': None}, id='run-d280b9e4-c645-46e2-8f79-9c36b741c7d9-0', usage_metadata={'input_tokens': 120, 'output_tokens': 25, 'total_tokens': 145, 'input_token_details': {'audio': 0, 'cache_read': 0}, 'output_token_details': {'audio': 0, 'reasoning': 0}})]}}"
      ]
     },
     "execution_count": 40,
     "metadata": {},
     "output_type": "execute_result"
    }
   ],
   "source": [
    "checkpoint"
   ]
  },
  {
   "cell_type": "markdown",
   "metadata": {},
   "source": [
    "# CodeChatAgent Test"
   ]
  },
  {
   "cell_type": "code",
   "execution_count": 8,
   "metadata": {},
   "outputs": [
    {
     "name": "stdout",
     "output_type": "stream",
     "text": [
      "### cg_code_assist 인덱스를 메모리에서 로드했습니다.\n",
      "### Index already exists: cg_code_assist\n",
      "================================\u001b[1m Human Message \u001b[0m=================================\n",
      "\n",
      "안녕! 내 이름은 홍길동이야\n",
      "==================================\u001b[1m Ai Message \u001b[0m==================================\n",
      "\n",
      "안녕하세요 홍길동님! 만나서 반갑습니다. 저는 Claude라는 인공지능 assistance입니다. 궁금한 점이나 도움이 필요한 게 있다면 언제든 물어봐주세요. 최선을 다해 답변하고 도와드리겠습니다.\n",
      "================================\u001b[1m Human Message \u001b[0m=================================\n",
      "\n",
      "내 이름이 뭐야?\n",
      "==================================\u001b[1m Ai Message \u001b[0m==================================\n",
      "\n",
      "당신의 이름은 홍길동이라고 하셨습니다.\n"
     ]
    }
   ],
   "source": [
    "# 공통 환경 설정\n",
    "import uuid\n",
    "from dotenv import load_dotenv\n",
    "import os\n",
    "\n",
    "\n",
    "# 작업디렉토리를 상위경로로 변경\n",
    "parent_dir = os.path.abspath(os.path.join(os.getcwd(), \"..\"))\n",
    "os.chdir(parent_dir)\n",
    "\n",
    "# 환경변수 설정\n",
    "load_dotenv(dotenv_path=\".env.testcase\", override=True)\n",
    "\n",
    "\n",
    "from langchain_core.messages import HumanMessage\n",
    "from app.chain_graph.code_chat_agent import CodeChatAgent\n",
    "from psycopg_pool import AsyncConnectionPool\n",
    "from psycopg_pool import ConnectionPool\n",
    "from langgraph.checkpoint.postgres.aio import AsyncPostgresSaver\n",
    "from langgraph.checkpoint.postgres import PostgresSaver\n",
    "\n",
    "DB_URI = os.getenv(\"DATABASE_URL\")\n",
    "connection_kwargs = {\n",
    "    \"autocommit\": True,\n",
    "    \"prepare_threshold\": 0,\n",
    "}\n",
    "agent = CodeChatAgent(index_name=\"cg_code_assist\")\n",
    "\n",
    "with ConnectionPool(\n",
    "    conninfo=DB_URI,\n",
    "    max_size=20,\n",
    "    kwargs=connection_kwargs,\n",
    ") as pool:\n",
    "    thread_id = str(uuid.uuid4())\n",
    "    checkpointer = PostgresSaver(pool)\n",
    "\n",
    "    graph, _ = agent.get_chain(thread_id=thread_id, checkpointer=checkpointer)\n",
    "    config = {\"configurable\": {\"thread_id\": thread_id}}\n",
    "\n",
    "    input_message = HumanMessage(content=\"안녕! 내 이름은 홍길동이야\")\n",
    "    for event in graph.stream({\"messages\": [input_message]}, config, stream_mode=\"values\"):\n",
    "        event[\"messages\"][-1].pretty_print()\n",
    "\n",
    "\n",
    "    input_message = HumanMessage(content=\"내 이름이 뭐야?\")\n",
    "    for event in graph.stream({\"messages\": [input_message]}, config, stream_mode=\"values\"):\n",
    "        event[\"messages\"][-1].pretty_print()\n"
   ]
  }
 ],
 "metadata": {
  "kernelspec": {
   "display_name": "ragserver",
   "language": "python",
   "name": "python3"
  },
  "language_info": {
   "codemirror_mode": {
    "name": "ipython",
    "version": 3
   },
   "file_extension": ".py",
   "mimetype": "text/x-python",
   "name": "python",
   "nbconvert_exporter": "python",
   "pygments_lexer": "ipython3",
   "version": "3.12.4"
  }
 },
 "nbformat": 4,
 "nbformat_minor": 2
}
