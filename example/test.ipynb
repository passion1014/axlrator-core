{
 "cells": [
  {
   "cell_type": "code",
   "execution_count": 14,
   "metadata": {},
   "outputs": [],
   "source": [
    "from typing import List, Tuple\n",
    "\n",
    "def format_chat_history(chat_history: List[Tuple]) -> str:\n",
    "    buffer = \"\"\n",
    "    for dialogue_turn in chat_history:\n",
    "        human = \"Human: \" + dialogue_turn[0]\n",
    "        ai = \"Assistant: \" + dialogue_turn[1]\n",
    "        buffer += \"\\n\".join([human, ai]) + \"\\n\"\n",
    "    return buffer"
   ]
  },
  {
   "cell_type": "code",
   "execution_count": 15,
   "metadata": {},
   "outputs": [
    {
     "name": "stdout",
     "output_type": "stream",
     "text": [
      "Human: 1\n",
      "Assistant: 2\n",
      "Human: 3\n",
      "Assistant: 4\n",
      "Human: 5\n",
      "Assistant: 6\n",
      "\n"
     ]
    }
   ],
   "source": [
    "\n",
    "data = [('1', '2', 'a'), ('3', '4'), ('5', '6')]\n",
    "print(format_chat_history(data))\n"
   ]
  }
 ],
 "metadata": {
  "kernelspec": {
   "display_name": "langservtest",
   "language": "python",
   "name": "python3"
  },
  "language_info": {
   "codemirror_mode": {
    "name": "ipython",
    "version": 3
   },
   "file_extension": ".py",
   "mimetype": "text/x-python",
   "name": "python",
   "nbconvert_exporter": "python",
   "pygments_lexer": "ipython3",
   "version": "3.11.9"
  }
 },
 "nbformat": 4,
 "nbformat_minor": 2
}
