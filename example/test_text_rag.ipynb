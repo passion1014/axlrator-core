{
 "cells": [
  {
   "cell_type": "code",
   "execution_count": null,
   "metadata": {},
   "outputs": [],
   "source": [
    "import os\n",
    "from langchain.text_splitter import CharacterTextSplitter\n",
    "from langchain_openai import OpenAIEmbeddings  # 경로 수정\n",
    "from langchain.vectorstores import Chroma\n",
    "from dotenv import load_dotenv\n",
    "import chardet\n",
    "import chromadb\n",
    "from chromadb.config import Settings\n",
    "\n",
    "# .env 파일 로드\n",
    "dotenv_path = os.path.join('/Users/passion1014/project/langchain/langserve-template/example', '..', '.env')\n",
    "load_dotenv(dotenv_path)\n",
    "\n",
    "# 1. a.txt 파일 로드\n",
    "file_path = './norway.txt'\n",
    "with open(file_path, 'rb') as f:\n",
    "    raw_data = f.read()\n",
    "    result = chardet.detect(raw_data)\n",
    "    file_encoding = result['encoding']\n",
    "\n",
    "with open(file_path, 'r', encoding=file_encoding) as file:\n",
    "    text = file.read()\n"
   ]
  },
  {
   "cell_type": "code",
   "execution_count": null,
   "metadata": {},
   "outputs": [],
   "source": [
    "# 2. 의미별로 chunk로 나누기\n",
    "text_splitter = CharacterTextSplitter(chunk_size=1000, chunk_overlap=100)\n",
    "chunks = text_splitter.split_text(text)\n",
    "texts = text_splitter.create_documents([text])\n",
    "\n",
    "\n",
    "# 3. chunk 데이터를 embedding\n",
    "embedding_model = OpenAIEmbeddings()\n",
    "new_client = chromadb.EphemeralClient()\n",
    "\n",
    "chunk_embeddings = embedding_model.embed_documents(chunks)\n",
    "\n"
   ]
  },
  {
   "cell_type": "code",
   "execution_count": 17,
   "metadata": {},
   "outputs": [],
   "source": [
    "# load it into Chroma\n",
    "# db = Chroma.from_documents(chunks, embedding_model, client=new_client, collection_name=\"openai_collection\")\n",
    "db = Chroma.from_documents(documents=texts, embedding=embedding_model)\n",
    "\n",
    "\n"
   ]
  },
  {
   "cell_type": "code",
   "execution_count": 19,
   "metadata": {},
   "outputs": [
    {
     "name": "stdout",
     "output_type": "stream",
     "text": [
      "상실의 시대\n",
      "   지은이: 무라카미하루키\n",
      "   출판사: 문학사상사\n",
      "   \n",
      "\n",
      "   상실의 시대\n",
      "   제 1장 나를 꼭 기억해 주었으면 해요\n"
     ]
    }
   ],
   "source": [
    "\n",
    "query = \"이 책의 작가는 누구야?\"\n",
    "docs = db.similarity_search(query)\n",
    "\n",
    "# print results\n",
    "print(docs[0].page_content)"
   ]
  }
 ],
 "metadata": {
  "kernelspec": {
   "display_name": "langservtest",
   "language": "python",
   "name": "python3"
  },
  "language_info": {
   "codemirror_mode": {
    "name": "ipython",
    "version": 3
   },
   "file_extension": ".py",
   "mimetype": "text/x-python",
   "name": "python",
   "nbconvert_exporter": "python",
   "pygments_lexer": "ipython3",
   "version": "3.11.9"
  }
 },
 "nbformat": 4,
 "nbformat_minor": 2
}
